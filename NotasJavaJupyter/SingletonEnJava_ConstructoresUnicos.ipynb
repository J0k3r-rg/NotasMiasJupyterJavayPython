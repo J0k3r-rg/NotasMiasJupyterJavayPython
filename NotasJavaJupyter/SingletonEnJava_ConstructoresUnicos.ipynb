{
 "cells": [
  {
   "cell_type": "markdown",
   "id": "744ff506",
   "metadata": {},
   "source": [
    "# SINGLETON:\n",
    "El patrón de diseño Singleton (instancia única) está diseñado para restringir la creación de objetos pertenecientes a una clase o el valor de un tipo a un único objeto. Su intención consiste en garantizar que una clase sólo tenga una instancia y proporcionar un punto de acceso global a ella. No se encarga de la creación de objetos en sí, sino que se enfoca en la restricción en la creación de un objeto.\n",
    "\n",
    "## Consecuencias\n",
    "El uso del patrón Singleton proporciona los siguientes beneficios:\n",
    "\n",
    "+ Reduce el espacio de nombres. El patrón es una mejora sobre las variables globales. Ya no se reservan nombres para las variables globales, ahora solo existen instancias\n",
    "+ Controla el acceso a la instancia única, porque la clase Singleton encapsula la única instancia. Asi se obtiene control sobre cómo y cuándo se accede a ella.\n",
    "+ Permite el refinamiento de las operaciones y la representación.\n",
    "+ Permite un numero variable de instancias. El patron es facilmente configurable para permitir más de una instancia\n",
    "+ Más flexible que las operaciones de clases\n",
    "\n"
   ]
  },
  {
   "cell_type": "code",
   "execution_count": 13,
   "id": "3cbd0149",
   "metadata": {},
   "outputs": [],
   "source": [
    "public class Singleton {\n",
    " \n",
    "     static private Singleton singleton = new Singleton();\n",
    "     static private nombre =\"\";\n",
    "     static private apellido=\"\";\n",
    "     static private int edad;\n",
    " \n",
    "     private Singleton(String nombre, String apellido, int edad) {\n",
    "         \n",
    "     }\n",
    " \n",
    "     static public Singleton getSingleton() {\n",
    "         return singleton;\n",
    "     }\n",
    "     public String metodo() {\n",
    "         return \"Singleton ya instanciado\";\n",
    "     }\n",
    "     \n",
    " \n",
    " }"
   ]
  },
  {
   "cell_type": "code",
   "execution_count": 14,
   "id": "8e3c7f9e",
   "metadata": {},
   "outputs": [],
   "source": [
    "Singleton single = Singleton.getSingleton()"
   ]
  },
  {
   "cell_type": "code",
   "execution_count": 15,
   "id": "e54d6680",
   "metadata": {},
   "outputs": [
    {
     "data": {
      "text/plain": [
       "REPL.$JShell$13$Singleton@73c86260"
      ]
     },
     "execution_count": 15,
     "metadata": {},
     "output_type": "execute_result"
    }
   ],
   "source": [
    "single"
   ]
  },
  {
   "cell_type": "code",
   "execution_count": 16,
   "id": "6c74fc50",
   "metadata": {},
   "outputs": [],
   "source": [
    "Singleton single2 = Singleton.getSingleton()"
   ]
  },
  {
   "cell_type": "code",
   "execution_count": 17,
   "id": "15fe9b67",
   "metadata": {},
   "outputs": [
    {
     "data": {
      "text/plain": [
       "REPL.$JShell$13$Singleton@73c86260"
      ]
     },
     "execution_count": 17,
     "metadata": {},
     "output_type": "execute_result"
    }
   ],
   "source": [
    "single2"
   ]
  },
  {
   "cell_type": "code",
   "execution_count": 18,
   "id": "4374dec3",
   "metadata": {},
   "outputs": [],
   "source": [
    "Singleton single3 = Singleton.getSingleton()"
   ]
  },
  {
   "cell_type": "code",
   "execution_count": 19,
   "id": "d3121f9e",
   "metadata": {},
   "outputs": [
    {
     "data": {
      "text/plain": [
       "REPL.$JShell$13$Singleton@73c86260"
      ]
     },
     "execution_count": 19,
     "metadata": {},
     "output_type": "execute_result"
    }
   ],
   "source": [
    "single3"
   ]
  },
  {
   "cell_type": "code",
   "execution_count": 20,
   "id": "b4a89175",
   "metadata": {},
   "outputs": [
    {
     "data": {
      "text/plain": [
       "Singleton ya instanciado"
      ]
     },
     "execution_count": 20,
     "metadata": {},
     "output_type": "execute_result"
    }
   ],
   "source": [
    "single.metodo()"
   ]
  },
  {
   "cell_type": "code",
   "execution_count": 21,
   "id": "098dffdc",
   "metadata": {},
   "outputs": [
    {
     "data": {
      "text/plain": [
       "Singleton ya instanciado"
      ]
     },
     "execution_count": 21,
     "metadata": {},
     "output_type": "execute_result"
    }
   ],
   "source": [
    "single2.metodo()\n"
   ]
  },
  {
   "cell_type": "code",
   "execution_count": 22,
   "id": "dfa647df",
   "metadata": {},
   "outputs": [
    {
     "data": {
      "text/plain": [
       "Singleton ya instanciado"
      ]
     },
     "execution_count": 22,
     "metadata": {},
     "output_type": "execute_result"
    }
   ],
   "source": [
    "single3.metodo()"
   ]
  },
  {
   "cell_type": "code",
   "execution_count": 24,
   "id": "d644e109",
   "metadata": {},
   "outputs": [
    {
     "data": {
      "text/plain": [
       "Singleton ya instanciado"
      ]
     },
     "execution_count": 24,
     "metadata": {},
     "output_type": "execute_result"
    }
   ],
   "source": [
    "Singleton.getSingleton().metodo();"
   ]
  },
  {
   "cell_type": "code",
   "execution_count": 25,
   "id": "3bdd20de",
   "metadata": {},
   "outputs": [
    {
     "data": {
      "text/plain": [
       "REPL.$JShell$13$Singleton@73c86260"
      ]
     },
     "execution_count": 25,
     "metadata": {},
     "output_type": "execute_result"
    }
   ],
   "source": [
    "Singleton.getSingleton()"
   ]
  },
  {
   "cell_type": "code",
   "execution_count": null,
   "id": "ef4cb4c0",
   "metadata": {},
   "outputs": [],
   "source": []
  }
 ],
 "metadata": {
  "kernelspec": {
   "display_name": "Java",
   "language": "java",
   "name": "java"
  },
  "language_info": {
   "codemirror_mode": "java",
   "file_extension": ".jshell",
   "mimetype": "text/x-java-source",
   "name": "Java",
   "pygments_lexer": "java",
   "version": "19.0.2+7-44"
  }
 },
 "nbformat": 4,
 "nbformat_minor": 5
}
