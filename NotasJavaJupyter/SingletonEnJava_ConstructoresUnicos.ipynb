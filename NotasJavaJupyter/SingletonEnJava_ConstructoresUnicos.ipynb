{
 "cells": [
  {
   "cell_type": "markdown",
   "id": "744ff506",
   "metadata": {},
   "source": [
    "# SINGLETON:\n",
    "El patrón de diseño Singleton (instancia única) está diseñado para restringir la creación de objetos pertenecientes a una clase o el valor de un tipo a un único objeto. Su intención consiste en garantizar que una clase sólo tenga una instancia y proporcionar un punto de acceso global a ella. No se encarga de la creación de objetos en sí, sino que se enfoca en la restricción en la creación de un objeto.\n",
    "\n",
    "## Consecuencias\n",
    "El uso del patrón Singleton proporciona los siguientes beneficios:\n",
    "\n",
    "+ Reduce el espacio de nombres. El patrón es una mejora sobre las variables globales. Ya no se reservan nombres para las variables globales, ahora solo existen instancias\n",
    "+ Controla el acceso a la instancia única, porque la clase Singleton encapsula la única instancia. Asi se obtiene control sobre cómo y cuándo se accede a ella.\n",
    "+ Permite el refinamiento de las operaciones y la representación.\n",
    "+ Permite un numero variable de instancias. El patron es facilmente configurable para permitir más de una instancia\n",
    "+ Más flexible que las operaciones de clases\n",
    "\n"
   ]
  },
  {
   "cell_type": "code",
   "execution_count": 1,
   "id": "3cbd0149",
   "metadata": {},
   "outputs": [],
   "source": [
    "public class Singleton {\n",
    " \n",
    "     static private Singleton singleton = null;\n",
    "     static private String nombre;\n",
    "     static private String apellido;\n",
    "     static private int edad;\n",
    " \n",
    "     private Singleton(String nombre, String apellido, int edad) {\n",
    "         this.nombre = nombre;\n",
    "         this.apellido = apellido;\n",
    "         this.edad = edad;\n",
    "     }\n",
    " \n",
    "     static public Singleton getSingleton(String nombre, String apellido, int edad) {\n",
    "         if (singleton == null){\n",
    "             singleton = new Singleton(nombre,apellido,edad);\n",
    "         }\n",
    "         return singleton;\n",
    "     }\n",
    "     public String metodo() {\n",
    "         return \"Singleton ya instanciado\";\n",
    "     }\n",
    "    \n",
    "    public String getNombre(){\n",
    "        return nombre;\n",
    "    }\n",
    "    public void setNombre(String nombre){\n",
    "        this.nombre = nombre;\n",
    "    }\n",
    " \n",
    " }"
   ]
  },
  {
   "cell_type": "code",
   "execution_count": 2,
   "id": "8e3c7f9e",
   "metadata": {},
   "outputs": [],
   "source": [
    "Singleton single = Singleton.getSingleton(\"mauricio\",\"maldonado\",32)"
   ]
  },
  {
   "cell_type": "code",
   "execution_count": 3,
   "id": "e54d6680",
   "metadata": {},
   "outputs": [
    {
     "data": {
      "text/plain": [
       "REPL.$JShell$12$Singleton@25329580"
      ]
     },
     "execution_count": 3,
     "metadata": {},
     "output_type": "execute_result"
    }
   ],
   "source": [
    "single"
   ]
  },
  {
   "cell_type": "code",
   "execution_count": 4,
   "id": "6c74fc50",
   "metadata": {},
   "outputs": [],
   "source": [
    "Singleton single2 = Singleton.getSingleton(\"jorge\",\"antiano\",20)"
   ]
  },
  {
   "cell_type": "code",
   "execution_count": 5,
   "id": "15fe9b67",
   "metadata": {},
   "outputs": [
    {
     "data": {
      "text/plain": [
       "REPL.$JShell$12$Singleton@25329580"
      ]
     },
     "execution_count": 5,
     "metadata": {},
     "output_type": "execute_result"
    }
   ],
   "source": [
    "single2"
   ]
  },
  {
   "cell_type": "code",
   "execution_count": 6,
   "id": "ef4cb4c0",
   "metadata": {},
   "outputs": [
    {
     "data": {
      "text/plain": [
       "mauricio"
      ]
     },
     "execution_count": 6,
     "metadata": {},
     "output_type": "execute_result"
    }
   ],
   "source": [
    "single.getNombre()"
   ]
  },
  {
   "cell_type": "code",
   "execution_count": 7,
   "id": "a2f27af2",
   "metadata": {},
   "outputs": [
    {
     "data": {
      "text/plain": [
       "mauricio"
      ]
     },
     "execution_count": 7,
     "metadata": {},
     "output_type": "execute_result"
    }
   ],
   "source": [
    "single2.getNombre()"
   ]
  },
  {
   "cell_type": "code",
   "execution_count": 8,
   "id": "4990c0b1",
   "metadata": {},
   "outputs": [],
   "source": [
    "single.setNombre(\"jorge\")"
   ]
  },
  {
   "cell_type": "code",
   "execution_count": 9,
   "id": "14b24d69",
   "metadata": {},
   "outputs": [
    {
     "data": {
      "text/plain": [
       "jorge"
      ]
     },
     "execution_count": 9,
     "metadata": {},
     "output_type": "execute_result"
    }
   ],
   "source": [
    "single.getNombre()"
   ]
  },
  {
   "cell_type": "code",
   "execution_count": 10,
   "id": "21a32ddc",
   "metadata": {},
   "outputs": [
    {
     "data": {
      "text/plain": [
       "jorge"
      ]
     },
     "execution_count": 10,
     "metadata": {},
     "output_type": "execute_result"
    }
   ],
   "source": [
    "single2.getNombre()"
   ]
  },
  {
   "cell_type": "code",
   "execution_count": null,
   "id": "709cdf74",
   "metadata": {},
   "outputs": [],
   "source": []
  }
 ],
 "metadata": {
  "kernelspec": {
   "display_name": "Java",
   "language": "java",
   "name": "java"
  },
  "language_info": {
   "codemirror_mode": "java",
   "file_extension": ".jshell",
   "mimetype": "text/x-java-source",
   "name": "Java",
   "pygments_lexer": "java",
   "version": "19.0.2+7-44"
  }
 },
 "nbformat": 4,
 "nbformat_minor": 5
}
