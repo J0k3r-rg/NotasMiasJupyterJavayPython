{
 "cells": [
  {
   "cell_type": "markdown",
   "id": "7db70bb5",
   "metadata": {},
   "source": [
    "# HERENCIA"
   ]
  },
  {
   "cell_type": "markdown",
   "id": "1cfdf972",
   "metadata": {},
   "source": [
    "    Una compañía editorial produce tanto libros impresos como audio-libros en discos\n",
    "    compactos. Diseñe una clase denominada Publicación que almacene el título (cadena)\n",
    "    y el precio (numérico real) de una publicación. A partir de esta clase, derive dos clases:\n",
    "    Libro a la cual le agregue el número de páginas (entero) y CD, a la cual le agregue el\n",
    "    tiempo de reproducción en minutos (numérico real). Cada una de las clases debe tener\n",
    "    propiedades para acceder a sus respectivos datos. "
   ]
  },
  {
   "cell_type": "code",
   "execution_count": 30,
   "id": "d631ed31",
   "metadata": {},
   "outputs": [],
   "source": [
    "public class Publicacion{\n",
    "    private String titulo;\n",
    "    private double precio;\n",
    "    \n",
    "    public Publicacion(String titulo, double precio){\n",
    "        this.titulo = titulo;\n",
    "        this.precio = precio;\n",
    "    }\n",
    "    \n",
    "    public void setTitulo(String titulo){\n",
    "        this.titulo = titulo;\n",
    "    }\n",
    "    public String getTitulo(){\n",
    "        return this.titulo;\n",
    "    }\n",
    "    \n",
    "    public void setPrecio(double precio){\n",
    "        this.precio = precio;\n",
    "    }\n",
    "    public double getPrecio(){\n",
    "        return this.precio;\n",
    "    }\n",
    "}"
   ]
  },
  {
   "cell_type": "code",
   "execution_count": 31,
   "id": "7583012c",
   "metadata": {},
   "outputs": [],
   "source": [
    "public class Libro extends Publicacion{\n",
    "    private int numeroDePaginas;\n",
    "    \n",
    "    public Libro(String titulo,double precio,int numeroDePaginas){\n",
    "        super(titulo,precio);\n",
    "        this.numeroDePaginas = numeroDePaginas;\n",
    "    }\n",
    "    \n",
    "    public void setNumeroDePaginas(int numeroDePaginas){\n",
    "        this.numeroDePaginas = numeroDePaginas;\n",
    "    }\n",
    "    \n",
    "    public int getNumeroDePaginas(){\n",
    "        return this.numeroDePaginas;\n",
    "    }\n",
    "    @Override\n",
    "    public String toString(){\n",
    "        return (\"Titulo: \" + this.getTitulo() +\"\\nPrecio: \"+this.getPrecio()+\"\\nPaginas: \"+this.getNumeroDePaginas());\n",
    "    }\n",
    "}"
   ]
  },
  {
   "cell_type": "code",
   "execution_count": 32,
   "id": "3433c1c3",
   "metadata": {},
   "outputs": [],
   "source": [
    "public class Cd extends Publicacion{\n",
    "    private double tiempo;\n",
    "    \n",
    "    public Cd(String titulo, double precio, double tiempo){\n",
    "        super(titulo,precio);\n",
    "        this.tiempo = tiempo;\n",
    "    }\n",
    "    public void setTiempo(double tiempo){\n",
    "        this.tiempo = tiempo;\n",
    "    }\n",
    "    \n",
    "    public double getTiempo(){\n",
    "        return this.tiempo;\n",
    "    }\n",
    "    \n",
    "    @Override\n",
    "    public String toString(){\n",
    "        return (\"Titulo: \" + this.getTitulo() +\"\\nPrecio: \"+this.getPrecio()+\"\\nTiempo: \"+this.getTiempo());\n",
    "    }\n",
    "}"
   ]
  },
  {
   "cell_type": "code",
   "execution_count": 41,
   "id": "ed259b50",
   "metadata": {},
   "outputs": [],
   "source": [
    "Cd cd1 = new Cd(\"cuentos de amor de locura y de muerte\",200,190.4);\n",
    "Libro libro1 = new Libro(\"El Principito\",160,130);"
   ]
  },
  {
   "cell_type": "code",
   "execution_count": 42,
   "id": "e865b2bf",
   "metadata": {},
   "outputs": [
    {
     "data": {
      "text/plain": [
       "cuentos de amor de locura y de muerte"
      ]
     },
     "execution_count": 42,
     "metadata": {},
     "output_type": "execute_result"
    }
   ],
   "source": [
    "cd1.getTitulo()"
   ]
  },
  {
   "cell_type": "code",
   "execution_count": 43,
   "id": "991fd81e",
   "metadata": {},
   "outputs": [
    {
     "data": {
      "text/plain": [
       "160.0"
      ]
     },
     "execution_count": 43,
     "metadata": {},
     "output_type": "execute_result"
    }
   ],
   "source": [
    "libro1.getPrecio()"
   ]
  },
  {
   "cell_type": "code",
   "execution_count": 44,
   "id": "1403c099",
   "metadata": {},
   "outputs": [
    {
     "name": "stdout",
     "output_type": "stream",
     "text": [
      "Titulo: El Principito\n",
      "Precio: 160.0\n",
      "Paginas: 130\n",
      "Titulo: cuentos de amor de locura y de muerte\n",
      "Precio: 200.0\n",
      "Tiempo: 190.4\n"
     ]
    }
   ],
   "source": [
    "System.out.println(libro1);\n",
    "System.out.print(\"\");\n",
    "System.out.println(cd1);\n"
   ]
  },
  {
   "cell_type": "markdown",
   "id": "e30116bf",
   "metadata": {},
   "source": [
    "Se plantea desarrollar un programa Java que permita la gestión de una empresa agroalimentaria que trabaja con tres tipos de productos: productos frescos, productos refrigerados y productos congelados. Todos los productos llevan esta información común: fecha de caducidad y número de lote. A su vez, cada tipo de producto lleva alguna información específica. Los productos frescos deben llevar la fecha de envasado y el país de origen. Los productos refrigerados deben llevar el código del organismo de supervisión alimentaria. Los productos congelados deben llevar la temperatura de congelación recomendada. Crear el código de las clases Java implementando una relación de herencia desde la superclase Producto hasta las subclases ProductoFresco, ProductoRefrigerado y ProductoCongelado. Cada clase debe disponer de constructor y permitir establecer (set) y recuperar (get) el valor de sus atributos y tener un método que permita mostrar la información del objeto."
   ]
  },
  {
   "cell_type": "code",
   "execution_count": 7,
   "id": "3ac19c61",
   "metadata": {},
   "outputs": [],
   "source": [
    "public abstract class Productos{\n",
    "    private String fechaDeCaducidad;\n",
    "    private int numeroDeLote;\n",
    "    \n",
    "    public Productos(String fechaDeCaducidad,int numeroDeLote){\n",
    "        this.fechaDeCaducidad = fechaDeCaducidad;\n",
    "        this.numeroDeLote = numeroDeLote;\n",
    "    }\n",
    "    \n",
    "    public void setFechaDeCaducidad(String fechaDeCaducidad){\n",
    "        this.fechaDeCaducidad = fechaDeCaducidad;\n",
    "    }\n",
    "    public String getFechaDeCaducidad(){\n",
    "        return this.fechaDeCaducidad;\n",
    "    }\n",
    "    \n",
    "    public void setNumeroDeLote(int numeroDeLote){\n",
    "        this.numeroDeLote = numeroDeLote;\n",
    "    }\n",
    "    public int getNumeroDeLote(){\n",
    "        return this.numeroDeLote;\n",
    "    }\n",
    "    public abstract void saludar();\n",
    "}"
   ]
  },
  {
   "cell_type": "code",
   "execution_count": 10,
   "id": "5a5dd18e",
   "metadata": {},
   "outputs": [],
   "source": [
    "public class Frescos extends Productos{\n",
    "    private String fechaDeEnvazado;\n",
    "    private String paisDeOrigen;\n",
    "    \n",
    "    private Frescos(String fechaDeCaducidad,int numeroDeLote,String fechaDeEnvazado, String paisDeOrigen){\n",
    "        super(fechaDeCaducidad, numeroDeLote);\n",
    "        this.fechaDeEnvazado = fechaDeEnvazado;\n",
    "        this.paisDeOrigen = paisDeOrigen;\n",
    "    }\n",
    "    \n",
    "    public void setFechaDeEnvazado(String fechaDeEnvazado){\n",
    "        this.fechaDeEnvazado = fechaDeEnvazado;\n",
    "    }\n",
    "    public String getFechaDeEnvazado(){\n",
    "        return this.fechaDeEnvazado;\n",
    "    }\n",
    "    \n",
    "    public void setPaisDeOrigen(String paisDeOrigen){\n",
    "        this.paisDeOrigen = paisDeOrigen;\n",
    "    }\n",
    "    public String getPaisDeOrigen(){\n",
    "        return this.paisDeOrigen;\n",
    "    }\n",
    "    \n",
    "    public void saludar(){\n",
    "        System.out.println(\"hola\");\n",
    "    }\n",
    "}"
   ]
  },
  {
   "cell_type": "code",
   "execution_count": 12,
   "id": "2b8e886b",
   "metadata": {},
   "outputs": [],
   "source": [
    "public class Refrigerados extends Productos{\n",
    "    private int codigoDeSupervision;\n",
    "    \n",
    "    public Refrigerados(String fechaDeCaducidad,int numeroDeLote ,int codigoDeSupervision){\n",
    "        super(fechaDeCaducidad, numeroDeLote);\n",
    "        this.codigoDeSupervision = codigoDeSupervision;\n",
    "    }\n",
    "    \n",
    "    public void setCodigoDeSupervision(int paisDeOrigen){\n",
    "        this.codigoDeSupervision = codigoDeSupervision;\n",
    "    }\n",
    "    public int getCodigoDeSupervision(){\n",
    "        return this.codigoDeSupervision;\n",
    "    }\n",
    "    public void saludar(){\n",
    "        System.out.println(\"hola\");\n",
    "    }\n",
    "}"
   ]
  },
  {
   "cell_type": "code",
   "execution_count": 13,
   "id": "ba18e02b",
   "metadata": {},
   "outputs": [],
   "source": [
    "public class Congelados extends Productos{\n",
    "    private double temperaturaDeCongelacion;\n",
    "    \n",
    "    public Congelados(String fechaDeCaducidad,int numeroDeLote , double temperaturaDeCongelacion){\n",
    "    super(fechaDeCaducidad, numeroDeLote);\n",
    "    this.temperaturaDeCongelacion = temperaturaDeCongelacion;\n",
    "    }\n",
    "    \n",
    "    public void setTemperaturaDeCongelacion(double temperaturaDeCongelacion){\n",
    "        this.temperaturaDeCongelacion = temperaturaDeCongelacion;\n",
    "    }\n",
    "    public double getTemperaturaDeCongelacion(){\n",
    "        return this.temperaturaDeCongelacion;\n",
    "    }\n",
    "    public void saludar(){\n",
    "        System.out.println(\"hola\");\n",
    "    }\n",
    "}\n",
    "    \n",
    "    "
   ]
  },
  {
   "cell_type": "code",
   "execution_count": 14,
   "id": "1a5c03ec",
   "metadata": {},
   "outputs": [
    {
     "ename": "CompilationException",
     "evalue": "",
     "output_type": "error",
     "traceback": [
      "\u001b[1m\u001b[30m|   \u001b[1m\u001b[30mProductos lacteos = \u001b[0m\u001b[1m\u001b[30m\u001b[41mnew Productos(\"20 de enero\",1243123)\u001b[0m\u001b[1m\u001b[30m;\u001b[0m",
      "\u001b[1m\u001b[31mProductos is abstract; cannot be instantiated\u001b[0m",
      ""
     ]
    }
   ],
   "source": [
    "Productos lacteos = new Productos(\"20 de enero\",1243123);"
   ]
  },
  {
   "cell_type": "code",
   "execution_count": null,
   "id": "5c51add7",
   "metadata": {},
   "outputs": [],
   "source": []
  }
 ],
 "metadata": {
  "kernelspec": {
   "display_name": "Java",
   "language": "java",
   "name": "java"
  },
  "language_info": {
   "codemirror_mode": "java",
   "file_extension": ".jshell",
   "mimetype": "text/x-java-source",
   "name": "Java",
   "pygments_lexer": "java",
   "version": "19.0.2+7-44"
  }
 },
 "nbformat": 4,
 "nbformat_minor": 5
}
