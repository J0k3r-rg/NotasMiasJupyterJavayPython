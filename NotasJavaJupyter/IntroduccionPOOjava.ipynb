{
 "cells": [
  {
   "cell_type": "markdown",
   "id": "90e046fc",
   "metadata": {},
   "source": [
    "### Ultima Modificacion: 21-03-2023\n",
    "\n",
    "# PRUEBAS DE CLASES Y OBJETOS\n",
    "\n",
    "## Vamos a simular una pelea entre 2 personajes que creamos con nuestra clase Personajes\n",
    "    por ahora solo vamos a hacerlo normal sin encapsulamiento y con algunas cosas simples para poder simular una pelea entre dos personas. La mecanica de la pelea es por turnos y un arma aleatoria en cada turno con la posibilidad de errar el gole, mas delante le vamos a mandar un poco mas de complejidad, quisas podriamos crear una clase que se llame Espadas y dependiendo de la que tenga hacemos un rango de daño.\n",
    "    \n",
    "   ## Manos a la obra"
   ]
  },
  {
   "cell_type": "code",
   "execution_count": 40,
   "id": "710761ec",
   "metadata": {},
   "outputs": [],
   "source": [
    "public class Personajes{\n",
    "    String nombre = \"\";\n",
    "    String tipo = \"\";\n",
    "    String arma = \"mano\";\n",
    "    int vida = 100;\n",
    "    \n",
    "    public Personajes(String nombre, String tipo){\n",
    "        this.nombre = nombre;\n",
    "        this.tipo = tipo;\n",
    "        this.vida = vida;\n",
    "    }\n",
    "    \n",
    "    public void atacar(Personajes personaje){\n",
    "        int danio = 0;\n",
    "        switch(this.arma){\n",
    "            case \"espada\":\n",
    "                danio = (int) (Math.random()*(30-20)+20);\n",
    "                personaje.vida -= danio;\n",
    "                break;\n",
    "            case \"mano\":\n",
    "                danio = (int) (Math.random()*(10-1)+1);\n",
    "                personaje.vida -= danio;\n",
    "                break;\n",
    "            case \"palo\":\n",
    "                danio = (int) (Math.random()*(20-10)+10);\n",
    "                personaje.vida -= danio;\n",
    "                break;\n",
    "        }\n",
    "        if (personaje.vida <= 0 ){\n",
    "            System.out.println(this.nombre+\" ha sacado \"+danio+ \" atacando con \"+this.arma+\" a \" + personaje.nombre +\" le queda 0 de vida.\");\n",
    "            System.out.println(this.nombre+\" has matado a \"+personaje.nombre+\" :'( por que eres tan cruel!!!\");\n",
    "        }else{\n",
    "            System.out.println(this.nombre+\" ha sacado \"+danio+ \" atacando con \"+this.arma+\" a \" + personaje.nombre +\" le quedan \"+personaje.vida+\" de vida.\");\n",
    "        }\n",
    "    }\n",
    "    public void revivir(Personajes personaje){\n",
    "        personaje.tipo=\"zombie\";\n",
    "        personaje.vida = 100;\n",
    "    }    \n",
    "    public void curar(Personajes personaje){\n",
    "        personaje.vida = 100;\n",
    "    }\n",
    "}"
   ]
  },
  {
   "cell_type": "code",
   "execution_count": 41,
   "id": "71410b34",
   "metadata": {},
   "outputs": [],
   "source": [
    "Personajes mauricio = new Personajes(\"mauricio\",\"humano\");\n",
    "Personajes jorge = new Personajes(\"jorge\",\"humano\");\n"
   ]
  },
  {
   "cell_type": "markdown",
   "id": "4c6157d2",
   "metadata": {},
   "source": [
    "## Ya tenemos creados nuestros dos personajes, ahora que se ataquen constantemente hasya que uno muera \n"
   ]
  },
  {
   "cell_type": "code",
   "execution_count": 42,
   "id": "f7ded639",
   "metadata": {},
   "outputs": [
    {
     "name": "stdout",
     "output_type": "stream",
     "text": [
      "jorge ha sacado 24 atacando con espada a mauricio le quedan 76 de vida.\n",
      "mauricio ha sacado 11 atacando con palo a jorge le quedan 89 de vida.\n",
      "jorge has errado el golpe, suerte para la proxima\n",
      "mauricio has errado el golpe, suerte para la proxima\n",
      "jorge ha sacado 25 atacando con espada a mauricio le quedan 51 de vida.\n",
      "mauricio ha sacado 2 atacando con mano a jorge le quedan 87 de vida.\n",
      "mauricio ha sacado 23 atacando con espada a jorge le quedan 64 de vida.\n",
      "mauricio ha sacado 13 atacando con palo a jorge le quedan 51 de vida.\n",
      "jorge ha sacado 16 atacando con palo a mauricio le quedan 35 de vida.\n",
      "mauricio ha sacado 10 atacando con palo a jorge le quedan 41 de vida.\n",
      "jorge ha sacado 23 atacando con espada a mauricio le quedan 12 de vida.\n",
      "mauricio ha sacado 13 atacando con palo a jorge le quedan 28 de vida.\n",
      "jorge has errado el golpe, suerte para la proxima\n",
      "mauricio ha sacado 5 atacando con mano a jorge le quedan 23 de vida.\n",
      "jorge ha sacado 4 atacando con mano a mauricio le quedan 8 de vida.\n",
      "mauricio ha sacado 22 atacando con espada a jorge le quedan 1 de vida.\n",
      "jorge has errado el golpe, suerte para la proxima\n",
      "mauricio has errado el golpe, suerte para la proxima\n",
      "mauricio has errado el golpe, suerte para la proxima\n",
      "mauricio has errado el golpe, suerte para la proxima\n",
      "jorge ha sacado 12 atacando con palo a mauricio le queda 0 de vida.\n",
      "jorge has matado a mauricio :'( por que eres tan cruel!!!\n"
     ]
    }
   ],
   "source": [
    "int ataque;\n",
    "while (true){\n",
    "    ataque = (int) (Math.random()*(7-1)+1);\n",
    "    switch (ataque){\n",
    "        case 1:\n",
    "            jorge.arma =\"mano\";\n",
    "            jorge.atacar(mauricio);\n",
    "            break;\n",
    "        case 2:\n",
    "            jorge.arma =\"palo\";\n",
    "            jorge.atacar(mauricio);\n",
    "            break;\n",
    "        case 3:\n",
    "            jorge.arma =\"espada\";\n",
    "            jorge.atacar(mauricio);\n",
    "            break;\n",
    "        case 4:\n",
    "            System.out.println(jorge.nombre + \" has errado el golpe, suerte para la proxima\");\n",
    "            break;\n",
    "    }\n",
    "    if (mauricio.vida <=0) break;\n",
    "    ataque = (int) (Math.random()*(7-1)+1);\n",
    "    switch (ataque){\n",
    "        case 1:\n",
    "            mauricio.arma =\"mano\";\n",
    "            mauricio.atacar(jorge);\n",
    "            break;\n",
    "        case 2:\n",
    "            mauricio.arma =\"palo\";\n",
    "            mauricio.atacar(jorge);\n",
    "            break;\n",
    "        case 3:\n",
    "            mauricio.arma =\"espada\";\n",
    "            mauricio.atacar(jorge);\n",
    "            break;\n",
    "        default:\n",
    "            System.out.println(mauricio.nombre + \" has errado el golpe, suerte para la proxima\");\n",
    "            break;\n",
    "    }\n",
    "    if (jorge.vida <=0) break;\n",
    "}"
   ]
  },
  {
   "cell_type": "markdown",
   "id": "cef49a62",
   "metadata": {},
   "source": [
    "## Tenemos una persona muerta, y si creamos una persona que reviva?? y un doctor que cure heridos??\n"
   ]
  },
  {
   "cell_type": "code",
   "execution_count": 43,
   "id": "997baa80",
   "metadata": {},
   "outputs": [],
   "source": [
    "Personajes doctor = new Personajes(\"curandero\",\"doctor\");\n",
    "Personajes doctorLoco = new Personajes(\"Dr. Loco\",\"cientifico loco\");"
   ]
  },
  {
   "cell_type": "code",
   "execution_count": 44,
   "id": "dbb19276",
   "metadata": {},
   "outputs": [],
   "source": [
    "doctorLoco.revivir(mauricio);"
   ]
  },
  {
   "cell_type": "code",
   "execution_count": 45,
   "id": "c7f8ba95",
   "metadata": {},
   "outputs": [
    {
     "data": {
      "text/plain": [
       "1"
      ]
     },
     "execution_count": 45,
     "metadata": {},
     "output_type": "execute_result"
    }
   ],
   "source": [
    "jorge.vida"
   ]
  },
  {
   "cell_type": "code",
   "execution_count": 47,
   "id": "1e9d5f64",
   "metadata": {},
   "outputs": [],
   "source": [
    "doctor.curar(jorge)"
   ]
  },
  {
   "cell_type": "code",
   "execution_count": 48,
   "id": "47cbfe9c",
   "metadata": {},
   "outputs": [
    {
     "data": {
      "text/plain": [
       "100"
      ]
     },
     "execution_count": 48,
     "metadata": {},
     "output_type": "execute_result"
    }
   ],
   "source": [
    "jorge.vida"
   ]
  },
  {
   "cell_type": "code",
   "execution_count": 49,
   "id": "379459fa",
   "metadata": {},
   "outputs": [
    {
     "data": {
      "text/plain": [
       "100"
      ]
     },
     "execution_count": 49,
     "metadata": {},
     "output_type": "execute_result"
    }
   ],
   "source": [
    "mauricio.vida"
   ]
  },
  {
   "cell_type": "code",
   "execution_count": 50,
   "id": "0d57c040",
   "metadata": {},
   "outputs": [
    {
     "data": {
      "text/plain": [
       "zombie"
      ]
     },
     "execution_count": 50,
     "metadata": {},
     "output_type": "execute_result"
    }
   ],
   "source": [
    "mauricio.tipo"
   ]
  },
  {
   "cell_type": "markdown",
   "id": "55dd4bca",
   "metadata": {},
   "source": [
    "## EL DOCTOR REVIVIO A MAURICIO, PERO ES UN ZOMBIE CORRAAAANNNN!!!!! \n",
    "\n",
    "### Hay que ponerle un poco de humor ♥\n",
    "\n",
    "    Hasta el momento creamos una clase Personajes para poder hacer dos personas que peleen, una vez terminada la pelea decidimos crear un curandero y una persona que reviva, por suerte el curandero logro c. pero el doctor loco no hizo las cosas como corresponden y ah creado una raza zombie, Estamos en peligro de extincion!! XD\n",
    "    \n",
    "    Esto son solo unos ejemplos de lo que se puede hacer con POO, y podemos crear mas personajes y darles a cada uno sus atributos. Mas adelante veremos que podemos crear clases que hereden la clase PERSONAJES, pero por ahora vamos con ejemplos mas sencillos. \n",
    "    \n",
    "    "
   ]
  },
  {
   "cell_type": "code",
   "execution_count": null,
   "id": "f907f5cb",
   "metadata": {},
   "outputs": [],
   "source": []
  }
 ],
 "metadata": {
  "kernelspec": {
   "display_name": "Java",
   "language": "java",
   "name": "java"
  },
  "language_info": {
   "codemirror_mode": "java",
   "file_extension": ".jshell",
   "mimetype": "text/x-java-source",
   "name": "Java",
   "pygments_lexer": "java",
   "version": "19.0.2+7-44"
  }
 },
 "nbformat": 4,
 "nbformat_minor": 5
}
