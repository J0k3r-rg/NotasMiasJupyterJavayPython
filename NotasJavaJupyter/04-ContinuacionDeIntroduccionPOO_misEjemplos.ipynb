{
 "cells": [
  {
   "cell_type": "code",
   "execution_count": 21,
   "id": "194a9d68",
   "metadata": {},
   "outputs": [],
   "source": [
    "public class Personas{\n",
    "    public String nombre ;\n",
    "    public String apellido =\"\";\n",
    "    public int edad = 0;\n",
    "    \n",
    "    public Personas(){}\n",
    "    public Personas(String nombre, String apellido){\n",
    "        this.nombre = nombre;\n",
    "        this.apellido = apellido;\n",
    "    }\n",
    "}"
   ]
  },
  {
   "cell_type": "code",
   "execution_count": 12,
   "id": "5fd30955",
   "metadata": {},
   "outputs": [
    {
     "name": "stdout",
     "output_type": "stream",
     "text": [
      "ingrese nombre: \n",
      "mauricio\n",
      "ingrese apellido\n",
      "maldonado\n"
     ]
    }
   ],
   "source": [
    "import java.util.Scanner;\n",
    "\n",
    "Scanner leer = new Scanner(System.in);\n",
    "\n",
    "System.out.println(\"ingrese nombre: \");\n",
    "String nombre = leer.nextLine();\n",
    "System.out.println(\"ingrese apellido\");\n",
    "String apellido = leer.nextLine();\n",
    "\n",
    "Personas persona1 = new Personas(nombre,apellido);"
   ]
  },
  {
   "cell_type": "code",
   "execution_count": 13,
   "id": "9159a822",
   "metadata": {},
   "outputs": [
    {
     "data": {
      "text/plain": [
       "mauricio"
      ]
     },
     "execution_count": 13,
     "metadata": {},
     "output_type": "execute_result"
    }
   ],
   "source": [
    "persona1.nombre"
   ]
  },
  {
   "cell_type": "code",
   "execution_count": 14,
   "id": "54611971",
   "metadata": {},
   "outputs": [
    {
     "data": {
      "text/plain": [
       "maldonado"
      ]
     },
     "execution_count": 14,
     "metadata": {},
     "output_type": "execute_result"
    }
   ],
   "source": [
    "persona1.apellido"
   ]
  },
  {
   "cell_type": "code",
   "execution_count": 22,
   "id": "540bf2a1",
   "metadata": {},
   "outputs": [],
   "source": [
    "Personas persona2 = new Personas();"
   ]
  },
  {
   "cell_type": "code",
   "execution_count": 23,
   "id": "7ddd3f6d",
   "metadata": {},
   "outputs": [
    {
     "data": {
      "text/plain": []
     },
     "execution_count": 23,
     "metadata": {},
     "output_type": "execute_result"
    }
   ],
   "source": [
    "persona2.nombre"
   ]
  },
  {
   "cell_type": "code",
   "execution_count": null,
   "id": "64825ca3",
   "metadata": {},
   "outputs": [],
   "source": []
  }
 ],
 "metadata": {
  "kernelspec": {
   "display_name": "Java",
   "language": "java",
   "name": "java"
  },
  "language_info": {
   "codemirror_mode": "java",
   "file_extension": ".jshell",
   "mimetype": "text/x-java-source",
   "name": "Java",
   "pygments_lexer": "java",
   "version": "19.0.2+7-44"
  }
 },
 "nbformat": 4,
 "nbformat_minor": 5
}
