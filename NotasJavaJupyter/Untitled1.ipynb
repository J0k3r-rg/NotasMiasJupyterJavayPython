{
 "cells": [
  {
   "cell_type": "code",
   "execution_count": 1,
   "id": "73063712",
   "metadata": {},
   "outputs": [],
   "source": [
    "public class Persona{\n",
    "    \n",
    "    public Persona(){}\n",
    "    \n",
    "}"
   ]
  },
  {
   "cell_type": "code",
   "execution_count": 6,
   "id": "5780d7d0",
   "metadata": {},
   "outputs": [],
   "source": [
    "Persona[] personas = new Persona[2];"
   ]
  },
  {
   "cell_type": "code",
   "execution_count": null,
   "id": "26b4b7f4",
   "metadata": {},
   "outputs": [],
   "source": []
  }
 ],
 "metadata": {
  "kernelspec": {
   "display_name": "Java",
   "language": "java",
   "name": "java"
  },
  "language_info": {
   "codemirror_mode": "java",
   "file_extension": ".jshell",
   "mimetype": "text/x-java-source",
   "name": "Java",
   "pygments_lexer": "java",
   "version": "19.0.2+7-44"
  }
 },
 "nbformat": 4,
 "nbformat_minor": 5
}
