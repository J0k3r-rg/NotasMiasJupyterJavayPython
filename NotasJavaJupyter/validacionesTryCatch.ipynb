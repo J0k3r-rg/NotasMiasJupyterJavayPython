{
 "cells": [
  {
   "cell_type": "markdown",
   "id": "2f45daa5",
   "metadata": {},
   "source": [
    "# VALIDACIONES CON TRY/CATCH\n",
    "\n",
    "Por el momento solo lo realizaremos con los int y los double. \n",
    "\n",
    "Nota: recordar que si queremos validar cadenas tendriamos que crear una funcion para validar los caracteres que nosotros le permitiremos usar al usuario.\n"
   ]
  },
  {
   "cell_type": "markdown",
   "id": "03d5738f",
   "metadata": {},
   "source": [
    "## TRY CATCH PARA ENTEROS\n",
    "\n",
    "Esta es una manera de hacerlo con try catch y sin necesidad de utilizar una funcion que tengamos que validar caracteres\n"
   ]
  },
  {
   "cell_type": "code",
   "execution_count": 1,
   "id": "c2fa3f4f",
   "metadata": {},
   "outputs": [
    {
     "name": "stdout",
     "output_type": "stream",
     "text": [
      "ingrese un numero de tipo INT: hola\n",
      "HA INGRESADO UN DATO INCORRECTO\n",
      "ingrese un numero de tipo INT: como\n",
      "HA INGRESADO UN DATO INCORRECTO\n",
      "ingrese un numero de tipo INT: estas\n",
      "HA INGRESADO UN DATO INCORRECTO\n",
      "ingrese un numero de tipo INT: 123.3\n",
      "HA INGRESADO UN DATO INCORRECTO\n",
      "ingrese un numero de tipo INT: 1209\n"
     ]
    }
   ],
   "source": [
    "import java.util.InputMismatchException;\n",
    "\n",
    "Scanner leer = new Scanner(System.in);\n",
    "int numero;\n",
    "do {\n",
    "    try {\n",
    "        System.out.print(\"ingrese un numero de tipo INT: \");\n",
    "        numero = leer.nextInt();\n",
    "        break;\n",
    "    } catch (InputMismatchException ex) {\n",
    "        System.out.println(\"HA INGRESADO UN DATO INCORRECTO\");\n",
    "        leer.nextLine();\n",
    "    }\n",
    "} while (true);"
   ]
  },
  {
   "cell_type": "code",
   "execution_count": 4,
   "id": "f86ef4af",
   "metadata": {},
   "outputs": [
    {
     "data": {
      "text/plain": [
       "1209"
      ]
     },
     "execution_count": 4,
     "metadata": {},
     "output_type": "execute_result"
    }
   ],
   "source": [
    "numero"
   ]
  },
  {
   "cell_type": "markdown",
   "id": "bda0f6dd",
   "metadata": {},
   "source": [
    "## TRY CATCH PARA DOUBLE.\n",
    "\n",
    "Vemos que es lo mismo que los enteros nada mas que ahora nos permite ingresar numeros con coma\n",
    "\n",
    "Nota: Recordar que matematicamente al poder ingresar numeros reales tambien podemos ingresar los tipos de numeros que tambien pertenecen a los reales. Los numeros enteros pertenecen a los reales y por lo tanto este try/catch sirve para ttodos los numeros menos los imaginarios"
   ]
  },
  {
   "cell_type": "code",
   "execution_count": 2,
   "id": "97c1e5ff",
   "metadata": {},
   "outputs": [
    {
     "name": "stdout",
     "output_type": "stream",
     "text": [
      "ingrese un numero de tipo DOUBLE o INT: hoa\n",
      "HA INGRESADO UN DATO INCORRECTO\n",
      "ingrese un numero de tipo DOUBLE o INT: como\n",
      "HA INGRESADO UN DATO INCORRECTO\n",
      "ingrese un numero de tipo DOUBLE o INT: estas\n",
      "HA INGRESADO UN DATO INCORRECTO\n",
      "ingrese un numero de tipo DOUBLE o INT: todo bien?\n",
      "HA INGRESADO UN DATO INCORRECTO\n",
      "ingrese un numero de tipo DOUBLE o INT: 123 12\n"
     ]
    }
   ],
   "source": [
    "double numero2;\n",
    "do {\n",
    "    try {\n",
    "        System.out.print(\"ingrese un numero de tipo DOUBLE o INT: \");\n",
    "        numero2 = leer.nextDouble();\n",
    "        break;\n",
    "    } catch (InputMismatchException ex) {\n",
    "        System.out.println(\"HA INGRESADO UN DATO INCORRECTO\");\n",
    "        leer.nextLine();\n",
    "    }\n",
    "} while (true);"
   ]
  },
  {
   "cell_type": "code",
   "execution_count": 3,
   "id": "33942a63",
   "metadata": {},
   "outputs": [
    {
     "data": {
      "text/plain": [
       "123.0"
      ]
     },
     "execution_count": 3,
     "metadata": {},
     "output_type": "execute_result"
    }
   ],
   "source": [
    "numero2"
   ]
  },
  {
   "cell_type": "markdown",
   "id": "19decf63",
   "metadata": {},
   "source": [
    "### POR SI PREGUNTAN QUE PASO?\n",
    "Aclararemos que el metodo nextDouble() del objeto Scanner leer va a tomar los valores de la linea hasta que encuentre un espacio, o un enter... por eso es que mi variable numero2 es igual a 123 y no te tiro error, ya que el 12 lo ignora por completo al estar separado por un espacio."
   ]
  }
 ],
 "metadata": {
  "kernelspec": {
   "display_name": "Java",
   "language": "java",
   "name": "java"
  },
  "language_info": {
   "codemirror_mode": "java",
   "file_extension": ".jshell",
   "mimetype": "text/x-java-source",
   "name": "Java",
   "pygments_lexer": "java",
   "version": "19.0.2+7-44"
  }
 },
 "nbformat": 4,
 "nbformat_minor": 5
}
