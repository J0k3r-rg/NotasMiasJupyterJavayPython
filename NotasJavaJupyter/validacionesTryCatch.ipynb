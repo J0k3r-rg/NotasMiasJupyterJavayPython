{
 "cells": [
  {
   "cell_type": "code",
   "execution_count": 6,
   "id": "c2fa3f4f",
   "metadata": {},
   "outputs": [
    {
     "name": "stdout",
     "output_type": "stream",
     "text": [
      "ingrese un numero de tipo INT: 1\n"
     ]
    }
   ],
   "source": [
    "import java.util.InputMismatchException;\n",
    "\n",
    "Scanner leer = new Scanner(System.in);\n",
    "int numero;\n",
    "do {\n",
    "    try {\n",
    "        System.out.print(\"ingrese un numero de tipo INT: \");\n",
    "        numero = leer.nextInt();\n",
    "        break;\n",
    "    } catch (InputMismatchException ex) {\n",
    "        System.out.println(\"HA INGRESADO UN DATO INCORRECTO\");\n",
    "        leer.nextLine();\n",
    "    }\n",
    "} while (true);"
   ]
  },
  {
   "cell_type": "code",
   "execution_count": 5,
   "id": "97c1e5ff",
   "metadata": {},
   "outputs": [
    {
     "name": "stdout",
     "output_type": "stream",
     "text": [
      "ingrese un numero de tipo DOUBLE o INT: hoa\n",
      "HA INGRESADO UN DATO INCORRECTO\n",
      "ingrese un numero de tipo DOUBLE o INT: 1.2.2.\n",
      "HA INGRESADO UN DATO INCORRECTO\n",
      "ingrese un numero de tipo DOUBLE o INT: 1.3\n"
     ]
    }
   ],
   "source": [
    "double numero2;\n",
    "do {\n",
    "    try {\n",
    "        System.out.print(\"ingrese un numero de tipo DOUBLE o INT: \");\n",
    "        numero2 = leer.nextDouble();\n",
    "        break;\n",
    "    } catch (InputMismatchException ex) {\n",
    "        System.out.println(\"HA INGRESADO UN DATO INCORRECTO\");\n",
    "        leer.nextLine();\n",
    "    }\n",
    "} while (true);"
   ]
  }
 ],
 "metadata": {
  "kernelspec": {
   "display_name": "Java",
   "language": "java",
   "name": "java"
  },
  "language_info": {
   "codemirror_mode": "java",
   "file_extension": ".jshell",
   "mimetype": "text/x-java-source",
   "name": "Java",
   "pygments_lexer": "java",
   "version": "19.0.2+7-44"
  }
 },
 "nbformat": 4,
 "nbformat_minor": 5
}
