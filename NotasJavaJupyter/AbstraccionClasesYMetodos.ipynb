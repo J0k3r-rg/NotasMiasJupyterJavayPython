{
 "cells": [
  {
   "cell_type": "markdown",
   "id": "69e99012",
   "metadata": {},
   "source": [
    "# Abstraccion\n",
    "    Tema interesante el de ahora, \"abstraccion\" . \n",
    "    \n",
    "    Comenzaremos con algo simple... que es abstraccion? me diras no se ! y te enojaras... pero la pregunta que hago es general, osea la definicion de la palabra abstraccion! ... me diras tampoco lo se XD, bueno buscamos en GOOGLE. \n",
    "    Aqui hay una definicion en folosofia : La abstracción es una operación mental destinada a aislar conceptualmente una propiedad o función concreta de un objeto, y pensar qué es, ignorando otras propiedades del objeto en cuestión.\n",
    "    mmmm... no me queda claro , Vamos a buscar mejor que es abstracto XD... \n",
    "    1.  [concepto, cualidad] Que se obtiene por abstracción.\n",
    "    \"la verdad y el bien son ideas abstractas\"\n",
    "    2.  Que resulta difícil de entender por tener el carácter esquemático y poco concreto propio de lo que se obtiene por abstracción.\n",
    "    \"un filme abstracto\"\n",
    "    \n",
    "    HASTA YO ME PERDI XD... bueno vamos a ver si podemos intentar decirlo de otra manera... generalmente lo abstracto es imaginario, esta ahi pero no se ve, o algo por el estilo... REALLL ES DIFICIL EXPLICAR XD... pero bueno por ahora concentremos en algo imaginario que esta ahi.\n",
    "\n",
    "## En programacion es algo similiar, pero NO TAN SIMILAR ... OJO con eso\n",
    "    \n",
    "    Bien, una clase abstracta es una clase, valga la redundancia, que esta ahi. Tiene atributos y metodos, PEROOOOO no se pueden instanciar objetos con esa clase. Otra cosa que tienen las clases abstractas es que si o si! ... es muy importante SI O SI TIENEN QUE SER SUPER CLASES O CLASES PADRE... Osea que tiene que HABER HERENCIA SI O SI para que tambien haya abstaccion.\n",
    "    \n",
    "## Vamos a decir algunas cositas \n",
    "    - Si una clase es abstracta, al menos debe tener obligatoriamente una clase hija\n",
    "        Ejemplo:     Clase abstracta Personas{}\n",
    "                 clase hijas:\n",
    "                    Hombre extends Personas{}        Mujer extends Personas{}\n",
    "    - Si una Clase es abstracta no se pueden instanciar objetos de esa clase... Osea que ya no servira de molde para crear objetos de ese tipo... y ustedes diran ... PORQUE? no me sirve que sea abstracta? ... SI sirve!!! y mucho!!!! ahora explicaremos con ejemplos\n",
    "    "
   ]
  },
  {
   "cell_type": "code",
   "execution_count": 24,
   "id": "2653d354",
   "metadata": {},
   "outputs": [],
   "source": [
    "public abstract class Personas{\n",
    "    private String nombre;\n",
    "    private int edad;\n",
    "    \n",
    "    public Personas(String nombre,int edad){\n",
    "        this.nombre = nombre;\n",
    "        this.edad = edad;\n",
    "    }\n",
    "    \n",
    "    public void setNombre(String nombre){\n",
    "        this.nombre = nombre;\n",
    "    }\n",
    "    public String getNombre(){\n",
    "        return this.nombre;\n",
    "    }\n",
    "    public void setEdad(int edad){\n",
    "        this.edad = edad;\n",
    "    }\n",
    "    public String getEdad(){\n",
    "        return this.nombre;\n",
    "    }\n",
    "    \n",
    "    public void saludar(){\n",
    "        System.out.println(\"hola\");\n",
    "    }\n",
    "}\n",
    "\n",
    "public class Hombre extends Personas{\n",
    "\n",
    "    public Hombre(String nombre,int edad){\n",
    "        super(nombre,edad);\n",
    "    }\n",
    "\n",
    "}\n",
    "\n",
    "public class Mujer extends Personas{\n",
    "\n",
    "    public Mujer(String nombre,int edad){\n",
    "        super(nombre,edad);\n",
    "    }\n",
    "\n",
    "}"
   ]
  },
  {
   "cell_type": "markdown",
   "id": "b1f00094",
   "metadata": {},
   "source": [
    "## Como vemos arriba tenemos nuestras clases\n",
    "    Creamos la clase padre Personas y 2 clases que heredan Personas (mujer y hombre) \n",
    "    \n",
    "    1- vamos a intentar instanciar un objeto de la clase Personas y vemos que sucede\n",
    "    2- vamos a instanciar un objeto de la clase Hombre\n",
    "    3- vamos a instanciar un objeto de la clase Mujer"
   ]
  },
  {
   "cell_type": "code",
   "execution_count": 25,
   "id": "40a3d8d1",
   "metadata": {},
   "outputs": [
    {
     "ename": "CompilationException",
     "evalue": "",
     "output_type": "error",
     "traceback": [
      "\u001b[1m\u001b[30m|   \u001b[1m\u001b[30mPersonas persona = \u001b[0m\u001b[1m\u001b[30m\u001b[41mnew Personas(\"mauricio\",32)\u001b[0m\u001b[1m\u001b[30m;\u001b[0m",
      "\u001b[1m\u001b[31mPersonas is abstract; cannot be instantiated\u001b[0m",
      ""
     ]
    }
   ],
   "source": [
    "Personas persona = new Personas(\"mauricio\",32)"
   ]
  },
  {
   "cell_type": "code",
   "execution_count": 26,
   "id": "d2f5db16",
   "metadata": {},
   "outputs": [
    {
     "data": {
      "text/plain": [
       "REPL.$JShell$13J$Hombre@14c8fcd1"
      ]
     },
     "execution_count": 26,
     "metadata": {},
     "output_type": "execute_result"
    }
   ],
   "source": [
    "Hombre hombre1 = new Hombre(\"mauricio\",32);\n",
    "hombre1"
   ]
  },
  {
   "cell_type": "code",
   "execution_count": 27,
   "id": "42b511ad",
   "metadata": {},
   "outputs": [
    {
     "data": {
      "text/plain": [
       "REPL.$JShell$14J$Mujer@28eb1cb0"
      ]
     },
     "execution_count": 27,
     "metadata": {},
     "output_type": "execute_result"
    }
   ],
   "source": [
    "Mujer mujer1 = new Mujer(\"mariana\",28);\n",
    "mujer1"
   ]
  },
  {
   "cell_type": "markdown",
   "id": "2e07109b",
   "metadata": {},
   "source": [
    "## Como habiamos adelantado\n",
    "    No se puede instanciar objetos de una clase abstracta... es algo que esta ahi y vamos a usar sus metodos y atributos para las clases hijas. como a continuacion usaremos metodos de hambos objetos\n",
    "    "
   ]
  },
  {
   "cell_type": "code",
   "execution_count": 28,
   "id": "91605aae",
   "metadata": {},
   "outputs": [
    {
     "data": {
      "text/plain": [
       "mauricio"
      ]
     },
     "execution_count": 28,
     "metadata": {},
     "output_type": "execute_result"
    }
   ],
   "source": [
    "hombre1.getNombre()"
   ]
  },
  {
   "cell_type": "code",
   "execution_count": 29,
   "id": "ada62329",
   "metadata": {},
   "outputs": [
    {
     "data": {
      "text/plain": [
       "mariana"
      ]
     },
     "execution_count": 29,
     "metadata": {},
     "output_type": "execute_result"
    }
   ],
   "source": [
    "mujer1.getNombre()"
   ]
  },
  {
   "cell_type": "code",
   "execution_count": 30,
   "id": "6a84260c",
   "metadata": {},
   "outputs": [
    {
     "name": "stdout",
     "output_type": "stream",
     "text": [
      "hola\r\n"
     ]
    }
   ],
   "source": [
    "hombre1.saludar()"
   ]
  },
  {
   "cell_type": "code",
   "execution_count": 31,
   "id": "809807d4",
   "metadata": {},
   "outputs": [
    {
     "name": "stdout",
     "output_type": "stream",
     "text": [
      "hola\r\n"
     ]
    }
   ],
   "source": [
    "mujer1.saludar()"
   ]
  },
  {
   "cell_type": "markdown",
   "id": "badcbcc6",
   "metadata": {},
   "source": [
    "# COMO VIMOS NO PODEMOS CREAR NADA A PARTIR DE LO ABSTRACTO \n",
    "    Por que eso es, algo abstracto. Recuerden que tenemos que abrir la mente mas que los lgtb...\n",
    "    \n",
    "    Vamos a seguir avanzando y vamos a ver los metodos... metodos Abstractos y decis que! \n",
    "    \n",
    "    Bien metodos abstractos son METODOS (XD) que si o si tienen que tener las clases hijas, BASICAMENTE\n",
    "    \n",
    "    Vamos a mostrar con ejemplos mejor\n",
    "    \n",
    "    Vamos a recordar una cosa muy importante... \n",
    "    BASTA CON QUE LA CLASE TENGA 1 SOLO METODO ABSTRACTO PARA QUE LA CLASE TAMBIEN LO SEA, \n",
    "    \n",
    "    ESPEREMOS QUE SE ENTEINDA! QUE SI TIENE UN METODO ABSTRACTO ESTAN OBLIGADOS SI O SI !!! A QUE LA CLASE TAMBIEN LO SEA.\n",
    "    \n",
    "    En este ejemplo vamos a usarlo con los seres vivos... Sabemos que todos se alimentan... pero como lo hacen? es una respuesta muy dificil de responder por que eso depende de que ser vivo hablamos (plantas o Animales) y pero si seguimos analizando y nos preguntamos como comen los animales? seria medio dificil, no todos comen lo mismo o no todos lo hacen de la misma forma... esta vez los vamos a separar solo en Hervivoros y Carnivoros para el ejemplo\n",
    "    "
   ]
  },
  {
   "cell_type": "code",
   "execution_count": 33,
   "id": "f42679db",
   "metadata": {},
   "outputs": [],
   "source": [
    "public abstract class SeresVivos{\n",
    "    \n",
    "    // definimos el metodo abstracto y nada mas! lo que quiere decir que todas las clases hijas tienen que tenerlo si o si\n",
    "    public abstract void alimentar();\n",
    "    \n",
    "}\n",
    "\n",
    "public class Plantas extends SeresVivos{\n",
    "    public Plantas(){\n",
    "        super();\n",
    "    }\n",
    "    \n",
    "    public void alimentar(){\n",
    "        System.out.println(\"Yo me alimento a travez de la fotosintesis\");\n",
    "    }\n",
    "}\n",
    "\n",
    "public abstract class Animales extends SeresVivos{\n",
    "    public Animales(){\n",
    "        super();\n",
    "    }\n",
    "    \n",
    "    //volvemos al mismo problema y no sabemos como se alimentan por que todos lo hacen de una manera diferente\n",
    "    // entonces hereda el metodo de la clase padre y por lo tanto la clase tambien tiene que ser abstracta.\n",
    "}\n",
    "\n",
    "public class Carnivoros extends Animales{\n",
    "    public Carnivoros(){\n",
    "        super();\n",
    "    }\n",
    "    \n",
    "    // como ya sabemos que los carnivoros comen carne aqui ya podemos darle cuerpo al metodo\n",
    "    \n",
    "    public void alimentar(){\n",
    "        System.out.println(\"Yo me alimento cominedo carne\");\n",
    "    }\n",
    "}\n",
    "\n",
    "public class Hervivoros extends Animales{\n",
    "    public Hervivoros(){\n",
    "        super();\n",
    "    }\n",
    "    \n",
    "    // como ya sabemos que los hervivoros comen plantas aqui ya podemos darle cuerpo al metodo\n",
    "    \n",
    "    public void alimentar(){\n",
    "        System.out.println(\"Yo me alimento comiendo plantas\");\n",
    "    }\n",
    "}"
   ]
  },
  {
   "cell_type": "markdown",
   "id": "2c11ff5e",
   "metadata": {},
   "source": [
    "## AHORA LAS PRUEBAS\n",
    "\n"
   ]
  },
  {
   "cell_type": "code",
   "execution_count": 34,
   "id": "54534c8a",
   "metadata": {},
   "outputs": [
    {
     "ename": "CompilationException",
     "evalue": "",
     "output_type": "error",
     "traceback": [
      "\u001b[1m\u001b[30m|   \u001b[1m\u001b[30mSeresVivos servivo1 = \u001b[0m\u001b[1m\u001b[30m\u001b[41mnew SeresVivos()\u001b[0m\u001b[1m\u001b[30m;\u001b[0m",
      "\u001b[1m\u001b[31mSeresVivos is abstract; cannot be instantiated\u001b[0m",
      ""
     ]
    }
   ],
   "source": [
    "//vamos a intentar crear otra vez de pesado que somos objetos abstractos\n",
    "SeresVivos servivo1 = new SeresVivos();\n"
   ]
  },
  {
   "cell_type": "code",
   "execution_count": 35,
   "id": "787f599c",
   "metadata": {},
   "outputs": [
    {
     "ename": "CompilationException",
     "evalue": "",
     "output_type": "error",
     "traceback": [
      "\u001b[1m\u001b[30m|   \u001b[1m\u001b[30mAnimales animal1 = \u001b[0m\u001b[1m\u001b[30m\u001b[41mnew Animales()\u001b[0m\u001b[1m\u001b[30m;\u001b[0m",
      "\u001b[1m\u001b[31mAnimales is abstract; cannot be instantiated\u001b[0m",
      ""
     ]
    }
   ],
   "source": [
    "Animales animal1 = new Animales();"
   ]
  },
  {
   "cell_type": "markdown",
   "id": "8fef5124",
   "metadata": {},
   "source": [
    "### Tenemos el mismo ERROR NO SE PUEDEN INSTANCIAR OBJETOS DE CLASES ABSTRACTAS"
   ]
  },
  {
   "cell_type": "code",
   "execution_count": 38,
   "id": "9791f91c",
   "metadata": {},
   "outputs": [
    {
     "name": "stdout",
     "output_type": "stream",
     "text": [
      "REPL.$JShell$34$Plantas@69f07a1\n",
      "REPL.$JShell$36$Carnivoros@858e902\n",
      "REPL.$JShell$37$Hervivoros@c676cd1\n"
     ]
    }
   ],
   "source": [
    "/// ahora si INSTANCIAREMOS OBJETOS DE LAS CLASES ABSTRACTAS\n",
    "Plantas planta1 = new Plantas();\n",
    "Carnivoros carnivoro1 = new Carnivoros();\n",
    "Hervivoros hervivoro1 = new Hervivoros();\n",
    "\n",
    "System.out.println(planta1);\n",
    "System.out.println(carnivoro1);\n",
    "System.out.println(hervivoro1);"
   ]
  },
  {
   "cell_type": "markdown",
   "id": "c3d3c26a",
   "metadata": {},
   "source": [
    "## PERFECTO ME INSTANCIO SIN PROBLEMA LOS OBJETOS AHORA POR MAS PRUEBAS"
   ]
  },
  {
   "cell_type": "code",
   "execution_count": null,
   "id": "63e93bc3",
   "metadata": {},
   "outputs": [],
   "source": []
  }
 ],
 "metadata": {
  "kernelspec": {
   "display_name": "Java",
   "language": "java",
   "name": "java"
  },
  "language_info": {
   "codemirror_mode": "java",
   "file_extension": ".jshell",
   "mimetype": "text/x-java-source",
   "name": "Java",
   "pygments_lexer": "java",
   "version": "19.0.2+7-44"
  }
 },
 "nbformat": 4,
 "nbformat_minor": 5
}
