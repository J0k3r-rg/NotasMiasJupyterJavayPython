{
 "cells": [
  {
   "cell_type": "markdown",
   "id": "9409b4fb",
   "metadata": {},
   "source": [
    "### Ultima modificacion: 20-03-2023\n",
    "\n",
    "# MIS NOTAS Y PRUEBAS SOBRE OBJETOS\n",
    "\n",
    "## primero crearemos una clase para despues realizar pruebas\n",
    "\n",
    "### IMPORTANTE:\n",
    "TODO LO QUE SE ECNUENTRA ESCRITO A CONTINUACION SON PRUEBAS Y SUPOSICIONES MIAS, ES MI PUNTO DE VISTA Y SON PRUBEAS QUE HE REALIZADO. "
   ]
  },
  {
   "cell_type": "code",
   "execution_count": 1,
   "id": "43ee00a5",
   "metadata": {},
   "outputs": [],
   "source": [
    "public class Persona{\n",
    "    \n",
    "    String nombre =\"\";\n",
    "    String apellido=\"\";\n",
    "    int edad = 0;\n",
    "    \n",
    "    // ------   construstor de la clase   ------\n",
    "    public Persona(String nombre, String apellido,int edad){\n",
    "        this.nombre = nombre;\n",
    "        this.apellido = apellido;\n",
    "        this.edad = edad;\n",
    "    }\n",
    "    \n",
    "}"
   ]
  },
  {
   "cell_type": "markdown",
   "id": "5de88535",
   "metadata": {},
   "source": [
    "### INSTANCIAMOS EL OBJETO PERSONA1 Y LE DAMOS VALORES A SUS PROPIEDADES\n"
   ]
  },
  {
   "cell_type": "code",
   "execution_count": 2,
   "id": "5571bc19",
   "metadata": {},
   "outputs": [],
   "source": [
    "Persona persona1 = new Persona(\"mauricio\",\"maldonado\",32);"
   ]
  },
  {
   "cell_type": "markdown",
   "id": "e5a730ef",
   "metadata": {},
   "source": [
    "## INSTANCIAR \n",
    "\n",
    "Instanciar objetos es el proceso de generar un ejemplar de una clase, es decir, la clase es como una declaración de una forma y el objeto es un caso o elemento concreto que responde a esa forma.\n",
    "\n",
    "SUPISICION MIA: No estoy muy seguro pero cuando instanciamos un objeto lo que se hace es reservar un espacio en memoria y que el objeto apunte a ese espacio, trabaja de manera distinta a una variable.\n",
    "\n",
    "Recordar que una clase es como un molde el cual nos sirve para crear varios objetos con sus propiedades, un ejemplo muy claro es el de Personas, podriamos tener una clase \"Personas\" con sus propiedades como \"nombre\",\"apellido\", \"dni\", \"edad\", \"nacionalidad\" y un sin fin de propiedades. No todas las personas son iguales y por mas que tengan el mismo nombre, apellido y quisas algunas cosas mas no son los mismos ya que estan en lugares diferentes. "
   ]
  },
  {
   "cell_type": "code",
   "execution_count": 3,
   "id": "57151b12",
   "metadata": {},
   "outputs": [
    {
     "data": {
      "text/plain": [
       "REPL.$JShell$12$Persona@27f91ada"
      ]
     },
     "execution_count": 3,
     "metadata": {},
     "output_type": "execute_result"
    }
   ],
   "source": [
    "persona1"
   ]
  },
  {
   "cell_type": "markdown",
   "id": "15865d2f",
   "metadata": {},
   "source": [
    "### Interesante\n",
    "vemos que nos muestra algo raro, si volvemos a ejecutar la instanciacion del objeto persona1 vamos a ver que lo que estta despues del arroba cambia. vamos a instanciarlo de nuevo y veremos que sucede"
   ]
  },
  {
   "cell_type": "code",
   "execution_count": 4,
   "id": "0eecd780",
   "metadata": {},
   "outputs": [],
   "source": [
    "Persona persona1 = new Persona(\"mauricio\",\"maldonado\",32);"
   ]
  },
  {
   "cell_type": "code",
   "execution_count": 5,
   "id": "dd9a02bd",
   "metadata": {},
   "outputs": [
    {
     "data": {
      "text/plain": [
       "REPL.$JShell$12$Persona@4afe145e"
      ]
     },
     "execution_count": 5,
     "metadata": {},
     "output_type": "execute_result"
    }
   ],
   "source": [
    "persona1"
   ]
  },
  {
   "cell_type": "markdown",
   "id": "03fd8393",
   "metadata": {},
   "source": [
    "### QUE PASO?\n",
    "Suponemos que eso que esta despues del @ es la direccion de memoria a cual apunta el objeto persona1\n",
    "\n",
    "Crearemos otro objeto persona2 y le vamos a pasar las mismas propiedades que le dimos a persona1"
   ]
  },
  {
   "cell_type": "code",
   "execution_count": 6,
   "id": "eb286aa9",
   "metadata": {},
   "outputs": [],
   "source": [
    "Persona persona2 = new Persona(\"mauricio\",\"maldonado\",32);"
   ]
  },
  {
   "cell_type": "code",
   "execution_count": 7,
   "id": "b3b5ce26",
   "metadata": {},
   "outputs": [
    {
     "data": {
      "text/plain": [
       "REPL.$JShell$12$Persona@6503dcb4"
      ]
     },
     "execution_count": 7,
     "metadata": {},
     "output_type": "execute_result"
    }
   ],
   "source": [
    "persona2"
   ]
  },
  {
   "cell_type": "markdown",
   "id": "f8943065",
   "metadata": {},
   "source": [
    "### suponemos que los dos objetos persona1 y persona2 son iguales?\n",
    "Al crear los objetos vamos a creer o suponer que hambos son iguales, vamos a compararlos y ver que es lo que sucede"
   ]
  },
  {
   "cell_type": "code",
   "execution_count": 8,
   "id": "8825d94a",
   "metadata": {},
   "outputs": [
    {
     "data": {
      "text/plain": [
       "false"
      ]
     },
     "execution_count": 8,
     "metadata": {},
     "output_type": "execute_result"
    }
   ],
   "source": [
    "persona1 == persona2"
   ]
  },
  {
   "cell_type": "markdown",
   "id": "ddb0ac5f",
   "metadata": {},
   "source": [
    "### QUE PASO?\n",
    "\n",
    "segun mis conocimientos hasta el momento cuando instanciamos un objeto lo que hacemos es reservar un espacio en memoria y almacenamos todas sus propiedades ahi, y el objeto lo utilizamos para acceder a ese espacio en memoria ya que ese mismo apunta ahi. "
   ]
  },
  {
   "cell_type": "markdown",
   "id": "0742c385",
   "metadata": {},
   "source": [
    "### Vamos a persona1 igualarla a null y ver que sucede, y despues asiganmos persona2 a persona1 "
   ]
  },
  {
   "cell_type": "code",
   "execution_count": 9,
   "id": "8a8467e7",
   "metadata": {},
   "outputs": [],
   "source": [
    "persona1 = null"
   ]
  },
  {
   "cell_type": "code",
   "execution_count": 10,
   "id": "5474f844",
   "metadata": {},
   "outputs": [
    {
     "ename": "EvalException",
     "evalue": "Cannot read field \"nombre\" because \"REPL.$JShell$13.persona1\" is null",
     "output_type": "error",
     "traceback": [
      "\u001b[1m\u001b[31m---------------------------------------------------------------------------\u001b[0m",
      "\u001b[1m\u001b[31mjava.lang.NullPointerException: Cannot read field \"nombre\" because \"REPL.$JShell$13.persona1\" is null\u001b[0m",
      "\u001b[1m\u001b[31m\tat .(#20:1)\u001b[0m"
     ]
    }
   ],
   "source": [
    "persona1.nombre"
   ]
  },
  {
   "cell_type": "code",
   "execution_count": 11,
   "id": "877e4eb2",
   "metadata": {},
   "outputs": [],
   "source": [
    "persona1 = persona2"
   ]
  },
  {
   "cell_type": "code",
   "execution_count": 12,
   "id": "4fd2942e",
   "metadata": {},
   "outputs": [
    {
     "data": {
      "text/plain": [
       "REPL.$JShell$12$Persona@6503dcb4"
      ]
     },
     "execution_count": 12,
     "metadata": {},
     "output_type": "execute_result"
    }
   ],
   "source": [
    "persona1"
   ]
  },
  {
   "cell_type": "markdown",
   "id": "3607851a",
   "metadata": {},
   "source": [
    "## QUE SUCEDIO? \n",
    "### habremos puesto los valores de persona2 a persona1???"
   ]
  },
  {
   "cell_type": "code",
   "execution_count": 13,
   "id": "87f8d8a7",
   "metadata": {},
   "outputs": [
    {
     "name": "stdout",
     "output_type": "stream",
     "text": [
      "mauricio\n",
      "maldonado\n",
      "32\n",
      "\n",
      "mauricio\n",
      "maldonado\n",
      "32\n"
     ]
    }
   ],
   "source": [
    "System.out.println(persona1.nombre);\n",
    "System.out.println(persona1.apellido);\n",
    "System.out.println(persona1.edad);\n",
    "System.out.println(\"\");\n",
    "System.out.println(persona2.nombre);\n",
    "System.out.println(persona2.apellido);\n",
    "System.out.println(persona2.edad);\n"
   ]
  },
  {
   "cell_type": "code",
   "execution_count": 14,
   "id": "333297bb",
   "metadata": {},
   "outputs": [
    {
     "data": {
      "text/plain": [
       "100"
      ]
     },
     "execution_count": 14,
     "metadata": {},
     "output_type": "execute_result"
    }
   ],
   "source": [
    "persona1.nombre = \"ezequiel\";\n",
    "persona1.apellido =\"kawasaki\";\n",
    "persona1.edad = 100;"
   ]
  },
  {
   "cell_type": "code",
   "execution_count": 15,
   "id": "cc90caeb",
   "metadata": {},
   "outputs": [
    {
     "data": {
      "text/plain": [
       "ezequiel"
      ]
     },
     "execution_count": 15,
     "metadata": {},
     "output_type": "execute_result"
    }
   ],
   "source": [
    "persona1.nombre"
   ]
  },
  {
   "cell_type": "code",
   "execution_count": 16,
   "id": "03511668",
   "metadata": {},
   "outputs": [
    {
     "data": {
      "text/plain": [
       "ezequiel"
      ]
     },
     "execution_count": 16,
     "metadata": {},
     "output_type": "execute_result"
    }
   ],
   "source": [
    "persona2.nombre"
   ]
  },
  {
   "cell_type": "code",
   "execution_count": 17,
   "id": "9429439d",
   "metadata": {},
   "outputs": [
    {
     "data": {
      "text/plain": [
       "kawasaki"
      ]
     },
     "execution_count": 17,
     "metadata": {},
     "output_type": "execute_result"
    }
   ],
   "source": [
    "persona2.apellido"
   ]
  },
  {
   "cell_type": "code",
   "execution_count": 18,
   "id": "f6d9fe4d",
   "metadata": {},
   "outputs": [
    {
     "data": {
      "text/plain": [
       "100"
      ]
     },
     "execution_count": 18,
     "metadata": {},
     "output_type": "execute_result"
    }
   ],
   "source": [
    "persona2.edad"
   ]
  },
  {
   "cell_type": "markdown",
   "id": "b6c9d4d9",
   "metadata": {},
   "source": [
    "# Y AHORA?\n",
    "Vimos que primero igualamos a persona1 con null, e intentamos acceder a su nombre y como vimos no pudimos acceder ya que el objeto no apunta a nada. despues tratamos de pasarle las propiedades de persona2 a persona1 e intentamos modificarle el nombre a persona1. pero al consultar los nombres de las 2 personas se modificaron los 2.\n",
    "Como ya explicamos antes los objetos apuntan a una direccion en memoria, pero cuando a persona1 la igualamos a null dejo deapuntar a su direccion de memoria que tenia inicialmente. Al igualarlo a persona2 lo que hicimos es pasarle la referencia de hacia donde apunta persona2. Por lo tanto perona1 y persona2 apuntan exactamente al mismo lugar en memoria, y puedo acceder a ese lugar mediante los dos objetos que creamos inicialmente\n",
    "### ENTONCES QUE SUCEDE CUANDO SUPUESTAMENTE CREAMOS UN OBJETO?\n",
    "Eso te toca averiguarlo a vos\n"
   ]
  },
  {
   "cell_type": "markdown",
   "id": "1a322235",
   "metadata": {},
   "source": [
    "# AHORA HAREMOS PRUEBAS CON OBJETOS Y ATRIBUTOS PRIVADOS\n",
    "\n",
    "Crearemos la clase personas y haremos que tenga 2 constructores, uno para que lo inicien con sus propiedades estan definidas al inicio de la clase, OJO no estan vacios si no que nombre = \"\", apellido =\"\" y edad=0. Intentaremos asignarle valores accediendo a sus propiedades"
   ]
  },
  {
   "cell_type": "code",
   "execution_count": 19,
   "id": "1a004d0a",
   "metadata": {},
   "outputs": [],
   "source": [
    "public class Personas{\n",
    "    private String nombre=\"\";\n",
    "    private String apellido=\"\";\n",
    "    private int edad=0;\n",
    "    public Personas(){\n",
    "        \n",
    "    }\n",
    "    public Personas(String nombre, String apellido,int edad){\n",
    "        this.nombre = nombre;\n",
    "        this.apellido = apellido;\n",
    "        this.edad = edad;\n",
    "    }\n",
    "}"
   ]
  },
  {
   "cell_type": "code",
   "execution_count": 20,
   "id": "aba71061",
   "metadata": {},
   "outputs": [
    {
     "data": {
      "text/plain": [
       "REPL.$JShell$37$Personas@768c5746"
      ]
     },
     "execution_count": 20,
     "metadata": {},
     "output_type": "execute_result"
    }
   ],
   "source": [
    "Personas persona3 = new Personas();\n",
    "persona3"
   ]
  },
  {
   "cell_type": "code",
   "execution_count": 21,
   "id": "20e93afb",
   "metadata": {},
   "outputs": [
    {
     "ename": "CompilationException",
     "evalue": "",
     "output_type": "error",
     "traceback": [
      "\u001b[1m\u001b[30m|   \u001b[1m\u001b[30m\u001b[0m\u001b[1m\u001b[30m\u001b[41mpersona3.nombre\u001b[0m\u001b[1m\u001b[30m = \"mauricio\"\u001b[0m",
      "\u001b[1m\u001b[31mnombre has private access in Personas\u001b[0m",
      ""
     ]
    }
   ],
   "source": [
    "persona3.nombre = \"mauricio\""
   ]
  },
  {
   "cell_type": "markdown",
   "id": "549e33c2",
   "metadata": {},
   "source": [
    "## NO FUNCIONA!\n",
    "Vemos que no funciono al tratar de asignarle un valor al nombre del objeto persona3, incluso comenta que la variable es privada y al utilizar la palabra reservada private quiere decir que solo desde la clase se puede acceder y modificar la variable...\n",
    "vamos a solucionar eso creando metodos, los cuales se definen como Setter y Getter que se encargan de modificar y mostrar la propiedad del objeto que los invoca."
   ]
  },
  {
   "cell_type": "code",
   "execution_count": 22,
   "id": "50e71de3",
   "metadata": {},
   "outputs": [],
   "source": [
    "public class Personas2{\n",
    "    private String nombre=\"\";\n",
    "    private String apellido=\"\";\n",
    "    private int edad=0;\n",
    "    public Personas2(){\n",
    "        \n",
    "    }\n",
    "    public Personas2(String nombre, String apellido,int edad){\n",
    "        this.nombre = nombre;\n",
    "        this.apellido = apellido;\n",
    "        this.edad = edad;\n",
    "    }\n",
    "        //Nuestros Getter\n",
    "    public String getNombre(){\n",
    "        return this.nombre;\n",
    "    }\n",
    "    public String getApellido(){\n",
    "        return this.apellido;\n",
    "    }\n",
    "    public int getEdad(){\n",
    "        return this.edad;\n",
    "    }\n",
    "        //Nuestros Setter\n",
    "    public void setNombre(String nombre){\n",
    "        this.nombre = nombre;\n",
    "    }\n",
    "    public void setApellido(String apellido){\n",
    "        this.apellido = apellido;\n",
    "    }\n",
    "    public void setEdad(int edad){\n",
    "        this.edad = edad;\n",
    "    }\n",
    "    \n",
    "}"
   ]
  },
  {
   "cell_type": "code",
   "execution_count": 23,
   "id": "a5c25f0b",
   "metadata": {},
   "outputs": [],
   "source": [
    "Personas2 persona4 = new Personas2()"
   ]
  },
  {
   "cell_type": "code",
   "execution_count": 24,
   "id": "23101fe0",
   "metadata": {},
   "outputs": [],
   "source": [
    "persona4.setNombre(\"mauricio\")"
   ]
  },
  {
   "cell_type": "code",
   "execution_count": 25,
   "id": "81ebbe99",
   "metadata": {},
   "outputs": [
    {
     "ename": "CompilationException",
     "evalue": "",
     "output_type": "error",
     "traceback": [
      "\u001b[1m\u001b[30m|   \u001b[1m\u001b[30m\u001b[0m\u001b[1m\u001b[30m\u001b[41mpersona4.nombre\u001b[0m\u001b[1m\u001b[30m\u001b[0m",
      "\u001b[1m\u001b[31mnombre has private access in Personas2\u001b[0m",
      ""
     ]
    }
   ],
   "source": [
    "persona4.nombre"
   ]
  },
  {
   "cell_type": "code",
   "execution_count": 26,
   "id": "3ffbf562",
   "metadata": {},
   "outputs": [
    {
     "data": {
      "text/plain": [
       "mauricio"
      ]
     },
     "execution_count": 26,
     "metadata": {},
     "output_type": "execute_result"
    }
   ],
   "source": [
    "persona4.getNombre()"
   ]
  },
  {
   "cell_type": "markdown",
   "id": "44265e95",
   "metadata": {},
   "source": [
    "### COMO VERAS NO PUDE ACCEDER A SU PROPIEDAD DIRECTAMENTE \n",
    "pero si podemos acceder a ella por los Setter y Getter para mostrarlos o modificarlos"
   ]
  },
  {
   "cell_type": "markdown",
   "id": "2f16071f",
   "metadata": {},
   "source": [
    "# ASI COMO LAS PROPIEDADES SON PRIVADAS LOS METODOS DE LA CLASE TAMBIEN PUEDEN SERLO\n",
    "Crearemos una clase a la cual pondremos algunos de sus metodos a modo de ejemplo e intentaremos acceder a ellos desde el objeto (suponiendo que estamos en el main o desde cualquier otro lugar que no sea dentro de la clase)"
   ]
  },
  {
   "cell_type": "code",
   "execution_count": 27,
   "id": "2fba5807",
   "metadata": {},
   "outputs": [],
   "source": [
    "public class Matematicas{\n",
    "    public static String sqrt(){\n",
    "        return \"raiz cuadrada\";\n",
    "    }\n",
    "    private static String elevar(){\n",
    "        return \"elevar\";\n",
    "    }\n",
    "}"
   ]
  },
  {
   "cell_type": "code",
   "execution_count": 28,
   "id": "4172b2f7",
   "metadata": {},
   "outputs": [
    {
     "data": {
      "text/plain": [
       "raiz cuadrada"
      ]
     },
     "execution_count": 28,
     "metadata": {},
     "output_type": "execute_result"
    }
   ],
   "source": [
    "Matematicas.sqrt()"
   ]
  },
  {
   "cell_type": "code",
   "execution_count": 29,
   "id": "9208cad2",
   "metadata": {},
   "outputs": [
    {
     "ename": "CompilationException",
     "evalue": "",
     "output_type": "error",
     "traceback": [
      "\u001b[1m\u001b[30m|   \u001b[1m\u001b[30m\u001b[0m\u001b[1m\u001b[30m\u001b[41mMatematicas.elevar\u001b[0m\u001b[1m\u001b[30m()\u001b[0m",
      "\u001b[1m\u001b[31melevar() has private access in Matematicas\u001b[0m",
      ""
     ]
    }
   ],
   "source": [
    "Matematicas.elevar()"
   ]
  },
  {
   "cell_type": "markdown",
   "id": "b1f97c99",
   "metadata": {},
   "source": [
    "### Que sucedio? \n",
    "Al ser un metodo privado solo se puede acceder a el desde dentro de la clase, vamos a hacerle unas modificaciones a la clase original y ver si podemos hacer la funcion de potencia"
   ]
  },
  {
   "cell_type": "code",
   "execution_count": 30,
   "id": "1e964795",
   "metadata": {},
   "outputs": [],
   "source": [
    "public class Matematicas{\n",
    "\n",
    "    public static int potencia(int base, int potencia){\n",
    "        return elevar(base,potencia);\n",
    "    }\n",
    "    \n",
    "    private static int elevar(int base, int potencia){\n",
    "        int resultado=base;\n",
    "        for (int i = 2; i <= potencia ; i++){\n",
    "            resultado *= base;\n",
    "        }\n",
    "        return resultado;\n",
    "    }\n",
    "}"
   ]
  },
  {
   "cell_type": "code",
   "execution_count": 31,
   "id": "8f01c966",
   "metadata": {},
   "outputs": [
    {
     "data": {
      "text/plain": [
       "10000"
      ]
     },
     "execution_count": 31,
     "metadata": {},
     "output_type": "execute_result"
    }
   ],
   "source": [
    "Matematicas.potencia(10,4)"
   ]
  },
  {
   "cell_type": "code",
   "execution_count": 32,
   "id": "31c8e4ab",
   "metadata": {},
   "outputs": [
    {
     "data": {
      "text/plain": [
       "256"
      ]
     },
     "execution_count": 32,
     "metadata": {},
     "output_type": "execute_result"
    }
   ],
   "source": [
    "Matematicas.potencia(2,8)"
   ]
  },
  {
   "cell_type": "markdown",
   "id": "e0fabc34",
   "metadata": {},
   "source": [
    "## QUIZAS NO SEA EL MEJOR EJEMPLO ?\n",
    "Pero espero que quede claro cuando intentamos llamar un metodo que sabemos que esta privado desde fuera de la clase y que es lo que sucede, pero si intentamos invocar ese metodo dentro de la clase no tenemos ningun problema. Por lo tanto los metodos o variables privadas solo se puede usar, acceder,modificar dentro de la misma clase y no desde el main. Si queremos que de cualquier parte de nuestro programa se pueda acceder a esas cosas tenemos que ponerlas PUBLICAS, pero el uso de private es para poder encapsular los datos. \n",
    "\n",
    "## DEFINICION DE ENCAPSULAMIENTO\n",
    "\n",
    "En la Programación orientada a objetos (POO), la encapsulación se refiere a la agrupación de datos con los métodos que operan en esos datos, o la restricción del acceso directo a algunos de los componentes de un objeto.1​ La encapsulación se utiliza para ocultar los valores o el estado de un objeto de datos estructurados dentro de una clase, evitando el acceso directo a ellos por parte de los clientes de una manera que podría exponer detalles de Implementación ocultos o violar la invariancia de estado mantenida por los métodos."
   ]
  }
 ],
 "metadata": {
  "kernelspec": {
   "display_name": "Java",
   "language": "java",
   "name": "java"
  },
  "language_info": {
   "codemirror_mode": "java",
   "file_extension": ".jshell",
   "mimetype": "text/x-java-source",
   "name": "Java",
   "pygments_lexer": "java",
   "version": "19.0.2+7-44"
  }
 },
 "nbformat": 4,
 "nbformat_minor": 5
}
