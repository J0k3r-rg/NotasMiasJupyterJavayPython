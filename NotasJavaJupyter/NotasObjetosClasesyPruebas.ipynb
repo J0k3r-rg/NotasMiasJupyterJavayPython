{
 "cells": [
  {
   "cell_type": "markdown",
   "id": "9409b4fb",
   "metadata": {},
   "source": [
    "# MIS NOTAS Y PRUEBAS SOBRE OBJETOS\n",
    "\n",
    "## primero crearemos una clase para despues realizar pruebas"
   ]
  },
  {
   "cell_type": "code",
   "execution_count": 1,
   "id": "43ee00a5",
   "metadata": {},
   "outputs": [],
   "source": [
    "public class Persona{\n",
    "    \n",
    "    String nombre =\"\";\n",
    "    String apellido=\"\";\n",
    "    int edad = 0;\n",
    "    \n",
    "    // ------   construstor de la clase   ------\n",
    "    public Persona(String nombre, String apellido,int edad){\n",
    "        this.nombre = nombre;\n",
    "        this.apellido = apellido;\n",
    "        this.edad = edad;\n",
    "    }\n",
    "    public borrar(){\n",
    "        \n",
    "    }\n",
    "    \n",
    "}"
   ]
  },
  {
   "cell_type": "markdown",
   "id": "5de88535",
   "metadata": {},
   "source": [
    "### INSTANCIAMOS EL OBJETO PERSONA1 Y LE DAMOS VALORES A SUS PROPIEDADES\n"
   ]
  },
  {
   "cell_type": "code",
   "execution_count": 4,
   "id": "5571bc19",
   "metadata": {},
   "outputs": [],
   "source": [
    "Persona persona1 = new Persona(\"mauricio\",\"maldonado\",32);"
   ]
  },
  {
   "cell_type": "markdown",
   "id": "e5a730ef",
   "metadata": {},
   "source": [
    "## INSTANCIAR \n",
    "\n",
    "Instanciar objetos es el proceso de generar un ejemplar de una clase, es decir, la clase es como una declaración de una forma y el objeto es un caso o elemento concreto que responde a esa forma.\n",
    "\n",
    "SUPISICION MIA: No estoy muy seguro pero cuando instanciamos un objeto lo que se hace es reservar un espacio en memoria y que el objeto apunte a ese espacio, trabaja de manera distinta a una variable.\n",
    "\n",
    "Recordar que una clase es como un molde el cual nos sirve para crear varios objetos con sus propiedades, un ejemplo muy claro es el de Personas, podriamos tener una clase \"Personas\" con sus propiedades como \"nombre\",\"apellido\", \"dni\", \"edad\", \"nacionalidad\" y un sin fin de propiedades. No todas las personas son iguales y por mas que tengan el mismo nombre, apellido y quisas algunas cosas mas no son los mismos ya que estan en lugares diferentes. "
   ]
  },
  {
   "cell_type": "code",
   "execution_count": 7,
   "id": "57151b12",
   "metadata": {},
   "outputs": [
    {
     "data": {
      "text/plain": [
       "REPL.$JShell$12$Persona@38d4840a"
      ]
     },
     "execution_count": 7,
     "metadata": {},
     "output_type": "execute_result"
    }
   ],
   "source": [
    "persona1"
   ]
  },
  {
   "cell_type": "markdown",
   "id": "15865d2f",
   "metadata": {},
   "source": [
    "### Interesante\n",
    "vemos que nos muestra algo raro, si volvemos a ejecutar la instanciacion del objeto persona1 vamos a ver que lo que estta despues del arroba cambia. vamos a instanciarlo de nuevo y veremos que sucede"
   ]
  },
  {
   "cell_type": "code",
   "execution_count": 8,
   "id": "0eecd780",
   "metadata": {},
   "outputs": [],
   "source": [
    "Persona persona1 = new Persona(\"mauricio\",\"maldonado\",32);"
   ]
  },
  {
   "cell_type": "code",
   "execution_count": 9,
   "id": "dd9a02bd",
   "metadata": {},
   "outputs": [
    {
     "data": {
      "text/plain": [
       "REPL.$JShell$12$Persona@6776cea"
      ]
     },
     "execution_count": 9,
     "metadata": {},
     "output_type": "execute_result"
    }
   ],
   "source": [
    "persona1"
   ]
  },
  {
   "cell_type": "markdown",
   "id": "03fd8393",
   "metadata": {},
   "source": [
    "### QUE PASO?\n",
    "Suponemos que eso que esta despues del @ es la direccion de memoria a cual apunta el objeto persona1\n",
    "\n",
    "Crearemos otro objeto persona2 y le vamos a pasar las mismas propiedades que le dimos a persona1"
   ]
  },
  {
   "cell_type": "code",
   "execution_count": 11,
   "id": "eb286aa9",
   "metadata": {},
   "outputs": [],
   "source": [
    "Persona persona2 = new Persona(\"mauricio\",\"maldonado\",32);"
   ]
  },
  {
   "cell_type": "code",
   "execution_count": 12,
   "id": "b3b5ce26",
   "metadata": {},
   "outputs": [
    {
     "data": {
      "text/plain": [
       "REPL.$JShell$12$Persona@5f893253"
      ]
     },
     "execution_count": 12,
     "metadata": {},
     "output_type": "execute_result"
    }
   ],
   "source": [
    "persona2"
   ]
  },
  {
   "cell_type": "markdown",
   "id": "f8943065",
   "metadata": {},
   "source": [
    "### suponemos que los dos objetos persona1 y persona2 son iguales?\n",
    "Al crear los objetos vamos a creer o suponer que hambos son iguales, vamos a compararlos y ver que es lo que sucede"
   ]
  },
  {
   "cell_type": "code",
   "execution_count": 13,
   "id": "8825d94a",
   "metadata": {},
   "outputs": [
    {
     "data": {
      "text/plain": [
       "false"
      ]
     },
     "execution_count": 13,
     "metadata": {},
     "output_type": "execute_result"
    }
   ],
   "source": [
    "persona1 == persona2"
   ]
  },
  {
   "cell_type": "markdown",
   "id": "ddb0ac5f",
   "metadata": {},
   "source": [
    "### QUE PASO?\n",
    "\n",
    "segun mis conocimientos hasta el momento cuando instanciamos un objeto lo que hacemos es reservar un espacio en memoria y almacenamos todas sus propiedades ahi, y el objeto lo utilizamos para acceder a ese espacio en memoria ya que ese mismo apunta ahi. "
   ]
  },
  {
   "cell_type": "code",
   "execution_count": 14,
   "id": "fce4c127",
   "metadata": {},
   "outputs": [
    {
     "ename": "CompilationException",
     "evalue": "",
     "output_type": "error",
     "traceback": [
      "\u001b[1m\u001b[30m|   \u001b[1m\u001b[30m\u001b[0m\u001b[1m\u001b[30m\u001b[41mpersona1.finalize\u001b[0m\u001b[1m\u001b[30m()\u001b[0m",
      "\u001b[1m\u001b[31mfinalize() has protected access in java.lang.Object\u001b[0m",
      "",
      "\u001b[1m\u001b[30m|   \u001b[1m\u001b[30m\u001b[0m\u001b[1m\u001b[30m\u001b[41mpersona1.finalize\u001b[0m\u001b[1m\u001b[30m()\u001b[0m",
      "\u001b[1m\u001b[31mfinalize() in java.lang.Object has been deprecated and marked for removal\u001b[0m",
      ""
     ]
    }
   ],
   "source": [
    "persona1.finalize()"
   ]
  },
  {
   "cell_type": "code",
   "execution_count": 15,
   "id": "c1328aad",
   "metadata": {},
   "outputs": [
    {
     "data": {
      "text/plain": [
       "REPL.$JShell$12$Persona@6776cea"
      ]
     },
     "execution_count": 15,
     "metadata": {},
     "output_type": "execute_result"
    }
   ],
   "source": [
    "persona1"
   ]
  },
  {
   "cell_type": "markdown",
   "id": "0742c385",
   "metadata": {},
   "source": [
    "### Vamos a persona1 igualarla a null y ver que sucede, y despues asiganmos persona2 a persona1 "
   ]
  },
  {
   "cell_type": "code",
   "execution_count": 27,
   "id": "8a8467e7",
   "metadata": {},
   "outputs": [],
   "source": [
    "persona1 = null"
   ]
  },
  {
   "cell_type": "code",
   "execution_count": 28,
   "id": "5474f844",
   "metadata": {},
   "outputs": [
    {
     "ename": "EvalException",
     "evalue": "Cannot read field \"nombre\" because \"REPL.$JShell$13.persona1\" is null",
     "output_type": "error",
     "traceback": [
      "\u001b[1m\u001b[31m---------------------------------------------------------------------------\u001b[0m",
      "\u001b[1m\u001b[31mjava.lang.NullPointerException: Cannot read field \"nombre\" because \"REPL.$JShell$13.persona1\" is null\u001b[0m",
      "\u001b[1m\u001b[31m\tat .(#49:1)\u001b[0m"
     ]
    }
   ],
   "source": [
    "persona1.nombre"
   ]
  },
  {
   "cell_type": "code",
   "execution_count": 29,
   "id": "877e4eb2",
   "metadata": {},
   "outputs": [],
   "source": [
    "persona1 = persona2"
   ]
  },
  {
   "cell_type": "code",
   "execution_count": 30,
   "id": "4fd2942e",
   "metadata": {},
   "outputs": [
    {
     "data": {
      "text/plain": [
       "REPL.$JShell$12$Persona@5f893253"
      ]
     },
     "execution_count": 30,
     "metadata": {},
     "output_type": "execute_result"
    }
   ],
   "source": [
    "persona1"
   ]
  },
  {
   "cell_type": "markdown",
   "id": "3607851a",
   "metadata": {},
   "source": [
    "## QUE SUCEDIO? \n",
    "### habremos puesto los valores de persona2 a persona1???"
   ]
  },
  {
   "cell_type": "code",
   "execution_count": 31,
   "id": "87f8d8a7",
   "metadata": {},
   "outputs": [
    {
     "name": "stdout",
     "output_type": "stream",
     "text": [
      "mauricio\n",
      "maldonado\n",
      "32\n",
      "\n",
      "mauricio\n",
      "maldonado\n",
      "32\n"
     ]
    }
   ],
   "source": [
    "System.out.println(persona1.nombre);\n",
    "System.out.println(persona1.apellido);\n",
    "System.out.println(persona1.edad);\n",
    "System.out.println(\"\");\n",
    "System.out.println(persona2.nombre);\n",
    "System.out.println(persona2.apellido);\n",
    "System.out.println(persona2.edad);\n"
   ]
  },
  {
   "cell_type": "code",
   "execution_count": 33,
   "id": "333297bb",
   "metadata": {},
   "outputs": [
    {
     "data": {
      "text/plain": [
       "ezequiel"
      ]
     },
     "execution_count": 33,
     "metadata": {},
     "output_type": "execute_result"
    }
   ],
   "source": [
    "persona1.nombre = \"ezequiel\""
   ]
  },
  {
   "cell_type": "code",
   "execution_count": 34,
   "id": "cc90caeb",
   "metadata": {},
   "outputs": [
    {
     "data": {
      "text/plain": [
       "ezequiel"
      ]
     },
     "execution_count": 34,
     "metadata": {},
     "output_type": "execute_result"
    }
   ],
   "source": [
    "persona1.nombre"
   ]
  },
  {
   "cell_type": "code",
   "execution_count": 35,
   "id": "03511668",
   "metadata": {},
   "outputs": [
    {
     "data": {
      "text/plain": [
       "ezequiel"
      ]
     },
     "execution_count": 35,
     "metadata": {},
     "output_type": "execute_result"
    }
   ],
   "source": [
    "persona2.nombre"
   ]
  },
  {
   "cell_type": "markdown",
   "id": "b6c9d4d9",
   "metadata": {},
   "source": [
    "# Y AHORA?\n",
    "Vimos que primero igualamos a persona1 con null, e intentamos acceder a su nombre y como vimos no pudimos acceder ya que el objeto no apunta a nada. despues tratamos de pasarle las propiedades de persona2 a persona1 e intentamos modificarle el nombre a persona1. pero al consultar los nombres de las 2 personas se modificaron los 2.\n",
    "Como ya explicamos antes los objetos apuntan a una direccion en memoria, pero cuando a persona1 la igualamos a null dejo deapuntar a su direccion de memoria que tenia inicialmente. Al igualarlo a persona2 lo que hicimos es pasarle la referencia de hacia donde apunta persona2. Por lo tanto perona1 y persona2 apuntan exactamente al mismo lugar en memoria, y puedo acceder a ese lugar mediante los dos objetos que creamos inicialmente\n",
    "### ENTONCES QUE SUCEDE CUANDO SUPUESTAMENTE CREAMOS UN OBJETO?\n"
   ]
  }
 ],
 "metadata": {
  "kernelspec": {
   "display_name": "Java",
   "language": "java",
   "name": "java"
  },
  "language_info": {
   "codemirror_mode": "java",
   "file_extension": ".jshell",
   "mimetype": "text/x-java-source",
   "name": "Java",
   "pygments_lexer": "java",
   "version": "19.0.2+7-44"
  }
 },
 "nbformat": 4,
 "nbformat_minor": 5
}
