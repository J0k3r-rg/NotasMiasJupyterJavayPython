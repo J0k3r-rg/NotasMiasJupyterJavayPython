{
 "cells": [
  {
   "cell_type": "markdown",
   "id": "acce4f3f",
   "metadata": {},
   "source": [
    "## Ultima modifiacion: 23-03-2023\n",
    "\n",
    "## Recordar que si no viste el notebook anterior te dejo el enlace para que vallas a visitarlo\n",
    "\n",
    "<a href=\"https://github.com/J0k3r-rg/NotasMiasJupyterJavayPython/blob/main/NotasJavaJupyter/00-ConceptosBasicosJava_variables_Identificadores.ipynb\"> 00-ConceptosBasicosJava_variables_Identificadores </a>"
   ]
  },
  {
   "cell_type": "markdown",
   "id": "15195e0a",
   "metadata": {},
   "source": [
    "# Bienvenidos! \n",
    "\n",
    "    En el siguiente notebook veremos una serie de estructuras de control, de tipo \"Selectivas\" las cuales alteran el flujo del programa mediante operaciones logicas que solo tienen 2 resultados (verdader o falso, true or false) \n",
    "    VEREMOS 2 TIPOS DE SELECTORES, LOS DE SELECCION SIMPLE/DOBLE Y LOS DE SELECCION MULTIPLE\n",
    "    \n",
    "## SELECCION SIMPLE/DOBLE"
   ]
  },
  {
   "cell_type": "markdown",
   "id": "95f47147",
   "metadata": {},
   "source": [
    "# ANTES QUE NADA VAMOS A REPASAR LAS OPERACIONES LOGICAS\n",
    "    Recordar que en programacion existen las operaciones matematicas que la mayoria conocemos (suma,resta,musltiplicacion,division y mucho mas) y las operaciones logicas (comparacion, disyuncion y conjuncion).\n",
    "## OPERACIONES LOGICAS\n",
    "    Las operaciones logicas que mas usaremos son 4 y pueden se combiandas\n",
    "    Operador logico IGUAL (==): \n",
    "        En Java para comparar dos cosas se utiliza un doble igual, vamos con ejemplos comunes:\n",
    "            rojo == azul , se traduce como ... el color rojo es igual al azul? obviamente es falso y por lo tanto el resulado de la operacion logica es FALSE;\n",
    "            1 == 1, se tracude como... el numero 1 es igual a 1??? obviamente es verdadero por que esta hablando de 2 cosas que son iguales, y el resultado de la operacion logica es TRUE;\n",
    "            1 == \"1\" se traduce como... el numero 1 es igual que el caracter/cadena 1??? hay cierta confusion aqui, por que los 2 representan el 1... pero SON OGUALES??? Si leemos bien el significado es obvio que es falso, el resultado de esta operacion logica es FALSE;    SE PREGUNTARAN POR QUE?  vamos a tratar de resumirlo y de que se entienda de la mejor manera... En programacion tenemos numeros y cadenas de texto como ya sabemos y se distiguen por tipos de variables, (lo que vimos en el notebook anterior), y los numeros se representan como 1,2,3,4,5,6,7,8,9,0 y las cadenas de caracteres va siempre entre comillas dobles, lo cual dice que eso son caracteres y no numeros... 1 <- es un uno numerico  \"1\"<- es la representacion del numero uno (caracter)... "
   ]
  },
  {
   "cell_type": "markdown",
   "id": "117c4b19",
   "metadata": {},
   "source": [
    "    En java para alterar el flujo del programa mediante condicionales selectivos podemos usar los simples o dobles. \n",
    "### seleccion simple\n",
    "    Consiste en que solo tiene una opcion, se ejecuta si la condicion es verdadera! y si es falsa no hace nada! por eso es simple...\n",
    "    la estructura basica de un condicional simple se conoce de la siguiente manera:\n",
    "    if (condicion){\n",
    "        //instrucciones a realizar si la condicion es verdadera\n",
    "    }\n",
    "### VEAMOS UN EJEMPLO"
   ]
  },
  {
   "cell_type": "code",
   "execution_count": 2,
   "id": "435dbf94",
   "metadata": {},
   "outputs": [
    {
     "name": "stdout",
     "output_type": "stream",
     "text": [
      "Primer if\n",
      "el numero 1 es menor.\n",
      "lo que quiere decir que el numero 2 es mayor\n",
      "La Condicion es verdadera ya que estas leyendo esta linea\n",
      "Segundo if\n"
     ]
    }
   ],
   "source": [
    "int num1 = 4;\n",
    "int num2 = 20;\n",
    "System.out.println(\"Primer if\");\n",
    "if (num1 < num2){\n",
    "    System.out.println(\"el numero 1 es menor.\");\n",
    "    System.out.println(\"lo que quiere decir que el numero 2 es mayor\");\n",
    "    System.out.println(\"La Condicion es verdadera ya que estas leyendo esta linea\");\n",
    "    //todas las cosas que necesitemos que haga si se cumple la condicion\n",
    "}\n",
    "\n",
    "System.out.println(\"Segundo if\");\n",
    "if (num1 > num2){\n",
    "    System.out.println(\"el numero 1 es menor.\");\n",
    "    System.out.println(\"lo que quiere decir que el numero 2 es mayor\");\n",
    "    System.out.println(\"La Condicion es verdadera ya que estas leyendo esta linea\");\n",
    "    //todas las cosas que necesitemos que haga si se cumple la condicion\n",
    "}"
   ]
  },
  {
   "cell_type": "markdown",
   "id": "6467b19e",
   "metadata": {},
   "source": [
    "## INTERESANTE! ...\n",
    "    Como veras en el ejemplo anterior el primer if es verdadero y se ejecutaron las 3 instrucciones que estaban dentro... en cambio en el segundo if la condicion es falsa y por lo tanto no se ejecuto ninguna instruccion que se encuentra dentro del if\n",
    "\n",
    "# COMO QUEDARIA EN NUESTRO IDE?\n",
    "\n",
    "    package nombreDelPaquete;\n",
    "\n",
    "    public class NombreDeLaClase{\n",
    "        public static void main(String[] args){\n",
    "            int num1 = 4;\n",
    "            int num2 = 20;\n",
    "            System.out.println(\"Primer if\");\n",
    "            if (num1 < num2){\n",
    "                System.out.println(\"el numero 1 es menor.\");\n",
    "                System.out.println(\"lo que quiere decir que el numero 2 es mayor\");\n",
    "                System.out.println(\"La Condicion es verdadera ya que estas leyendo esta linea\");\n",
    "                //todas las cosas que necesitemos que haga si se cumple la condicion\n",
    "            }\n",
    "            System.out.println(\"Segundo if\");\n",
    "            if (num1 > num2){\n",
    "                System.out.println(\"el numero 1 es menor.\");\n",
    "                System.out.println(\"lo que quiere decir que el numero 2 es mayor\");\n",
    "                System.out.println(\"La Condicion es verdadera ya que estas leyendo esta linea\");\n",
    "                //todas las cosas que necesitemos que haga si se cumple la condicion\n",
    "            }\n",
    "        }\n",
    "    }\n",
    "    \n",
    "## AHORA OTRO EJEMPLOS PERO VAMOS A ANIDARLOS UN POCO!"
   ]
  },
  {
   "cell_type": "code",
   "execution_count": 6,
   "id": "6e77e004",
   "metadata": {},
   "outputs": [
    {
     "name": "stdout",
     "output_type": "stream",
     "text": [
      "PRIMER IF CON ASIGNACION DE CONDICION:\n",
      "Se ejecuta esta linea si condicion tiene verdadero como valor\n",
      "Recordar que los booleanos tienen 2 posibles valores VERDADERO O FALSO\n",
      "Por eso nos sirve para poder utilizar como condicion de un if\n",
      "\n",
      "SEGUNDO IF CON ASIGNACION DE CONDICION:\n",
      "\n",
      "PRIMER IF CON COMPARACION EN LA VARIABLE CONDICION:\n",
      "Se ejecuta esta linea si condicion tiene verdadero como valor\n",
      "Recordar que los booleanos tienen 2 posibles valores VERDADERO O FALSO\n",
      "Por eso nos sirve para poder utilizar como condicion de un if\n",
      "\n",
      "\n",
      "SEGUNDO IF CON COMPARACION EN LA VARIABLE CONDICION:\n"
     ]
    }
   ],
   "source": [
    "boolean condicion;\n",
    "int num1 = 0;\n",
    "\n",
    "condicion = true;\n",
    "\n",
    "System.out.println(\"PRIMER IF CON ASIGNACION DE CONDICION:\");\n",
    "if (condicion){\n",
    "    System.out.println(\"Se ejecuta esta linea si condicion tiene verdadero como valor\");\n",
    "    System.out.println(\"Recordar que los booleanos tienen 2 posibles valores VERDADERO O FALSO\");\n",
    "    System.out.println(\"Por eso nos sirve para poder utilizar como condicion de un if\");\n",
    "    System.out.println(\"\");\n",
    "}\n",
    "\n",
    "condicion = false;\n",
    "System.out.println(\"SEGUNDO IF CON ASIGNACION DE CONDICION:\");\n",
    "if (condicion){\n",
    "    System.out.println(\"Se ejecuta esta linea si condicion tiene verdadero como valor\");\n",
    "    System.out.println(\"Recordar que los booleanos tienen 2 posibles valores VERDADERO O FALSO\");\n",
    "    System.out.println(\"Por eso nos sirve para poder utilizar como condicion de un if\");\n",
    "    System.out.println(\"\");\n",
    "}\n",
    "\n",
    "\n",
    "condicion = ( num1 == 0 ); // el resultado es verdadero por que iniciamos la variable num1 como cero\n",
    "System.out.println(\"\");\n",
    "System.out.println(\"PRIMER IF CON COMPARACION EN LA VARIABLE CONDICION:\");\n",
    "if (condicion){\n",
    "    System.out.println(\"Se ejecuta esta linea si condicion tiene verdadero como valor\");\n",
    "    System.out.println(\"Recordar que los booleanos tienen 2 posibles valores VERDADERO O FALSO\");\n",
    "    System.out.println(\"Por eso nos sirve para poder utilizar como condicion de un if\");\n",
    "    System.out.println(\"\");\n",
    "}\n",
    "\n",
    "condicion = ( num1 != 0 ); //el resultado es falso por que iniciamos la variable como 0, y cero no es distinto que cero\n",
    "System.out.println(\"\");\n",
    "System.out.println(\"SEGUNDO IF CON COMPARACION EN LA VARIABLE CONDICION:\");\n",
    "if (condicion){\n",
    "    System.out.println(\"Se ejecuta esta linea si condicion tiene verdadero como valor\");\n",
    "    System.out.println(\"Recordar que los booleanos tienen 2 posibles valores VERDADERO O FALSO\");\n",
    "    System.out.println(\"Por eso nos sirve para poder utilizar como condicion de un if\");\n",
    "    System.out.println(\"\");\n",
    "}"
   ]
  },
  {
   "cell_type": "markdown",
   "id": "1b0cc89f",
   "metadata": {},
   "source": [
    "## UN POCO LARGO NO?\n",
    "    No te preocupes solo son varias cosas de lo mismo... aqui solo lo hice en un solo lugar, traten de leerlo y entenderlo. No hay mejor manera que entender lo que estamos haciendo y si les queda alguna duda pueden realizar las pruebas necesarias para quitarse la duda. Recuerden NADIE les prohibe probar! asi que escriban y aunque suene loco hagamoslo igual!\n"
   ]
  },
  {
   "cell_type": "code",
   "execution_count": null,
   "id": "5c590d37",
   "metadata": {},
   "outputs": [],
   "source": []
  },
  {
   "cell_type": "markdown",
   "id": "76a34804",
   "metadata": {},
   "source": [
    "# EXELENTE YA TERMINASTE ESTE NOTEBOOK.\n",
    "## TE DEJO EL ENLACE AL PROXIMO\n",
    "<a href=\"https://github.com/J0k3r-rg/NotasMiasJupyterJavayPython/blob/main/NotasJavaJupyter/02-ConceptosBasicosJava_EstructurasDeControlRepetitivas_SimplesyAnidados.ipynb\"> 02-ConceptosBasicosJava_EstructurasDeControlRepetitivas_SimplesyAnidados </a>"
   ]
  },
  {
   "cell_type": "code",
   "execution_count": null,
   "id": "41671b1f",
   "metadata": {},
   "outputs": [],
   "source": []
  }
 ],
 "metadata": {
  "kernelspec": {
   "display_name": "Java",
   "language": "java",
   "name": "java"
  },
  "language_info": {
   "codemirror_mode": "java",
   "file_extension": ".jshell",
   "mimetype": "text/x-java-source",
   "name": "Java",
   "pygments_lexer": "java",
   "version": "19.0.2+7-44"
  }
 },
 "nbformat": 4,
 "nbformat_minor": 5
}
