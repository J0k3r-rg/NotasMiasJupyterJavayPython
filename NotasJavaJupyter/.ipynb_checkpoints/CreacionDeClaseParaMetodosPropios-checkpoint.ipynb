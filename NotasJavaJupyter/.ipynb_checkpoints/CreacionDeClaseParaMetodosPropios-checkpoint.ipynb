{
 "cells": [
  {
   "cell_type": "markdown",
   "id": "048e7210",
   "metadata": {},
   "source": [
    "### ultima modificacion: 20-03-2023\n",
    "\n",
    "# QUE VEREMOS ACONTINUACION\n",
    "\n",
    "## CREACION DE UNA CLASE PROPIA PARA NUESTROS PROYECTOS\n",
    "    Comenzaremos a crear una clase simple para que podamos faciliar un poco los metodos para nuestros ejercicios de java. Recordemos que tenemos de ejemplo la clase \"Math\" el cual tiene muchos metodos para que utilizemos en nuestros proyectos pero es una clase que ya viene incorporada en JAVA, si no mal recuerdo en el JDK (Java Developer Kit)\n",
    "    \n",
    "## MEJORAR UN POCO NUESTOS METODOS\n",
    "    Como ya saben los metodos pueden ser simples para ahorrarnos un poco de lineas de codigo, pero que nos impide poder mejorarlos XD\n",
    "    "
   ]
  },
  {
   "cell_type": "markdown",
   "id": "34071bb7",
   "metadata": {},
   "source": [
    "## creacion de nuestra primera clase con metodos simples\n"
   ]
  },
  {
   "cell_type": "code",
   "execution_count": 26,
   "id": "a7eb19c1",
   "metadata": {},
   "outputs": [],
   "source": [
    "import java.util.Scanner;\n",
    "\n",
    "public class MisMetodos{\n",
    "    //constructor de la clase vacio y privado para que no se creen objetos de la clase\n",
    "    \n",
    "    private MisMetodos(){}\n",
    "    \n",
    "    private static Scanner leer = new Scanner(System.in);\n",
    "    \n",
    "    /**\n",
    "    * AQUI IRIA UNA DESCRIPCION DE LO QUE HACE EL METODO\n",
    "    *@params mensaje (aqui describiriamos que parametro resive)\n",
    "    *@return (aqui pondriamos que es lo que retorna en el metodo)\n",
    "    */\n",
    "    public static int leerEntero(String mensaje){\n",
    "        System.out.print(mensaje);\n",
    "        return leer.nextInt();\n",
    "    }\n",
    "    \n",
    "    /**\n",
    "    * AQUI IRIA UNA DESCRIPCION DE LO QUE HACE EL METODO\n",
    "    *@params mensaje (aqui describiriamos que parametro resive)\n",
    "    *@return (aqui pondriamos que es lo que retorna en el metodo)\n",
    "    */\n",
    "    public static double leerDouble(String mensaje){\n",
    "        System.out.print(mensaje);\n",
    "        return leer.nextDouble();\n",
    "    }\n",
    "    \n",
    "    /**\n",
    "    * AQUI IRIA UNA DESCRIPCION DE LO QUE HACE EL METODO\n",
    "    *@params mensaje (aqui describiriamos que parametro resive)\n",
    "    *@return (aqui pondriamos que es lo que retorna en el metodo)\n",
    "    */\n",
    "    public static String leerString(String mensaje){\n",
    "        System.out.print(mensaje);\n",
    "        leer.nextLine();\n",
    "        return leer.nextLine();\n",
    "    }\n",
    "    \n",
    "}"
   ]
  },
  {
   "cell_type": "code",
   "execution_count": 27,
   "id": "dab960b1",
   "metadata": {},
   "outputs": [
    {
     "name": "stdout",
     "output_type": "stream",
     "text": [
      "ingrese Numero Entero: 15\n"
     ]
    }
   ],
   "source": [
    "int numeroEntero = MisMetodos.leerEntero(\"ingrese Numero Entero: \")"
   ]
  },
  {
   "cell_type": "code",
   "execution_count": 29,
   "id": "6cd76894",
   "metadata": {},
   "outputs": [
    {
     "name": "stdout",
     "output_type": "stream",
     "text": [
      "ingrese frase: hola\n",
      "como\n"
     ]
    }
   ],
   "source": [
    "String frase = MisMetodos.leerString(\"ingrese frase: \")"
   ]
  },
  {
   "cell_type": "code",
   "execution_count": 31,
   "id": "31b54ec1",
   "metadata": {},
   "outputs": [
    {
     "name": "stdout",
     "output_type": "stream",
     "text": [
      "ingrese numero real: 14.5\n"
     ]
    }
   ],
   "source": [
    "double numeroReal = MisMetodos.leerDouble(\"ingrese numero real: \")"
   ]
  },
  {
   "cell_type": "code",
   "execution_count": null,
   "id": "cdec9c6f",
   "metadata": {},
   "outputs": [],
   "source": []
  }
 ],
 "metadata": {
  "kernelspec": {
   "display_name": "Java",
   "language": "java",
   "name": "java"
  },
  "language_info": {
   "codemirror_mode": "java",
   "file_extension": ".jshell",
   "mimetype": "text/x-java-source",
   "name": "Java",
   "pygments_lexer": "java",
   "version": "19.0.2+7-44"
  }
 },
 "nbformat": 4,
 "nbformat_minor": 5
}
