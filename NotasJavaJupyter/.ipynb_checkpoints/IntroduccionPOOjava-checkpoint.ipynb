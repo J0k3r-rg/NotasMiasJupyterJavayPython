{
 "cells": [
  {
   "cell_type": "markdown",
   "id": "89c44909",
   "metadata": {},
   "source": [
    "### Ultima Modificacion: 21-03-2023\n",
    "\n",
    "# PRUEBAS DE CLASES Y OBJETOS\n",
    "\n",
    "## Vamos a simular una pelea entre 2 personajes que creamos con nuestra clase Personajes\n",
    "    por ahora solo vamos a hacerlo normal sin encapsulamiento y con algunas cosas simples para poder simular una pelea entre dos personas, mas delante le vamos a mandar un poco mas de complejidad, quisas podriamos crear una clase que se llame Espadas y dependiendo de la que tenga hacemos un rango de daño.\n",
    "    \n",
    "   ## Manos a la obra"
   ]
  },
  {
   "cell_type": "code",
   "execution_count": 10,
   "id": "73f45ce4",
   "metadata": {},
   "outputs": [],
   "source": [
    "public class Personajes{\n",
    "    String nombre = \"\";\n",
    "    String tipo = \"\";\n",
    "    String arma = \"mano\";\n",
    "    int vida = 100;\n",
    "    \n",
    "    public Personajes(String nombre, String tipo){\n",
    "        this.nombre = nombre;\n",
    "        this.tipo = tipo;\n",
    "        this.vida = vida;\n",
    "    }\n",
    "    \n",
    "    public void atacar(Personajes personaje){\n",
    "        int danio = 0;\n",
    "        switch(this.arma){\n",
    "            case \"espada\":\n",
    "                danio = (int) (Math.random()*(30-20)+20);\n",
    "                personaje.vida -= danio;\n",
    "                break;\n",
    "            case \"mano\":\n",
    "                danio = (int) (Math.random()*(10-1)+1);\n",
    "                personaje.vida -= danio;\n",
    "                break;\n",
    "            case \"palo\":\n",
    "                danio = (int) (Math.random()*(20-10)+10);\n",
    "                personaje.vida -= danio;\n",
    "                break;\n",
    "        }\n",
    "        if (personaje.vida <= 0 ){\n",
    "            System.out.println(this.nombre+\" ha sacado \"+danio+ \" atacando con \"+this.arma+\" a \" + personaje.nombre +\" le queda 0 de vida.\");\n",
    "            System.out.println(this.nombre+\" has matado a \"+personaje.nombre+\" :'( por que eres tan cruel!!!\");\n",
    "        }else{\n",
    "            System.out.println(this.nombre+\" ha sacado \"+danio+ \" atacando con \"+this.arma+\" a \" + personaje.nombre +\" le quedan \"+personaje.vida+\" de vida.\");\n",
    "        }\n",
    "    }\n",
    "}"
   ]
  },
  {
   "cell_type": "code",
   "execution_count": 11,
   "id": "7e840ca2",
   "metadata": {},
   "outputs": [],
   "source": [
    "Personajes mauricio = new Personajes(\"mauricio\",\"humano\");\n",
    "Personajes jorge = new Personajes(\"jorge\",\"humano\");\n"
   ]
  },
  {
   "cell_type": "markdown",
   "id": "acdf8309",
   "metadata": {},
   "source": [
    "## Ya tenemos creados nuestros dos personajes, ahora que se ataquen constantemente hasya que uno muera \n"
   ]
  },
  {
   "cell_type": "code",
   "execution_count": 12,
   "id": "87de4e3e",
   "metadata": {},
   "outputs": [
    {
     "name": "stdout",
     "output_type": "stream",
     "text": [
      "jorge ha sacado 21 atacando con espada a mauricio le quedan 79 de vida.\n",
      "mauricio has errado el golpe, suerte para la proxima\n",
      "jorge ha sacado 4 atacando con mano a mauricio le quedan 75 de vida.\n",
      "mauricio has errado el golpe, suerte para la proxima\n",
      "jorge ha sacado 27 atacando con espada a mauricio le quedan 48 de vida.\n",
      "mauricio ha sacado 20 atacando con espada a jorge le quedan 80 de vida.\n",
      "jorge ha sacado 9 atacando con mano a mauricio le quedan 39 de vida.\n",
      "mauricio ha sacado 29 atacando con espada a jorge le quedan 51 de vida.\n",
      "jorge ha sacado 14 atacando con palo a mauricio le quedan 25 de vida.\n",
      "mauricio ha sacado 27 atacando con espada a jorge le quedan 24 de vida.\n",
      "jorge has matado a mauricio :'( por que eres tan cruel!!!\n"
     ]
    }
   ],
   "source": [
    "int ataque;\n",
    "while (true){\n",
    "    ataque = (int) (Math.random()*(4-1)+1);\n",
    "    switch (ataque){\n",
    "        case 1:\n",
    "            jorge.arma =\"mano\";\n",
    "            jorge.atacar(mauricio);\n",
    "            break;\n",
    "        case 2:\n",
    "            jorge.arma =\"palo\";\n",
    "            jorge.atacar(mauricio);\n",
    "            break;\n",
    "        case 3:\n",
    "            jorge.arma =\"espada\";\n",
    "            jorge.atacar(mauricio);\n",
    "            break;\n",
    "        case 4:\n",
    "            System.out.println(jorge.nombre + \" has errado el golpe, suerte para la proxima\");\n",
    "            break;\n",
    "    }\n",
    "    if (mauricio.vida <=0) break;\n",
    "    ataque = (int) (Math.random()*(7-1)+1);\n",
    "    switch (ataque){\n",
    "        case 1:\n",
    "            mauricio.arma =\"mano\";\n",
    "            mauricio.atacar(jorge);\n",
    "            break;\n",
    "        case 2:\n",
    "            mauricio.arma =\"palo\";\n",
    "            mauricio.atacar(jorge);\n",
    "            break;\n",
    "        case 3:\n",
    "            mauricio.arma =\"espada\";\n",
    "            mauricio.atacar(jorge);\n",
    "            break;\n",
    "        default:\n",
    "            System.out.println(mauricio.nombre + \" has errado el golpe, suerte para la proxima\");\n",
    "            break;\n",
    "    }\n",
    "    if (jorge.vida <=0) break;\n",
    "}"
   ]
  },
  {
   "cell_type": "code",
   "execution_count": null,
   "id": "75e86e21",
   "metadata": {},
   "outputs": [],
   "source": []
  }
 ],
 "metadata": {
  "kernelspec": {
   "display_name": "Java",
   "language": "java",
   "name": "java"
  },
  "language_info": {
   "codemirror_mode": "java",
   "file_extension": ".jshell",
   "mimetype": "text/x-java-source",
   "name": "Java",
   "pygments_lexer": "java",
   "version": "19.0.2+7-44"
  }
 },
 "nbformat": 4,
 "nbformat_minor": 5
}
