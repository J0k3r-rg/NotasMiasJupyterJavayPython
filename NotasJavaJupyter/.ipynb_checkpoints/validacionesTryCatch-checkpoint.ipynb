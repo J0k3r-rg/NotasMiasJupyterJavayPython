{
 "cells": [
  {
   "cell_type": "code",
   "execution_count": 2,
   "id": "f41342c0",
   "metadata": {},
   "outputs": [
    {
     "name": "stdout",
     "output_type": "stream",
     "text": [
      "ingrese un numero ENTERO: hola\n",
      "HA INGRESADO UN DATO INCORRECTO\n",
      "ingrese un numero ENTERO: hola\n",
      "HA INGRESADO UN DATO INCORRECTO\n",
      "ingrese un numero ENTERO: hola\n",
      "HA INGRESADO UN DATO INCORRECTO\n",
      "ingrese un numero ENTERO: hola\n",
      "HA INGRESADO UN DATO INCORRECTO\n",
      "ingrese un numero ENTERO: hola\n",
      "HA INGRESADO UN DATO INCORRECTO\n",
      "ingrese un numero ENTERO: hola\n",
      "HA INGRESADO UN DATO INCORRECTO\n",
      "ingrese un numero ENTERO: hola\n",
      "HA INGRESADO UN DATO INCORRECTO\n",
      "ingrese un numero ENTERO: hola\n",
      "HA INGRESADO UN DATO INCORRECTO\n",
      "ingrese un numero ENTERO: chau\n",
      "HA INGRESADO UN DATO INCORRECTO\n",
      "ingrese un numero ENTERO: 123\n"
     ]
    }
   ],
   "source": [
    "import java.util.InputMismatchException;\n",
    "\n",
    "Scanner leer = new Scanner(System.in);\n",
    "int numero;\n",
    "do {\n",
    "    try {\n",
    "        System.out.print(\"ingrese un numero de tipo INT: \");\n",
    "        numero = leer.nextInt();\n",
    "        break;\n",
    "    } catch (InputMismatchException ex) {\n",
    "        System.out.println(\"HA INGRESADO UN DATO INCORRECTO\");\n",
    "        leer.nextLine();\n",
    "    }\n",
    "} while (true);"
   ]
  },
  {
   "cell_type": "code",
   "execution_count": 3,
   "id": "5a9a9ae9",
   "metadata": {},
   "outputs": [
    {
     "name": "stdout",
     "output_type": "stream",
     "text": [
      "ingrese un numero ENTERO: asd\n",
      "HA INGRESADO UN DATO INCORRECTO\n",
      "ingrese un numero ENTERO: 12\n"
     ]
    }
   ],
   "source": [
    "double numero2;\n",
    "do {\n",
    "    try {\n",
    "        System.out.print(\"ingrese un numero de tipo DOUBLE o INT: \");\n",
    "        numero2 = leer.nextDouble();\n",
    "        break;\n",
    "    } catch (InputMismatchException ex) {\n",
    "        System.out.println(\"HA INGRESADO UN DATO INCORRECTO\");\n",
    "        leer.nextLine();\n",
    "    }\n",
    "} while (true);"
   ]
  }
 ],
 "metadata": {
  "kernelspec": {
   "display_name": "Java",
   "language": "java",
   "name": "java"
  },
  "language_info": {
   "codemirror_mode": "java",
   "file_extension": ".jshell",
   "mimetype": "text/x-java-source",
   "name": "Java",
   "pygments_lexer": "java",
   "version": "19.0.2+7-44"
  }
 },
 "nbformat": 4,
 "nbformat_minor": 5
}
