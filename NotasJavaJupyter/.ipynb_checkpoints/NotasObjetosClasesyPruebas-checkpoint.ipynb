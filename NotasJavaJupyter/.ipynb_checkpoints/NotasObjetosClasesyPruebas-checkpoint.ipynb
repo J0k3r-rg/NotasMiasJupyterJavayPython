{
 "cells": [
  {
   "cell_type": "markdown",
   "id": "9409b4fb",
   "metadata": {},
   "source": [
    "# MIS NOTAS Y PRUEBAS\n",
    "\n",
    "## primero crearemos una clase para despues realizar pruebas"
   ]
  },
  {
   "cell_type": "code",
   "execution_count": 17,
   "id": "43ee00a5",
   "metadata": {},
   "outputs": [],
   "source": [
    "public class Persona{\n",
    "    private String nombre =\"\";\n",
    "    private String apellido=\"\";\n",
    "    private int edad = 0;\n",
    "    \n",
    "    public Persona(String nombre, String apellido,int edad){\n",
    "        this.nombre = nombre;\n",
    "        this.apellido = apellido;\n",
    "        this.edad = edad;\n",
    "    }\n",
    "    public String getNombre(){\n",
    "        return this.nombre;\n",
    "    }\n",
    "    public void setNombre(String nombre){\n",
    "        this.nombre = nombre;\n",
    "    }\n",
    "}"
   ]
  },
  {
   "cell_type": "markdown",
   "id": "5de88535",
   "metadata": {},
   "source": [
    "### CREAMOS EL OBJETO PERSONA1 Y LE DAMOS SUS VALORES"
   ]
  },
  {
   "cell_type": "code",
   "execution_count": 18,
   "id": "5571bc19",
   "metadata": {},
   "outputs": [],
   "source": [
    "Persona persona1 = new Persona(\"mauricio\",\"maldonado\",32);"
   ]
  },
  {
   "cell_type": "code",
   "execution_count": 19,
   "id": "44edbd7e",
   "metadata": {},
   "outputs": [
    {
     "data": {
      "text/plain": [
       "REPL.$JShell$19$Persona@7f98c04c"
      ]
     },
     "execution_count": 19,
     "metadata": {},
     "output_type": "execute_result"
    }
   ],
   "source": [
    "persona1"
   ]
  },
  {
   "cell_type": "code",
   "execution_count": 20,
   "id": "9f53cc92",
   "metadata": {},
   "outputs": [
    {
     "data": {
      "text/plain": [
       "mauricio"
      ]
     },
     "execution_count": 20,
     "metadata": {},
     "output_type": "execute_result"
    }
   ],
   "source": [
    "persona1.getNombre()"
   ]
  },
  {
   "cell_type": "code",
   "execution_count": 21,
   "id": "79cdaf16",
   "metadata": {},
   "outputs": [
    {
     "data": {
      "text/plain": [
       "true"
      ]
     },
     "execution_count": 21,
     "metadata": {},
     "output_type": "execute_result"
    }
   ],
   "source": [
    "persona1.getNombre() == \"mauricio\""
   ]
  },
  {
   "cell_type": "code",
   "execution_count": 60,
   "id": "8b85b17a",
   "metadata": {},
   "outputs": [],
   "source": [
    "Persona persona2 = new Persona(\"mauridio\",\"maldonado\",32)"
   ]
  },
  {
   "cell_type": "code",
   "execution_count": 61,
   "id": "8db6b557",
   "metadata": {},
   "outputs": [
    {
     "data": {
      "text/plain": [
       "REPL.$JShell$19$Persona@5a2a0bf1"
      ]
     },
     "execution_count": 61,
     "metadata": {},
     "output_type": "execute_result"
    }
   ],
   "source": [
    "persona2"
   ]
  },
  {
   "cell_type": "code",
   "execution_count": 23,
   "id": "4ff8eba5",
   "metadata": {},
   "outputs": [
    {
     "data": {
      "text/plain": [
       "false"
      ]
     },
     "execution_count": 23,
     "metadata": {},
     "output_type": "execute_result"
    }
   ],
   "source": [
    "persona1 == persona2"
   ]
  },
  {
   "cell_type": "code",
   "execution_count": 63,
   "id": "9f80cbec",
   "metadata": {},
   "outputs": [],
   "source": [
    "persona1 = persona2"
   ]
  },
  {
   "cell_type": "markdown",
   "id": "76c83254",
   "metadata": {},
   "source": [
    "NO ASIGNAMOS EL VALOR DE LO QUE TENGA PERSONA2 A PERSONA1 SI NO QUE HICIMOS QUE PERSONA1 APUNTE DONDE APUNTA PERSONA2 CONVIRTIENDOLOS EXACTAMENTE EN EL MISMO OBJETO EN EL MISMO LUGAR EN MEMIORIA\n",
    "POR LO TANTO SI MODIFICO 1 CUANDO QUIERA CONSULTAR EN EL OTRO EL CAMBIO APLICA PARA LOS 2, QUIERE DECIR QUE LAS 2 VARIABLES ME SIRVEN PARA ACCEDER A ESE ESPACIO EN MEMORIA"
   ]
  },
  {
   "cell_type": "code",
   "execution_count": 64,
   "id": "6389fb58",
   "metadata": {},
   "outputs": [
    {
     "data": {
      "text/plain": [
       "REPL.$JShell$19$Persona@5a2a0bf1"
      ]
     },
     "execution_count": 64,
     "metadata": {},
     "output_type": "execute_result"
    }
   ],
   "source": [
    "persona1"
   ]
  },
  {
   "cell_type": "code",
   "execution_count": 65,
   "id": "fe87946c",
   "metadata": {},
   "outputs": [
    {
     "data": {
      "text/plain": [
       "REPL.$JShell$19$Persona@5a2a0bf1"
      ]
     },
     "execution_count": 65,
     "metadata": {},
     "output_type": "execute_result"
    }
   ],
   "source": [
    "persona2"
   ]
  },
  {
   "cell_type": "markdown",
   "id": "f7b7f2d9",
   "metadata": {},
   "source": [
    "### INTERESANTE... QUE ES LO QUE SUCEDE?\n",
    "\n",
    "Veremos que pasa con la clase string ... que es lo que sucede \n"
   ]
  },
  {
   "cell_type": "code",
   "execution_count": 24,
   "id": "ab38b956",
   "metadata": {},
   "outputs": [],
   "source": [
    "String nombre =\"mauricio\";"
   ]
  },
  {
   "cell_type": "code",
   "execution_count": 38,
   "id": "e6800e62",
   "metadata": {},
   "outputs": [],
   "source": [
    "String nombre2 = \"mauricio\";"
   ]
  },
  {
   "cell_type": "code",
   "execution_count": 26,
   "id": "5878cf9f",
   "metadata": {},
   "outputs": [
    {
     "data": {
      "text/plain": [
       "true"
      ]
     },
     "execution_count": 26,
     "metadata": {},
     "output_type": "execute_result"
    }
   ],
   "source": [
    "nombre==nombre2"
   ]
  },
  {
   "cell_type": "code",
   "execution_count": 27,
   "id": "85445d4f",
   "metadata": {},
   "outputs": [
    {
     "data": {
      "text/plain": [
       "true"
      ]
     },
     "execution_count": 27,
     "metadata": {},
     "output_type": "execute_result"
    }
   ],
   "source": [
    "nombre ==\"mauricio\""
   ]
  },
  {
   "cell_type": "code",
   "execution_count": 28,
   "id": "31e61628",
   "metadata": {},
   "outputs": [],
   "source": [
    "String nombre3 = new String(\"mauricio\");"
   ]
  },
  {
   "cell_type": "code",
   "execution_count": 41,
   "id": "412abcb4",
   "metadata": {},
   "outputs": [
    {
     "data": {
      "text/plain": [
       "false"
      ]
     },
     "execution_count": 41,
     "metadata": {},
     "output_type": "execute_result"
    }
   ],
   "source": [
    "nombre == nombre3"
   ]
  },
  {
   "cell_type": "code",
   "execution_count": 42,
   "id": "dc23299a",
   "metadata": {},
   "outputs": [],
   "source": [
    "persona1.setNombre(\"ezequiel\")"
   ]
  },
  {
   "cell_type": "code",
   "execution_count": 46,
   "id": "022e9873",
   "metadata": {},
   "outputs": [
    {
     "data": {
      "text/plain": [
       "ezequiel"
      ]
     },
     "execution_count": 46,
     "metadata": {},
     "output_type": "execute_result"
    }
   ],
   "source": [
    "persona1.getNombre()"
   ]
  },
  {
   "cell_type": "code",
   "execution_count": 32,
   "id": "325f0e82",
   "metadata": {},
   "outputs": [
    {
     "data": {
      "text/plain": [
       "mauricio"
      ]
     },
     "execution_count": 32,
     "metadata": {},
     "output_type": "execute_result"
    }
   ],
   "source": [
    "nombre"
   ]
  },
  {
   "cell_type": "code",
   "execution_count": 33,
   "id": "83f63825",
   "metadata": {},
   "outputs": [
    {
     "data": {
      "text/plain": [
       "mauricio"
      ]
     },
     "execution_count": 33,
     "metadata": {},
     "output_type": "execute_result"
    }
   ],
   "source": [
    "nombre3"
   ]
  },
  {
   "cell_type": "code",
   "execution_count": 34,
   "id": "f4dcb1f3",
   "metadata": {},
   "outputs": [
    {
     "data": {
      "text/plain": [
       "false"
      ]
     },
     "execution_count": 34,
     "metadata": {},
     "output_type": "execute_result"
    }
   ],
   "source": [
    "persona1.getNombre() == nombre3"
   ]
  },
  {
   "cell_type": "code",
   "execution_count": null,
   "id": "55070c50",
   "metadata": {},
   "outputs": [],
   "source": []
  },
  {
   "cell_type": "code",
   "execution_count": null,
   "id": "cae5d0cb",
   "metadata": {},
   "outputs": [],
   "source": []
  }
 ],
 "metadata": {
  "kernelspec": {
   "display_name": "Java",
   "language": "java",
   "name": "java"
  },
  "language_info": {
   "codemirror_mode": "java",
   "file_extension": ".jshell",
   "mimetype": "text/x-java-source",
   "name": "Java",
   "pygments_lexer": "java",
   "version": "19.0.2+7-44"
  }
 },
 "nbformat": 4,
 "nbformat_minor": 5
}
