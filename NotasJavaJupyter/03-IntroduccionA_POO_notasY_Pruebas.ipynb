{
 "cells": [
  {
   "cell_type": "markdown",
   "id": "9409b4fb",
   "metadata": {},
   "source": [
    "## Ultima modificacion: 23-03-2023\n",
    "\n",
    "# MIS NOTAS Y PRUEBAS SOBRE OBJETOS\n",
    "\n",
    "## primero crearemos una clase para despues realizar pruebas\n",
    "\n",
    "### IMPORTANTE:\n",
    "TODO LO QUE SE ECNUENTRA ESCRITO A CONTINUACION SON PRUEBAS Y SUPOSICIONES MIAS, ES MI PUNTO DE VISTA Y SON PRUBEAS QUE HE REALIZADO. "
   ]
  },
  {
   "cell_type": "markdown",
   "id": "a8e839a7",
   "metadata": {},
   "source": [
    "## PERO ANTES DE COMENZAR.\n",
    "    Podriamos explicar a grandes rasgos las classes y objetos, no?\n",
    "    \n",
    "    BIEN! una clase podriamos relacionarlo con un molde. Imaginemos a las personas y cada persona tiene atributos (nombre, apellido,edad,sexo,etc) ... En programacion se puede realizar un molde para crear personas y darle a cada uno sus atributos.\n",
    "    Para eso sirven las clases ... para crear un molde de algo y poder crear objetos a partir de ese molde. \n",
    "    Y los objetos? eso lo iremos viendo! por que en este momento no se como explicarlo XD"
   ]
  },
  {
   "cell_type": "code",
   "execution_count": 1,
   "id": "43ee00a5",
   "metadata": {},
   "outputs": [],
   "source": [
    "public class Persona{\n",
    "    \n",
    "    String nombre =\"\";\n",
    "    String apellido=\"\";\n",
    "    int edad = 0;\n",
    "    \n",
    "    // ------   construstor de la clase   ------\n",
    "    public Persona(String nombre, String apellido,int edad){\n",
    "        this.nombre = nombre;\n",
    "        this.apellido = apellido;\n",
    "        this.edad = edad;\n",
    "    }\n",
    "    \n",
    "}"
   ]
  },
  {
   "cell_type": "markdown",
   "id": "5de88535",
   "metadata": {},
   "source": [
    "### INSTANCIAMOS EL OBJETO PERSONA1 Y LE DAMOS VALORES A SUS PROPIEDADES\n"
   ]
  },
  {
   "cell_type": "code",
   "execution_count": 2,
   "id": "5571bc19",
   "metadata": {},
   "outputs": [],
   "source": [
    "Persona persona1 = new Persona(\"mauricio\",\"maldonado\",32);"
   ]
  },
  {
   "cell_type": "markdown",
   "id": "e5a730ef",
   "metadata": {},
   "source": [
    "## INSTANCIAR \n",
    "\n",
    "Instanciar objetos es el proceso de generar un ejemplar de una clase, es decir, la clase es como una declaración de una forma y el objeto es un caso o elemento concreto que responde a esa forma.\n",
    "\n",
    "SUPISICION MIA: No estoy muy seguro pero cuando instanciamos un objeto lo que se hace es reservar un espacio en memoria y que el objeto apunte a ese espacio, trabaja de manera distinta a una variable.\n",
    "\n",
    "Recordar que una clase es como un molde el cual nos sirve para crear varios objetos con sus propiedades, un ejemplo muy claro es el de Personas, podriamos tener una clase \"Personas\" con sus propiedades como \"nombre\",\"apellido\", \"dni\", \"edad\", \"nacionalidad\" y un sin fin de propiedades. No todas las personas son iguales y por mas que tengan el mismo nombre, apellido y quisas algunas cosas mas no son los mismos ya que estan en lugares diferentes. "
   ]
  },
  {
   "cell_type": "code",
   "execution_count": 3,
   "id": "57151b12",
   "metadata": {},
   "outputs": [
    {
     "data": {
      "text/plain": [
       "REPL.$JShell$12$Persona@27f91ada"
      ]
     },
     "execution_count": 3,
     "metadata": {},
     "output_type": "execute_result"
    }
   ],
   "source": [
    "persona1"
   ]
  },
  {
   "cell_type": "markdown",
   "id": "15865d2f",
   "metadata": {},
   "source": [
    "### Interesante\n",
    "vemos que nos muestra algo raro, si volvemos a ejecutar la instanciacion del objeto persona1 vamos a ver que lo que estta despues del arroba cambia. vamos a instanciarlo de nuevo y veremos que sucede"
   ]
  },
  {
   "cell_type": "code",
   "execution_count": 4,
   "id": "0eecd780",
   "metadata": {},
   "outputs": [],
   "source": [
    "persona1 = new Persona(\"mauricio\",\"maldonado\",32);"
   ]
  },
  {
   "cell_type": "code",
   "execution_count": 5,
   "id": "dd9a02bd",
   "metadata": {},
   "outputs": [
    {
     "data": {
      "text/plain": [
       "REPL.$JShell$12$Persona@282579b5"
      ]
     },
     "execution_count": 5,
     "metadata": {},
     "output_type": "execute_result"
    }
   ],
   "source": [
    "persona1"
   ]
  },
  {
   "cell_type": "markdown",
   "id": "03fd8393",
   "metadata": {},
   "source": [
    "### QUE PASO?\n",
    "Suponemos que eso que esta despues del @ es la direccion de memoria a cual apunta el objeto persona1\n",
    "\n",
    "Crearemos otro objeto persona2 y le vamos a pasar las mismas propiedades que le dimos a persona1"
   ]
  },
  {
   "cell_type": "code",
   "execution_count": 6,
   "id": "eb286aa9",
   "metadata": {},
   "outputs": [],
   "source": [
    "Persona persona2 = new Persona(\"mauricio\",\"maldonado\",32);"
   ]
  },
  {
   "cell_type": "code",
   "execution_count": 7,
   "id": "b3b5ce26",
   "metadata": {},
   "outputs": [
    {
     "data": {
      "text/plain": [
       "REPL.$JShell$12$Persona@3245a249"
      ]
     },
     "execution_count": 7,
     "metadata": {},
     "output_type": "execute_result"
    }
   ],
   "source": [
    "persona2"
   ]
  },
  {
   "cell_type": "markdown",
   "id": "f8943065",
   "metadata": {},
   "source": [
    "### suponemos que los dos objetos persona1 y persona2 son iguales?\n",
    "Al crear los objetos vamos a creer o suponer que ambos son iguales, vamos a compararlos y ver que es lo que sucede"
   ]
  },
  {
   "cell_type": "code",
   "execution_count": 8,
   "id": "8825d94a",
   "metadata": {},
   "outputs": [
    {
     "data": {
      "text/plain": [
       "false"
      ]
     },
     "execution_count": 8,
     "metadata": {},
     "output_type": "execute_result"
    }
   ],
   "source": [
    "persona1 == persona2"
   ]
  },
  {
   "cell_type": "markdown",
   "id": "ddb0ac5f",
   "metadata": {},
   "source": [
    "### QUE PASO?\n",
    "\n",
    "segun mis conocimientos hasta el momento cuando instanciamos un objeto lo que hacemos es reservar un espacio en memoria y almacenamos todas sus propiedades ahi, y el objeto lo utilizamos para acceder a ese espacio en memoria ya que ese mismo apunta ahi. "
   ]
  },
  {
   "cell_type": "markdown",
   "id": "0742c385",
   "metadata": {},
   "source": [
    "### Vamos a persona1 igualarla a null y ver que sucede"
   ]
  },
  {
   "cell_type": "code",
   "execution_count": 9,
   "id": "8a8467e7",
   "metadata": {},
   "outputs": [],
   "source": [
    "persona1 = null"
   ]
  },
  {
   "cell_type": "code",
   "execution_count": 10,
   "id": "5474f844",
   "metadata": {},
   "outputs": [
    {
     "ename": "EvalException",
     "evalue": "Cannot read field \"nombre\" because \"REPL.$JShell$13.persona1\" is null",
     "output_type": "error",
     "traceback": [
      "\u001b[1m\u001b[31m---------------------------------------------------------------------------\u001b[0m",
      "\u001b[1m\u001b[31mjava.lang.NullPointerException: Cannot read field \"nombre\" because \"REPL.$JShell$13.persona1\" is null\u001b[0m",
      "\u001b[1m\u001b[31m\tat .(#21:1)\u001b[0m"
     ]
    }
   ],
   "source": [
    "persona1.nombre"
   ]
  },
  {
   "cell_type": "markdown",
   "id": "f2a800f8",
   "metadata": {},
   "source": [
    "## Que sucedio? \n",
    "    En palabras simple lo que sucedio es que persona1 dejo de apuntar a la direccion de memoria que apuntaba originalmente. Quiere decir que persona1 no existe? respuesta: si y no. Todos los atributos de persona1 estan en memoria hasta que pase el Garbage Collector, pero no hay ninguna referencia que apunte a ese espacio en memoria y por lo tanto no podemos accedera esos atributos.\n",
    "    Garbage Collector : es como una escoba que va pasando mientras seejecuta el programa y va liberando la memoria de variables, objetos y ese tipo de cosas que ocupan lugar (recuerden que va a la memoria RAM) para poder optimizar nuestro programa.\n",
    "### ENTONCES QUE SUCEDE?\n",
    "    Es medio complicado de entender ya que hay que imaginarse todo o tratar de dibujarlo con la mente, pero de manera simple un objeto apunta a una direccion en memoria donde estan sus atributos y metodos propios del objeto, \"pero\" al desreferenciarlo (darle un valor null) esos datos se pierden por que ya no podemos acceder a esa parte. Y al final se terminan perdiendo\n",
    "    En este preciso momento persona1 no tiene propiedades ni metodos. Pero podemos volver a inicializarlo como un objeto???\n",
    "   ### VAMOS A PROBARLO"
   ]
  },
  {
   "cell_type": "code",
   "execution_count": 11,
   "id": "97324c11",
   "metadata": {},
   "outputs": [],
   "source": [
    "persona1 = new Persona(\"mauricio\",\"maldonado\",32);"
   ]
  },
  {
   "cell_type": "code",
   "execution_count": 12,
   "id": "eec8555d",
   "metadata": {},
   "outputs": [
    {
     "data": {
      "text/plain": [
       "REPL.$JShell$12$Persona@7f8c3457"
      ]
     },
     "execution_count": 12,
     "metadata": {},
     "output_type": "execute_result"
    }
   ],
   "source": [
    "persona1"
   ]
  },
  {
   "cell_type": "markdown",
   "id": "01c56ff5",
   "metadata": {},
   "source": [
    "# INTERESANTE!\n",
    "\n",
    "## OBSERVAMOS QUE SUCEDIO mmm...\n",
    "\n",
    "los datos que me tiraba antes persona1 es: \n",
    "<p> REPL.$JShell$12$Persona@39425847 </p>\n",
    "\n",
    "y los nuevos datos que me tira perona 1 es:\n",
    "<p> REPL.$JShell$12$Persona@1c64d359 </p>\n",
    "\n",
    "## SON DISTINTOS... POR QUE?\n",
    "    Es simple o quizas no, pero al instanciar un objeto recuerden que reservamos un espacio en memoria para guardar los atributos y metodos del objeto. Y supongo que es casi imposible instanciar 2 objetos distintos de la misma clase y que apunten hacia el mismo lugar, igual es \"suposicion\", NO TENGO LOS CONOCIMIENTOS NECESARIOS PARA AFIRMAR ESO.\n",
    "   ### ENTONCES LAS PROPIEDADES QUE TENIA ANTES PERSONA1 SON DISTINTAS A LAS DE AHORA? \n",
    "        SI!!! por que estan en otro lugar en memoria!\n",
    "   ### SIGO SIN ENTENDER!\n",
    "        No te preocupes quisas con otros ejemplos puedas entender mejor y vamos a tratar de solucionarlo\n",
    "        \n",
    "### EN EL MISMO REPOSITORIO DONDE SE ENCUENTRAN HAY OTRO ARCHIVO DE POO DONDE DOY EJEMPLOS CON UN JUEGO SIMPLE... \"SIMPLE\" NO ESPEREN MUCHO POR FAVOR XD"
   ]
  },
  {
   "cell_type": "markdown",
   "id": "50b87f2a",
   "metadata": {},
   "source": [
    "## AHORA VAMOS A IGUALAR LOS OBJETOS PARA VER SI SE PASAN LOS ATRIBUTOS Y METODOS DE UNO HACIA OTRO, COMO SI FUERAN VARIABLES\n",
    "\n",
    "    Y veremos que es lo que sucede! atencion a esta parte"
   ]
  },
  {
   "cell_type": "code",
   "execution_count": 13,
   "id": "877e4eb2",
   "metadata": {},
   "outputs": [],
   "source": [
    "persona1 = persona2"
   ]
  },
  {
   "cell_type": "code",
   "execution_count": 14,
   "id": "4fd2942e",
   "metadata": {},
   "outputs": [
    {
     "data": {
      "text/plain": [
       "REPL.$JShell$12$Persona@3245a249"
      ]
     },
     "execution_count": 14,
     "metadata": {},
     "output_type": "execute_result"
    }
   ],
   "source": [
    "persona1"
   ]
  },
  {
   "cell_type": "code",
   "execution_count": 15,
   "id": "23a4f17c",
   "metadata": {},
   "outputs": [
    {
     "data": {
      "text/plain": [
       "REPL.$JShell$12$Persona@3245a249"
      ]
     },
     "execution_count": 15,
     "metadata": {},
     "output_type": "execute_result"
    }
   ],
   "source": [
    "persona2"
   ]
  },
  {
   "cell_type": "markdown",
   "id": "161b5c4c",
   "metadata": {},
   "source": [
    "## INTERESANTE NO?\n",
    "\n",
    "    Fijarse que persona1 apunta a: REPL.$JShell$12$Persona@5602c8de\n",
    "    y que persona2 apunta a :      REPL.$JShell$12$Persona@5602c8de\n",
    "    \n",
    " ### APUNTAN AL MISMO LADO? \n",
    "       Son lo mismo? tienen los mismos datos? que sucede si cambio a uno? que pasa si a 1 lo igualo a null? son respuestas que vamos a conceguir haciendo pruebas\n",
    "       \n",
    " ### PRIMERO IMPRIMIREMOS LOS VALORES DE TODOS LOS ATRIBUTOS"
   ]
  },
  {
   "cell_type": "code",
   "execution_count": 16,
   "id": "87f8d8a7",
   "metadata": {},
   "outputs": [
    {
     "name": "stdout",
     "output_type": "stream",
     "text": [
      "mauricio\n",
      "maldonado\n",
      "32\n",
      "\n",
      "mauricio\n",
      "maldonado\n",
      "32\n"
     ]
    }
   ],
   "source": [
    "System.out.println(persona1.nombre);\n",
    "System.out.println(persona1.apellido);\n",
    "System.out.println(persona1.edad);\n",
    "System.out.println(\"\");\n",
    "System.out.println(persona2.nombre);\n",
    "System.out.println(persona2.apellido);\n",
    "System.out.println(persona2.edad);\n"
   ]
  },
  {
   "cell_type": "markdown",
   "id": "4cd1decc",
   "metadata": {},
   "source": [
    "### MODIFICAMOS A PERSONA1"
   ]
  },
  {
   "cell_type": "code",
   "execution_count": 17,
   "id": "333297bb",
   "metadata": {},
   "outputs": [
    {
     "data": {
      "text/plain": [
       "100"
      ]
     },
     "execution_count": 17,
     "metadata": {},
     "output_type": "execute_result"
    }
   ],
   "source": [
    "persona1.nombre = \"ezequiel\";\n",
    "persona1.apellido =\"kawasaki\";\n",
    "persona1.edad = 100;"
   ]
  },
  {
   "cell_type": "code",
   "execution_count": 18,
   "id": "cc90caeb",
   "metadata": {},
   "outputs": [
    {
     "name": "stdout",
     "output_type": "stream",
     "text": [
      "ezequiel\n",
      "kawasaki\n",
      "100\n"
     ]
    }
   ],
   "source": [
    "System.out.println(persona1.nombre);\n",
    "System.out.println(persona1.apellido);\n",
    "System.out.println(persona1.edad);"
   ]
  },
  {
   "cell_type": "markdown",
   "id": "aab1879a",
   "metadata": {},
   "source": [
    "### COMO VEMOS PERSONA1 CAMBIO SUS ATRIBUTOS, PERO Y PERSONA2??? \n",
    "        Vamos a preguntarle"
   ]
  },
  {
   "cell_type": "code",
   "execution_count": 19,
   "id": "03511668",
   "metadata": {},
   "outputs": [
    {
     "name": "stdout",
     "output_type": "stream",
     "text": [
      "ezequiel\n",
      "kawasaki\n",
      "100\n"
     ]
    }
   ],
   "source": [
    "System.out.println(persona2.nombre);\n",
    "System.out.println(persona2.apellido);\n",
    "System.out.println(persona2.edad);"
   ]
  },
  {
   "cell_type": "markdown",
   "id": "b6c9d4d9",
   "metadata": {},
   "source": [
    "# Y AHORA?\n",
    "Vimos que primero igualamos a persona1 con null, e intentamos acceder a su nombre y como vimos no pudimos acceder ya que el objeto no apunta a nada. \n",
    "Despues volvimos a instanciar a persona1 y vimos que apunta a una direccion diferente a la que tenia originalmente la primera vez que lo instanciamos.\n",
    "Despues tratamos de pasarle las propiedades de persona2 a persona1 e intentamos modificarle los atribiutos a persona1, pero al consultar los nombres de las 2 personas se modificaron los 2.\n",
    "Como ya explicamos antes los objetos apuntan a una direccion en memoria, pero cuando a persona1 la igualamos a null dejo deapuntar a su direccion de memoria que tenia inicialmente.Lo volvimos a instanciar y apunto hacia otro lugar. Al igualarlo a persona2 lo que hicimos es pasarle la referencia de hacia donde apunta persona2. Por lo tanto perona1 y persona2 apuntan exactamente al mismo lugar en memoria, y puedo acceder a ese lugar mediante los dos objetos que creamos inicialmente\n",
    "### ENTONCES QUE SUCEDE CUANDO SUPUESTAMENTE CREAMOS UN OBJETO?\n",
    "Eso te toca averiguarlo a vos\n",
    "\n",
    "### AHORA VAMOS A SUPONER QUE SI MODIFICO PERSONA2 TAMBIEN SE MODIFICA PERSONA1 ?\n",
    "    Si observamos y tratamos de deducirlo podemos decirque hay 2 espacios en memoria que se cambian al mismo tiempo? persona1 y persona2 son diferentes? Si realizo cambios a persona1 se cambia persona2 y bisceverza? \n",
    "    Parece que si, PERO NOOOOOOO!!!! LA RESPUESTA ES NOOOOOOOOOOOOOOOOOOO!\n",
    "    Lo que realmente sucedio es que persona2 le paso su referencia a persona1. Lo que quiere decir que con cualquiera de los 2 me sirve para acceder al mismo espacio en memoria... Por eso con cualquiera que modifique, NO se modifica la persona si no el espacio en memoria al cual ESTAN REFERENCIADOS LOS 2."
   ]
  },
  {
   "cell_type": "code",
   "execution_count": 20,
   "id": "f35eaf60",
   "metadata": {},
   "outputs": [],
   "source": [
    "persona2 = null"
   ]
  },
  {
   "cell_type": "code",
   "execution_count": 21,
   "id": "71d6c756",
   "metadata": {},
   "outputs": [
    {
     "data": {
      "text/plain": [
       "REPL.$JShell$12$Persona@3245a249"
      ]
     },
     "execution_count": 21,
     "metadata": {},
     "output_type": "execute_result"
    }
   ],
   "source": [
    "persona1"
   ]
  },
  {
   "cell_type": "code",
   "execution_count": 22,
   "id": "28580540",
   "metadata": {},
   "outputs": [],
   "source": [
    "persona2"
   ]
  },
  {
   "cell_type": "markdown",
   "id": "5d3a248b",
   "metadata": {},
   "source": [
    "### A SACAR SUS PROPIAS CONCLUCIONES! \n",
    "\n",
    "  # VAMOS A USAR ESE CEREBRO QUE PARA ALGO LO TENEMOS!"
   ]
  },
  {
   "cell_type": "markdown",
   "id": "13f2e4e1",
   "metadata": {},
   "source": [
    "# Vamos a volver a crear una clase con 2 constructores\n",
    "\n",
    "    Como ya sabemos una clase puede tener varios constructores para poder referenciar el objeto. en este caso vamos a agregar un constructor vacio que lo unico que hara al momento de instanciar un objeto es tirar un mensaje en pantalla"
   ]
  },
  {
   "cell_type": "code",
   "execution_count": 23,
   "id": "f63ae33e",
   "metadata": {},
   "outputs": [],
   "source": [
    "public class Persona{\n",
    "    \n",
    "    String nombre =\"\";\n",
    "    String apellido=\"\";\n",
    "    int edad = 0;\n",
    "    //-------    constructor de la clase sin atributos --------\n",
    "    public Persona(){\n",
    "        System.out.println(\"objeto instanciado\");\n",
    "    }\n",
    "    \n",
    "    // ------   construstor de la clase con 2 atributos   ------\n",
    "    public Persona(String nombre, String apellido,int edad){\n",
    "        this.nombre = nombre;\n",
    "        this.apellido = apellido;\n",
    "        this.edad = edad;\n",
    "        System.out.println(\"objeto instanciado\");\n",
    "    }\n",
    "    \n",
    "}"
   ]
  },
  {
   "cell_type": "code",
   "execution_count": 24,
   "id": "d05a8bd4",
   "metadata": {},
   "outputs": [
    {
     "name": "stdout",
     "output_type": "stream",
     "text": [
      "objeto instanciado\r\n"
     ]
    }
   ],
   "source": [
    "Persona persona1 = new Persona()"
   ]
  },
  {
   "cell_type": "markdown",
   "id": "8d8201ca",
   "metadata": {},
   "source": [
    "### VAMOS A CONSULTAR SUS ATRIBUTOS"
   ]
  },
  {
   "cell_type": "code",
   "execution_count": 25,
   "id": "f18195b0",
   "metadata": {},
   "outputs": [
    {
     "data": {
      "text/plain": []
     },
     "execution_count": 25,
     "metadata": {},
     "output_type": "execute_result"
    }
   ],
   "source": [
    "persona1.nombre"
   ]
  },
  {
   "cell_type": "code",
   "execution_count": 26,
   "id": "4892b9bb",
   "metadata": {},
   "outputs": [
    {
     "data": {
      "text/plain": []
     },
     "execution_count": 26,
     "metadata": {},
     "output_type": "execute_result"
    }
   ],
   "source": [
    "persona1.apellido"
   ]
  },
  {
   "cell_type": "code",
   "execution_count": 27,
   "id": "38138a91",
   "metadata": {},
   "outputs": [
    {
     "data": {
      "text/plain": [
       "0"
      ]
     },
     "execution_count": 27,
     "metadata": {},
     "output_type": "execute_result"
    }
   ],
   "source": [
    "persona1.edad"
   ]
  },
  {
   "cell_type": "markdown",
   "id": "be307c07",
   "metadata": {},
   "source": [
    "## Como vemos esos atributos estan vacios o por defecto\n",
    "    Al momento de definir los atributos de la clase nosotros les dimos valores por defecto, estos valores solo se le asignaran al objeto en caso de utilizar un constructor y no resiva el parametro de un dato y solo en ese caso los atributos de ese objeto tomara los valores por defecto. Este caso utilizamos un constructor vacio, sin datos para instanciar el objeto y por lo tanto cada una de sus propiedades toma el valor por default"
   ]
  },
  {
   "cell_type": "code",
   "execution_count": 28,
   "id": "31af3022",
   "metadata": {},
   "outputs": [],
   "source": [
    "public class Persona{\n",
    "    \n",
    "    String nombre =\"\";\n",
    "    String apellido=\"\";\n",
    "    int edad = 0;\n",
    "    //-------    constructor de la clase sin atributos --------\n",
    "    public Persona(){\n",
    "        System.out.println(\"objeto instanciado\");\n",
    "    }\n",
    "    // ------   construstor de la clase con 1 atributos   ------\n",
    "    public Persona(String nombre){\n",
    "        this.nombre = nombre;\n",
    "        System.out.println(\"objeto instanciado\");\n",
    "    }\n",
    "    // ------   construstor de la clase con 2 atributos   ------\n",
    "    public Persona(String nombre, String apellido){\n",
    "        this.nombre = nombre;\n",
    "        this.apellido = apellido;\n",
    "        System.out.println(\"objeto instanciado\");\n",
    "    }\n",
    "    // ------   construstor de la clase con 3 atributos   ------\n",
    "    public Persona(String nombre, String apellido,int edad){\n",
    "        this.nombre = nombre;\n",
    "        this.apellido = apellido;\n",
    "        this.edad = edad;\n",
    "        System.out.println(\"objeto instanciado\");\n",
    "    }\n",
    "    \n",
    "}"
   ]
  },
  {
   "cell_type": "markdown",
   "id": "c65dc254",
   "metadata": {},
   "source": [
    "# COMO VERAN TENEMOS VARIOS CONSTRUCTORES\n",
    "\n",
    "## PODEMOS TENER CUANTOS CONSTRUCTORES DESEEMOS?\n",
    "    SI PODEMOS, DEPENDIENDO DE LA FUNCIONALIDAD DE NUESTRO PROGRAMA Y OBJETOS, RECORDAR QUE PUEDEN TENER VARIOS CONSTRUCTORES DE 1 SOLO PARAMETRO PERO SI TENEMOS VARIOS CADA UNO DE ESOS PARAMETROS TIENEQUE SER DIFERENTE... DESPUES AMPLIAREMOS SOBRE ESTE TEMA"
   ]
  },
  {
   "cell_type": "code",
   "execution_count": 29,
   "id": "a50288cf",
   "metadata": {},
   "outputs": [
    {
     "name": "stdout",
     "output_type": "stream",
     "text": [
      "objeto instanciado\n",
      "objeto instanciado\n",
      "objeto instanciado\n",
      "objeto instanciado\n",
      "DATOS DE PERSONA1\n",
      "\n",
      "\n",
      "0\n",
      "DATOS DE PERSONA2\n",
      "mauricio\n",
      "\n",
      "0\n",
      "DATOS DE PERSONA3\n",
      "mauricio\n",
      "maldonado\n",
      "0\n",
      "DATOS DE PERSONA4\n",
      "mauricio\n",
      "mandonado\n",
      "32\n"
     ]
    }
   ],
   "source": [
    "Persona persona1 = new Persona();\n",
    "Persona persona2 = new Persona(\"mauricio\");\n",
    "Persona persona3 = new Persona(\"mauricio\",\"maldonado\");\n",
    "Persona persona4 = new Persona(\"mauricio\",\"mandonado\",32);\n",
    "\n",
    "System.out.println(\"DATOS DE PERSONA1\");\n",
    "System.out.println(persona1.nombre);\n",
    "System.out.println(persona1.apellido);\n",
    "System.out.println(persona1.edad);\n",
    "System.out.println(\"DATOS DE PERSONA2\");\n",
    "System.out.println(persona2.nombre);\n",
    "System.out.println(persona2.apellido);\n",
    "System.out.println(persona2.edad);\n",
    "System.out.println(\"DATOS DE PERSONA3\");\n",
    "System.out.println(persona3.nombre);\n",
    "System.out.println(persona3.apellido);\n",
    "System.out.println(persona3.edad);\n",
    "System.out.println(\"DATOS DE PERSONA4\");\n",
    "System.out.println(persona4.nombre);\n",
    "System.out.println(persona4.apellido);\n",
    "System.out.println(persona4.edad);"
   ]
  },
  {
   "cell_type": "markdown",
   "id": "dd1575f9",
   "metadata": {},
   "source": [
    "## COMO VERAN INSTANCIAMOS 4 OBJETOS Y UTULIZAMOS LOS 4 TIPOS DE CONSTRUCTORES QUE TENEMOS\n",
    "    Si observamos bien los de persona 1 son todos sus atributos por default\n",
    "    los de persona2 solo el apellido y la edad estan por default\n",
    "    los de persona3 solo la edad esta por default\n",
    "    y en persona 4 no tiene ninguno de los datos por default ya que le enviamos todas las propiedades al constructor\n",
    "\n",
    "## ESPERO SE ENTIENDA CON ESTE EJEMPLO\n",
    "    \n",
    "# COMENZAREMOS CON LA SOBRECARGA DE CONSTRUCTORES CON LOS MISMOS PARAMETROS\n",
    "    \n",
    "    Esperemos que se pueda entender con los ejemplos. Recuerdo que yo tampoco se mucho del tema pero me gustan realizar pruebas y por lo tanto las veremos a continuacion"
   ]
  },
  {
   "cell_type": "code",
   "execution_count": 30,
   "id": "364c297d",
   "metadata": {},
   "outputs": [],
   "source": [
    "public class NumerosEnteros{\n",
    "    public int num;\n",
    "    private NumerosEnteros(){} // esta linea es para que se anule el constructor vacio\n",
    "    \n",
    "    public NumerosEnteros(int num){\n",
    "        this.num = num;\n",
    "    }\n",
    "    public NumerosEnteros(double num){\n",
    "        this.num = (int) num;\n",
    "    }\n",
    "    public NumerosEnteros(float num){\n",
    "        this.num = (int) num;\n",
    "    }\n",
    "    public NumerosEnteros(String num){\n",
    "        this.num = Integer.parseInt(num);\n",
    "    }\n",
    "}"
   ]
  },
  {
   "cell_type": "markdown",
   "id": "b4d5aa8d",
   "metadata": {},
   "source": [
    "## INTERESANTE! no tiro ningun error\n",
    "\n",
    "    Quiere decir que puedo crear objetos enteros con distintos constructores de distitnto tipo de datos? ... vamos aver"
   ]
  },
  {
   "cell_type": "code",
   "execution_count": 31,
   "id": "ec2064fe",
   "metadata": {},
   "outputs": [
    {
     "data": {
      "text/plain": [
       "22"
      ]
     },
     "execution_count": 31,
     "metadata": {},
     "output_type": "execute_result"
    }
   ],
   "source": [
    "NumerosEnteros num = new NumerosEnteros(\"22\");\n",
    "num.num"
   ]
  },
  {
   "cell_type": "code",
   "execution_count": 32,
   "id": "8f174aaf",
   "metadata": {},
   "outputs": [
    {
     "data": {
      "text/plain": [
       "22"
      ]
     },
     "execution_count": 32,
     "metadata": {},
     "output_type": "execute_result"
    }
   ],
   "source": [
    "NumerosEnteros num = new NumerosEnteros(22.32);\n",
    "num.num"
   ]
  },
  {
   "cell_type": "markdown",
   "id": "efd2fc8c",
   "metadata": {},
   "source": [
    "### Al parecer funciona perfecto... pero que pasa si hago un constructor igual pero que haga otra cosa ?"
   ]
  },
  {
   "cell_type": "code",
   "execution_count": 33,
   "id": "9717fa0a",
   "metadata": {},
   "outputs": [
    {
     "ename": "CompilationException",
     "evalue": "",
     "output_type": "error",
     "traceback": [
      "\u001b[1m\u001b[30m|   \u001b[1m\u001b[30m    \u001b[0m\u001b[1m\u001b[30m\u001b[41mpublic NumerosEnteros(String num){\u001b[0m",
      "\u001b[1m\u001b[30m|   \u001b[1m\u001b[30m\u001b[41m        System.out.println(\"mi otro constructor con otras acciones\");\u001b[0m",
      "\u001b[1m\u001b[30m|   \u001b[1m\u001b[30m\u001b[41m    }\u001b[0m",
      "\u001b[1m\u001b[31mconstructor NumerosEnteros(java.lang.String) is already defined in class NumerosEnteros\u001b[0m",
      ""
     ]
    }
   ],
   "source": [
    "public class NumerosEnteros{\n",
    "    public int num;\n",
    "    private NumerosEnteros(){} // esta linea es para que se anule el constructor vacio\n",
    "    \n",
    "    public NumerosEnteros(int num){\n",
    "        this.num = num;\n",
    "    }\n",
    "    public NumerosEnteros(double num){\n",
    "        this.num = (int) num;\n",
    "    }\n",
    "    public NumerosEnteros(float num){\n",
    "        this.num = (int) num;\n",
    "    }\n",
    "    public NumerosEnteros(String num){\n",
    "        this.num = Integer.parseInt(num);\n",
    "    }\n",
    "    public NumerosEnteros(String num){\n",
    "        System.out.println(\"mi otro constructor con otras acciones\");\n",
    "    }\n",
    "}"
   ]
  },
  {
   "cell_type": "markdown",
   "id": "149564b8",
   "metadata": {},
   "source": [
    "### OCURRIO UN PROBLEMA!\n",
    "\n",
    "    A la hora de crear constructores hay que tener en cuenta que no se tienen que super poner. quiere decir que los constructores entrarian en conflicto. En este caso java ya me avisa que ese constructor con ese tipo de parametros ya existe!!! o lo modificas o lo borras XD"
   ]
  },
  {
   "cell_type": "markdown",
   "id": "1a322235",
   "metadata": {},
   "source": [
    "# AHORA HAREMOS PRUEBAS CON OBJETOS Y ATRIBUTOS PRIVADOS\n",
    "\n",
    "Crearemos la clase personas y haremos que tenga 2 constructores, uno para que lo inicien con sus propiedades estan definidas al inicio de la clase, OJO no estan vacios si no que nombre = \"\", apellido =\"\" y edad=0. Intentaremos asignarle valores accediendo a sus propiedades"
   ]
  },
  {
   "cell_type": "code",
   "execution_count": 34,
   "id": "1a004d0a",
   "metadata": {},
   "outputs": [],
   "source": [
    "public class Personas{\n",
    "    private String nombre=\"\";\n",
    "    private String apellido=\"\";\n",
    "    private int edad=0;\n",
    "    public Personas(){\n",
    "        \n",
    "    }\n",
    "    public Personas(String nombre, String apellido,int edad){\n",
    "        this.nombre = nombre;\n",
    "        this.apellido = apellido;\n",
    "        this.edad = edad;\n",
    "    }\n",
    "}"
   ]
  },
  {
   "cell_type": "code",
   "execution_count": 35,
   "id": "aba71061",
   "metadata": {},
   "outputs": [
    {
     "data": {
      "text/plain": [
       "REPL.$JShell$71$Personas@7b1d46a3"
      ]
     },
     "execution_count": 35,
     "metadata": {},
     "output_type": "execute_result"
    }
   ],
   "source": [
    "Personas persona1 = new Personas();\n",
    "persona1"
   ]
  },
  {
   "cell_type": "code",
   "execution_count": 36,
   "id": "20e93afb",
   "metadata": {},
   "outputs": [
    {
     "ename": "CompilationException",
     "evalue": "",
     "output_type": "error",
     "traceback": [
      "\u001b[1m\u001b[30m|   \u001b[1m\u001b[30m\u001b[0m\u001b[1m\u001b[30m\u001b[41mpersona1.nombre\u001b[0m\u001b[1m\u001b[30m = \"mauricio\"\u001b[0m",
      "\u001b[1m\u001b[31mnombre has private access in Personas\u001b[0m",
      ""
     ]
    }
   ],
   "source": [
    "persona1.nombre = \"mauricio\""
   ]
  },
  {
   "cell_type": "markdown",
   "id": "549e33c2",
   "metadata": {},
   "source": [
    "## NO FUNCIONA!\n",
    "Vemos que no funciono al tratar de asignarle un valor al nombre del objeto persona3, incluso comenta que la variable es privada y al utilizar la palabra reservada private quiere decir que solo desde la clase se puede acceder y modificar la variable...\n",
    "vamos a solucionar eso creando metodos, los cuales se definen como Setter y Getter que se encargan de modificar y mostrar la propiedad del objeto que los invoca."
   ]
  },
  {
   "cell_type": "code",
   "execution_count": 37,
   "id": "50e71de3",
   "metadata": {},
   "outputs": [],
   "source": [
    "public class Personas{\n",
    "    private String nombre=\"\";\n",
    "    private String apellido=\"\";\n",
    "    private int edad=0;\n",
    "    public Personas(){\n",
    "        \n",
    "    }\n",
    "    public Personas(String nombre, String apellido,int edad){\n",
    "        this.nombre = nombre;\n",
    "        this.apellido = apellido;\n",
    "        this.edad = edad;\n",
    "    }\n",
    "        //Nuestros Getter\n",
    "    public String getNombre(){\n",
    "        return this.nombre;\n",
    "    }\n",
    "    public String getApellido(){\n",
    "        return this.apellido;\n",
    "    }\n",
    "    public int getEdad(){\n",
    "        return this.edad;\n",
    "    }\n",
    "        //Nuestros Setter\n",
    "    public void setNombre(String nombre){\n",
    "        this.nombre = nombre;\n",
    "    }\n",
    "    public void setApellido(String apellido){\n",
    "        this.apellido = apellido;\n",
    "    }\n",
    "    public void setEdad(int edad){\n",
    "        this.edad = edad;\n",
    "    }\n",
    "    \n",
    "}"
   ]
  },
  {
   "cell_type": "code",
   "execution_count": 38,
   "id": "a5c25f0b",
   "metadata": {},
   "outputs": [],
   "source": [
    "Personas persona1 = new Personas()"
   ]
  },
  {
   "cell_type": "code",
   "execution_count": 39,
   "id": "23101fe0",
   "metadata": {},
   "outputs": [],
   "source": [
    "persona1.setNombre(\"mauricio\")"
   ]
  },
  {
   "cell_type": "code",
   "execution_count": 40,
   "id": "81ebbe99",
   "metadata": {},
   "outputs": [
    {
     "ename": "CompilationException",
     "evalue": "",
     "output_type": "error",
     "traceback": [
      "\u001b[1m\u001b[30m|   \u001b[1m\u001b[30m\u001b[0m\u001b[1m\u001b[30m\u001b[41mpersona1.nombre\u001b[0m\u001b[1m\u001b[30m\u001b[0m",
      "\u001b[1m\u001b[31mnombre has private access in Personas\u001b[0m",
      ""
     ]
    }
   ],
   "source": [
    "persona1.nombre"
   ]
  },
  {
   "cell_type": "code",
   "execution_count": 41,
   "id": "3ffbf562",
   "metadata": {},
   "outputs": [
    {
     "data": {
      "text/plain": [
       "mauricio"
      ]
     },
     "execution_count": 41,
     "metadata": {},
     "output_type": "execute_result"
    }
   ],
   "source": [
    "persona1.getNombre()"
   ]
  },
  {
   "cell_type": "markdown",
   "id": "44265e95",
   "metadata": {},
   "source": [
    "### COMO VERAS NO PUDE ACCEDER A SU PROPIEDAD DIRECTAMENTE \n",
    "pero si podemos acceder a ella por los Setter y Getter para mostrarlos o modificarlos. \n",
    "\n",
    "Nota importante: los setter y getter son metodos que estan dentro de la clase y por mas que los llamemos del metodo main a travez de una instancia de la clase los metodos como estan dentro de la clase son capases de acceder o modificar los atributos privados de la clase. Solo los metodos y constructores tienen metodos a los atributos privados de la clase... Solo ellos y nadie mas!"
   ]
  },
  {
   "cell_type": "markdown",
   "id": "2f16071f",
   "metadata": {},
   "source": [
    "# ASI COMO LAS PROPIEDADES SON PRIVADAS LOS METODOS DE LA CLASE TAMBIEN PUEDEN SERLO\n",
    "Crearemos una clase a la cual pondremos algunos de sus metodos a modo de ejemplo e intentaremos acceder a ellos desde el objeto (suponiendo que estamos en el main o desde cualquier otro lugar que no sea dentro de la clase)"
   ]
  },
  {
   "cell_type": "code",
   "execution_count": 42,
   "id": "2fba5807",
   "metadata": {},
   "outputs": [],
   "source": [
    "public class Matematicas{\n",
    "    public static String sqrt(){\n",
    "        return \"raiz cuadrada\";\n",
    "    }\n",
    "    private static String elevar(){\n",
    "        return \"elevar\";\n",
    "    }\n",
    "}"
   ]
  },
  {
   "cell_type": "code",
   "execution_count": 43,
   "id": "4172b2f7",
   "metadata": {},
   "outputs": [
    {
     "data": {
      "text/plain": [
       "raiz cuadrada"
      ]
     },
     "execution_count": 43,
     "metadata": {},
     "output_type": "execute_result"
    }
   ],
   "source": [
    "Matematicas.sqrt()"
   ]
  },
  {
   "cell_type": "code",
   "execution_count": 44,
   "id": "9208cad2",
   "metadata": {},
   "outputs": [
    {
     "ename": "CompilationException",
     "evalue": "",
     "output_type": "error",
     "traceback": [
      "\u001b[1m\u001b[30m|   \u001b[1m\u001b[30m\u001b[0m\u001b[1m\u001b[30m\u001b[41mMatematicas.elevar\u001b[0m\u001b[1m\u001b[30m()\u001b[0m",
      "\u001b[1m\u001b[31melevar() has private access in Matematicas\u001b[0m",
      ""
     ]
    }
   ],
   "source": [
    "Matematicas.elevar()"
   ]
  },
  {
   "cell_type": "markdown",
   "id": "b1f97c99",
   "metadata": {},
   "source": [
    "### Que sucedio? \n",
    "Al ser un metodo privado solo se puede acceder a el desde dentro de la clase, vamos a hacerle unas modificaciones a la clase original y ver si podemos hacer la funcion de potencia"
   ]
  },
  {
   "cell_type": "code",
   "execution_count": 45,
   "id": "1e964795",
   "metadata": {},
   "outputs": [],
   "source": [
    "public class Matematicas{\n",
    "\n",
    "    public static int potencia(int base, int potencia){\n",
    "        return elevar(base,potencia);\n",
    "    }\n",
    "    \n",
    "    private static int elevar(int base, int potencia){\n",
    "        int resultado=base;\n",
    "        for (int i = 2; i <= potencia ; i++){\n",
    "            resultado *= base;\n",
    "        }\n",
    "        return resultado;\n",
    "    }\n",
    "}"
   ]
  },
  {
   "cell_type": "code",
   "execution_count": 46,
   "id": "8f01c966",
   "metadata": {},
   "outputs": [
    {
     "data": {
      "text/plain": [
       "10000"
      ]
     },
     "execution_count": 46,
     "metadata": {},
     "output_type": "execute_result"
    }
   ],
   "source": [
    "Matematicas.potencia(10,4)"
   ]
  },
  {
   "cell_type": "code",
   "execution_count": 47,
   "id": "31c8e4ab",
   "metadata": {},
   "outputs": [
    {
     "data": {
      "text/plain": [
       "256"
      ]
     },
     "execution_count": 47,
     "metadata": {},
     "output_type": "execute_result"
    }
   ],
   "source": [
    "Matematicas.potencia(2,8)"
   ]
  },
  {
   "cell_type": "markdown",
   "id": "e0fabc34",
   "metadata": {},
   "source": [
    "## QUIZAS NO SEA EL MEJOR EJEMPLO ?\n",
    "Pero espero que quede claro cuando intentamos llamar un metodo que sabemos que esta privado desde fuera de la clase y que es lo que sucede, pero si intentamos invocar ese metodo dentro de la clase no tenemos ningun problema. Por lo tanto los metodos o variables privadas solo se puede usar, acceder,modificar dentro de la misma clase y no desde el main. Si queremos que de cualquier parte de nuestro programa se pueda acceder a esas cosas tenemos que ponerlas PUBLICAS, pero el uso de private es para poder encapsular los datos. \n",
    "\n",
    "## DEFINICION DE ENCAPSULAMIENTO\n",
    "\n",
    "En la Programación orientada a objetos (POO), la encapsulación se refiere a la agrupación de datos con los métodos que operan en esos datos, o la restricción del acceso directo a algunos de los componentes de un objeto.1​ La encapsulación se utiliza para ocultar los valores o el estado de un objeto de datos estructurados dentro de una clase, evitando el acceso directo a ellos por parte de los clientes de una manera que podría exponer detalles de Implementación ocultos o violar la invariancia de estado mantenida por los métodos."
   ]
  },
  {
   "cell_type": "code",
   "execution_count": null,
   "id": "69b870f4",
   "metadata": {},
   "outputs": [],
   "source": []
  }
 ],
 "metadata": {
  "kernelspec": {
   "display_name": "Java",
   "language": "java",
   "name": "java"
  },
  "language_info": {
   "codemirror_mode": "java",
   "file_extension": ".jshell",
   "mimetype": "text/x-java-source",
   "name": "Java",
   "pygments_lexer": "java",
   "version": "19.0.2+7-44"
  }
 },
 "nbformat": 4,
 "nbformat_minor": 5
}
