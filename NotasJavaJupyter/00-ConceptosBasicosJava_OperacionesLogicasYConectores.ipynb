{
 "cells": [
  {
   "cell_type": "markdown",
   "id": "29a555ad",
   "metadata": {},
   "source": [
    "## Ultima modificacion: 24-04-2023\n",
    "\n",
    "# Operacones logicas con operadores y conectores\n",
    "\n",
    "    EN ESTA UNIDAD ABODAREMOS LAS OPERACIONES LOGICAS DE UNA MANERA DISTINA YA QUE ES MUY IMPORTANTE ENTENDER EXACTAMENTE QUE SON Y COMO PODEMOS APLICARLAS, TRATAREMOS DE DAR EJEMPLOS COTIDIANOS Y TRATAR DE APLICAR UN POCO DE LOGICA PROPOSICIONAL, SOLO LO BASICO PARA ENTEDER LAS CONECTIVAS LOGICAS MAS QUE NADA!\n",
    "    \n",
    "## COMENZAREMOS"
   ]
  },
  {
   "cell_type": "markdown",
   "id": "29e449cb",
   "metadata": {},
   "source": [
    "\n",
    "## OPERACIONES LOGICAS\n",
    "    Las operaciones logicas que mas usaremos son 4 y pueden se combiandas\n",
    "    \n",
    "    Operador logico IGUAL ( == ): \n",
    "        En Java para comparar dos cosas se utiliza un doble igual, vamos con ejemplos comunes:\n",
    "            rojo == azul , se traduce como ... el color rojo es igual al azul? obviamente es falso y por lo tanto el resulado de la operacion logica es FALSE;\n",
    "            1 == 1, se tracude como... el numero 1 es igual a 1??? obviamente es verdadero por que esta hablando de 2 cosas que son iguales, y el resultado de la operacion logica es TRUE;\n",
    "            1 == \"1\" se traduce como... el numero 1 es igual que el caracter/cadena 1??? hay cierta confusion aqui, por que los 2 representan el 1... pero SON OGUALES??? Si leemos bien el significado es obvio que es falso, el resultado de esta operacion logica es FALSE;    SE PREGUNTARAN POR QUE?  vamos a tratar de resumirlo y de que se entienda de la mejor manera... En programacion tenemos numeros y cadenas de texto como ya sabemos y se distiguen por tipos de variables, (lo que vimos en el notebook anterior), y los numeros se representan como 1,2,3,4,5,6,7,8,9,0 y las cadenas de caracteres va siempre entre comillas dobles, lo cual dice que eso son caracteres y no numeros... 1 <- es un uno numerico  \"1\"<- es la representacion del numero uno (caracter)... \n",
    "            \n",
    "    Operador logico MENOR QUE ( < ):\n",
    "        Se utiliza para compara si el de la izquierda es menor que el de la derecha, vamos con ejemplos comunes:\n",
    "        1 < 15 se traduce como... el numero 1 es menor que el numero 15??? como ya sabemos es obio que es verdadero, y por lo tanto el resultado es esta operacion logica es TRUE;\n",
    "        14 < 5 se traduce como... el numero 14 es menor que el numero 5??? como ya sabemos es obio que es falso  , y por lo tanto el resultado es esta operacion logica es FALSE;\n",
    "        \"a\" < \"h\" ... interesante te reto a probarlo primero y despues vemos que es lo que sucede, como por ejemplo \"z\" < \"h\" y muchas mas comparaciones entre caracteres... pero que sucede??? lo explicaremos al final del NOTEBOOK.\n",
    "        \n",
    "    Operador logico MAYOR QUE ( > ):\n",
    "    Se utiliza para compara si el de la izquierda es mayor que el de la derecha, vamos con algunos ejemplos:\n",
    "        15 > 7, como ya se es de esperar el resultado de esta operacion logica es TRUE;\n",
    "        15 > 130 , el resultado de la operacion logica es FALSE;\n",
    "        COMO EN EL CASO ANTERIOR TE TOCA HACER PRUEBAS CON \"a\" > \"b\" y muchas mas...\n",
    "        \n",
    "    Operador logico DISTINTO ( != ) :\n",
    "    Se utiliza para hacer lo contrario del igual, lo que evalua que si los 2 elementos son distintos, vamos con ejemplos:\n",
    "        7 != 2 , se lee como si el numero 7 es distinto al numero 2, como ya imaginamos esto es verdadero y por lo tanto el resultado de esta operacion logica es TRUE;\n",
    "        9 != \"9\" , se lee como si el numero 9 es distinto al caracter \"9\", y como ya imaginamos  esto es verdadero, y por lo tanto el resultado de esta operacion logica es TRUE;\n",
    "        \"nombre\" != \"nombre\", se lee como si la palabra nombre es distinta a la palabra nombre, como imaginamos es falso y el resultado de esta operacion es FALSE;\n",
    "        \n",
    "    NOTA: los operadores logicos MENOR QUE (<) y MAYOR QUE (>) se pueden combinar con el operador logico IGUAL (==) de la siguente manera, \n",
    "    <= que significa MENOR O IGUAL QUE\n",
    "    >= que significa MAYOR O IGUAL QUE\n",
    "    \n",
    "    estas operaciones logicas las podemos combinar y hacer varias al mismo tiempo... pero eso lo veremos un rato mas ... por ahora comenzaremos con los condicionales.\n",
    "    "
   ]
  },
  {
   "cell_type": "code",
   "execution_count": 12,
   "id": "438e4d81",
   "metadata": {},
   "outputs": [
    {
     "name": "stdout",
     "output_type": "stream",
     "text": [
      " Operador Logico IGUAL QUE( == ) \n",
      "\"rojo\" == \"azul\": false\n",
      "1 == 1: true\n",
      "1 == '1' : false\n",
      " Operador Logico MENOR QUE( < ) \n",
      "1 < 15: true\n",
      "14 < 5: false\n",
      "'a' < 'h' : true\n",
      " Operador Logico MAYOR QUE( < ) \n",
      "15 > 7: true\n",
      "15 >130: false\n",
      "'a' > 'b' : false\n",
      " Operador Logico DISTINTO QUE( != ) \n",
      "7 != 2: true\n",
      "9 != '9': true\n",
      "\"nombre\" != \"nombre\" : false\n"
     ]
    }
   ],
   "source": [
    "System.out.println(\" Operador Logico IGUAL QUE( == ) \");\n",
    "System.out.println(\"\\\"rojo\\\" == \\\"azul\\\": \" + (\"rojo\" == \"azul\") );\n",
    "System.out.println(\"1 == 1: \" + (1 == 1) );\n",
    "System.out.println(\"1 == '1' : \" + (1 == '1') );\n",
    "\n",
    "System.out.println(\" Operador Logico MENOR QUE( < ) \");\n",
    "System.out.println(\"1 < 15: \" + (1 < 15) );\n",
    "System.out.println(\"14 < 5: \" + (14 < 5) );\n",
    "System.out.println(\"'a' < 'h' : \" + ('a' < 'h') );\n",
    "\n",
    "System.out.println(\" Operador Logico MAYOR QUE( < ) \");\n",
    "System.out.println(\"15 > 7: \" + (15 > 7) );\n",
    "System.out.println(\"15 >130: \" + (15 > 130) );\n",
    "System.out.println(\"'a' > 'b' : \" + ('a' > 'b') );\n",
    "\n",
    "System.out.println(\" Operador Logico DISTINTO QUE( != ) \");\n",
    "System.out.println(\"7 != 2: \" + (7 != 2) );\n",
    "System.out.println(\"9 != '9': \" + (9 != '9') );\n",
    "System.out.println(\"\\\"nombre\\\" != \\\"nombre\\\" : \" + (\"nombre\" != \"nombre\") );\n",
    "\n",
    "System.out.println(\"OPERADORES LOGICOS COMBINADOS (<= Y >=)\\n\");\n",
    "\n"
   ]
  },
  {
   "cell_type": "markdown",
   "id": "611d9817",
   "metadata": {},
   "source": [
    "## RECUERDAN QUE DIJIMOS QUE IBAMOS A RETOMAR LOS OPERADORES LOGICOS?\n",
    "    Bueno es ahora... aparte de los operadores logicos tenemos Tenemos las CONECTIVAS LOGICAS que son la disyuncion y la conjuncion! Pero que son? como nos podria ayudar? AHORA LO VEREMOS MAS A DETALLE\n",
    "    En el campo de la Logica proposicional tenemos 2 conectivas logicas (AND y OR) lo que hace es unir 2 operaciones logicas y dependiendo de la conectiva devolver un resultado, SE QUE SUENA DIFICIL PERO QUE NO DECAIGA!\n",
    "    POR AHORA VAMOS A DEFINIR LAS CONECTIVAS Y DESPUES EXPLICAMOS CON MAS DETALLE COMO FUNCIONAN!\n",
    "    \n",
    "----------------Conector logico AND ( && ): -----------------------\n",
    "        \n",
    "        En java para representar el AND utilizamos este simbolo & 2 veces... y lo que significa es \"y\", ESPERA LO UNICO QUE SIGNIFICA ES ESO? Si es todo lo que significa pero es muy poderoso, muchos no saben manejarlo y se tienden a confundirse o perderse... ahora vamos por unos ejemplos:\n",
    "        supongamos que tenemos una operacion logica como  4 < 3 ... y tengo otra operacion logica como 6 != \"6\"... y las quiero conectar para que solo SE EJECUTE UNA PARTE DEL CODIGO DONDE LAS 2 CONDICIONES SEAN VERDADERAS, bueno eso se hace con la conectiva logica AND( && ) entonces quedaria 4 < 3 && 6 != \"6\"... ESPERA, PERO NO ES FALSA LA PRIMERA CONDICION? exacto es FALSA la primera condicion ... vamos por un ejemplo donde las dos sean verdaderas...\n",
    "        3 < 20 && 20 < 200 tenemos esa operacion logica... no son 2 distintas, es UNA SOLA OPERACION LOGICA ... las conectivas logicas solo operan con valores de verdad a diferencia de los operadores logicos... entonces como funciona?\n",
    "        TRANQUILO QUE AHI VA!, Como que operan con valores logicos??? exacto solo operan con los 2 valores de verdad que conocemos ... TRUE y FALSE . Veamos entonces, si observamos (3 < 20 && 20 < 200) vamos a comenzar a trabajarlo\n",
    "        3 < 20          &&          20 < 200\n",
    "        (verdadero)     &&       (verdadero) = ((verdadero))\n",
    "        la conectiva logica AND (&&) solo es TRUE cuando las 2 operaciones logicas que conecta son verdaderas. Ahora en caso de que una sea falsa o las 2 sean falsas el valor que retorna la conectiva logica es FALSE;\n",
    "        \n",
    "        Nos quedaria una TABLA DE VERDAD DE LA SIGUIENTE MANERA:\n",
    "        VERDADERO && VERDADERO = VERDADERO\n",
    "        FALSO && VERDADERO = FALSO\n",
    "        VERDADERO && FALSO = FALSO\n",
    "        FALSO && FALSO = FALSO\n",
    "        \n",
    "        No te quedo claro? tranquilo vamos a tratar de explicarlo con ejemplos reales! utilizados en la logica proposicional\n",
    "    \n",
    "----------------Conector logico OR ( || ): -------------------\n"
   ]
  },
  {
   "cell_type": "code",
   "execution_count": null,
   "id": "d4078350",
   "metadata": {},
   "outputs": [],
   "source": []
  }
 ],
 "metadata": {
  "kernelspec": {
   "display_name": "Java",
   "language": "java",
   "name": "java"
  },
  "language_info": {
   "codemirror_mode": "java",
   "file_extension": ".jshell",
   "mimetype": "text/x-java-source",
   "name": "Java",
   "pygments_lexer": "java",
   "version": "19.0.2+7-44"
  }
 },
 "nbformat": 4,
 "nbformat_minor": 5
}
