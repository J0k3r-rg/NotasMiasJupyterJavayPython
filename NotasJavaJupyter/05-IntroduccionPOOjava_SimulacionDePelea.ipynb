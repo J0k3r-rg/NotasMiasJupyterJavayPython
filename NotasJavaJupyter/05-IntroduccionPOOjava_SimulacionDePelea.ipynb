{
 "cells": [
  {
   "cell_type": "markdown",
   "id": "784c2552",
   "metadata": {},
   "source": [
    "### Ultima Modificacion: 22-03-2023\n",
    "\n",
    "# PRUEBAS DE CLASES Y OBJETOS\n",
    "\n",
    "## Vamos a simular una pelea entre 2 personajes que creamos con nuestra clase Personajes\n",
    "    por ahora solo vamos a hacerlo normal sin encapsulamiento y con algunas cosas simples para poder simular una pelea entre dos personas. La mecanica de la pelea es por turnos y un arma aleatoria en cada turno con la posibilidad de errar el gole, mas delante le vamos a mandar un poco mas de complejidad, quisas podriamos crear una clase que se llame Espadas y dependiendo de la que tenga hacemos un rango de daño.\n",
    "    \n",
    "   ## Manos a la obra"
   ]
  },
  {
   "cell_type": "code",
   "execution_count": 1,
   "id": "2da29f96",
   "metadata": {},
   "outputs": [],
   "source": [
    "public class Personajes{\n",
    "    String nombre = \"\";\n",
    "    String tipo = \"\";\n",
    "    String arma = \"mano\";\n",
    "    int vida = 100;\n",
    "    \n",
    "    public Personajes(String nombre, String tipo){\n",
    "        this.nombre = nombre;\n",
    "        this.tipo = tipo;\n",
    "    }\n",
    "    \n",
    "    public void atacar(Personajes personaje){\n",
    "        int danio = 0;\n",
    "        switch(this.arma){\n",
    "            case \"espada\":\n",
    "                danio = (int) (Math.random()*(30-20)+20);\n",
    "                personaje.vida -= danio; //personaje.vida = personaje.vida - danio;\n",
    "                break;\n",
    "            case \"mano\":\n",
    "                danio = (int) (Math.random()*(10-1)+1);\n",
    "                personaje.vida -= danio;\n",
    "                break;\n",
    "            case \"palo\":\n",
    "                danio = (int) (Math.random()*(20-10)+10);\n",
    "                personaje.vida -= danio;\n",
    "                break;\n",
    "        }\n",
    "        if (personaje.vida <= 0 ){\n",
    "            System.out.println(this.nombre+\" ha sacado \"+danio+ \" atacando con \"+this.arma+\" a \" + personaje.nombre +\" le queda 0 de vida.\");\n",
    "            System.out.println(this.nombre+\" has matado a \"+personaje.nombre+\" :'( por que eres tan cruel!!!\");\n",
    "        }else{\n",
    "            System.out.println(this.nombre+\" ha sacado \"+danio+ \" atacando con \"+this.arma+\" a \" + personaje.nombre +\" le quedan \"+personaje.vida+\" de vida.\");\n",
    "        }\n",
    "    }\n",
    "    public void revivir(Personajes personaje){\n",
    "        personaje.tipo=\"zombie\";\n",
    "        personaje.vida = 100;\n",
    "    }    \n",
    "    public void curar(Personajes personaje){\n",
    "        personaje.vida = 100;\n",
    "    }\n",
    "}"
   ]
  },
  {
   "cell_type": "code",
   "execution_count": 2,
   "id": "059498c4",
   "metadata": {},
   "outputs": [],
   "source": [
    "Personajes mauricio = new Personajes(\"MAURICIO\",\"humano\");\n",
    "Personajes jorge = new Personajes(\"BLASS\",\"humano\");\n"
   ]
  },
  {
   "cell_type": "markdown",
   "id": "b2d84b47",
   "metadata": {},
   "source": [
    "## Ya tenemos creados nuestros dos personajes, ahora que se ataquen constantemente hasta que uno muera \n"
   ]
  },
  {
   "cell_type": "code",
   "execution_count": 3,
   "id": "f7f4dc55",
   "metadata": {
    "scrolled": false
   },
   "outputs": [
    {
     "name": "stdout",
     "output_type": "stream",
     "text": [
      "BLASS ha sacado 19 atacando con palo a MAURICIO le quedan 81 de vida.\n",
      "MAURICIO has errado el golpe, suerte para la proxima\n",
      "BLASS ha sacado 1 atacando con mano a MAURICIO le quedan 80 de vida.\n",
      "MAURICIO has errado el golpe, suerte para la proxima\n",
      "BLASS ha sacado 25 atacando con espada a MAURICIO le quedan 55 de vida.\n",
      "MAURICIO ha sacado 20 atacando con espada a BLASS le quedan 80 de vida.\n",
      "BLASS has errado el golpe, suerte para la proxima\n",
      "MAURICIO has errado el golpe, suerte para la proxima\n",
      "BLASS ha sacado 1 atacando con mano a MAURICIO le quedan 54 de vida.\n",
      "MAURICIO has errado el golpe, suerte para la proxima\n",
      "BLASS has errado el golpe, suerte para la proxima\n",
      "MAURICIO ha sacado 15 atacando con palo a BLASS le quedan 65 de vida.\n",
      "BLASS has errado el golpe, suerte para la proxima\n",
      "MAURICIO has errado el golpe, suerte para la proxima\n",
      "BLASS has errado el golpe, suerte para la proxima\n",
      "MAURICIO ha sacado 3 atacando con mano a BLASS le quedan 62 de vida.\n",
      "BLASS ha sacado 21 atacando con espada a MAURICIO le quedan 33 de vida.\n",
      "MAURICIO has errado el golpe, suerte para la proxima\n",
      "BLASS ha sacado 16 atacando con palo a MAURICIO le quedan 17 de vida.\n",
      "MAURICIO ha sacado 18 atacando con palo a BLASS le quedan 44 de vida.\n",
      "BLASS has errado el golpe, suerte para la proxima\n",
      "MAURICIO ha sacado 20 atacando con espada a BLASS le quedan 24 de vida.\n",
      "BLASS ha sacado 6 atacando con mano a MAURICIO le quedan 11 de vida.\n",
      "MAURICIO has errado el golpe, suerte para la proxima\n",
      "BLASS has errado el golpe, suerte para la proxima\n",
      "MAURICIO has errado el golpe, suerte para la proxima\n",
      "BLASS has errado el golpe, suerte para la proxima\n",
      "MAURICIO has errado el golpe, suerte para la proxima\n",
      "BLASS ha sacado 17 atacando con palo a MAURICIO le queda 0 de vida.\n",
      "BLASS has matado a MAURICIO :'( por que eres tan cruel!!!\n"
     ]
    }
   ],
   "source": [
    "int ataque;\n",
    "while (true){\n",
    "    ataque = (int) (Math.random()*(7-1)+1);\n",
    "    switch (ataque){\n",
    "        case 1:\n",
    "            jorge.arma =\"mano\";\n",
    "            jorge.atacar(mauricio);\n",
    "            break;\n",
    "        case 2:\n",
    "            jorge.arma =\"palo\";\n",
    "            jorge.atacar(mauricio);\n",
    "            break;\n",
    "        case 3:\n",
    "            jorge.arma =\"espada\";\n",
    "            jorge.atacar(mauricio);\n",
    "            break;\n",
    "        default:\n",
    "            System.out.println(jorge.nombre + \" has errado el golpe, suerte para la proxima\");\n",
    "            break;\n",
    "    }\n",
    "    if (mauricio.vida <=0) break;\n",
    "    ataque = (int) (Math.random()*(7-1)+1);\n",
    "    switch (ataque){\n",
    "        case 1:\n",
    "            mauricio.arma =\"mano\";\n",
    "            mauricio.atacar(jorge);\n",
    "            break;\n",
    "        case 2:\n",
    "            mauricio.arma =\"palo\";\n",
    "            mauricio.atacar(jorge);\n",
    "            break;\n",
    "        case 3:\n",
    "            mauricio.arma =\"espada\";\n",
    "            mauricio.atacar(jorge);\n",
    "            break;\n",
    "        default:\n",
    "            System.out.println(mauricio.nombre + \" has errado el golpe, suerte para la proxima\");\n",
    "            break;\n",
    "    }\n",
    "    if (jorge.vida <=0) break;\n",
    "}"
   ]
  },
  {
   "cell_type": "markdown",
   "id": "02871d12",
   "metadata": {},
   "source": [
    "## Tenemos una persona muerta, y si creamos una persona que reviva?? y un doctor que cure heridos??\n"
   ]
  },
  {
   "cell_type": "code",
   "execution_count": 4,
   "id": "93514d26",
   "metadata": {},
   "outputs": [],
   "source": [
    "Personajes doctor = new Personajes(\"curandero\",\"doctor\");\n",
    "Personajes doctorLoco = new Personajes(\"Dr. Loco\",\"cientifico loco\");"
   ]
  },
  {
   "cell_type": "code",
   "execution_count": 5,
   "id": "dce96f31",
   "metadata": {},
   "outputs": [],
   "source": [
    "doctorLoco.revivir(mauricio);"
   ]
  },
  {
   "cell_type": "code",
   "execution_count": 6,
   "id": "463166e2",
   "metadata": {},
   "outputs": [
    {
     "data": {
      "text/plain": [
       "73"
      ]
     },
     "execution_count": 6,
     "metadata": {},
     "output_type": "execute_result"
    }
   ],
   "source": [
    "jorge.vida"
   ]
  },
  {
   "cell_type": "code",
   "execution_count": 7,
   "id": "ae9e5128",
   "metadata": {},
   "outputs": [],
   "source": [
    "doctor.curar(jorge)"
   ]
  },
  {
   "cell_type": "code",
   "execution_count": 8,
   "id": "3f451849",
   "metadata": {},
   "outputs": [
    {
     "data": {
      "text/plain": [
       "100"
      ]
     },
     "execution_count": 8,
     "metadata": {},
     "output_type": "execute_result"
    }
   ],
   "source": [
    "jorge.vida"
   ]
  },
  {
   "cell_type": "code",
   "execution_count": 9,
   "id": "2124c133",
   "metadata": {},
   "outputs": [
    {
     "data": {
      "text/plain": [
       "100"
      ]
     },
     "execution_count": 9,
     "metadata": {},
     "output_type": "execute_result"
    }
   ],
   "source": [
    "mauricio.vida"
   ]
  },
  {
   "cell_type": "markdown",
   "id": "1299efc7",
   "metadata": {},
   "source": [
    "# BIEN!  mauricio esta vivo, pero creo que algo anda mal. No parece humano\n",
    "\n",
    "## Y si consultamos que le paso? \n",
    "\n",
    "### Vamos a ver "
   ]
  },
  {
   "cell_type": "code",
   "execution_count": 10,
   "id": "c781402d",
   "metadata": {},
   "outputs": [
    {
     "data": {
      "text/plain": [
       "zombie"
      ]
     },
     "execution_count": 10,
     "metadata": {},
     "output_type": "execute_result"
    }
   ],
   "source": [
    "mauricio.tipo"
   ]
  },
  {
   "cell_type": "markdown",
   "id": "1aedee12",
   "metadata": {},
   "source": [
    "## EL DOCTOR REVIVIO A MAURICIO, PERO ES UN ZOMBIE CORRAAAANNNN!!!!! \n",
    "\n",
    "### Hay que ponerle un poco de humor ♥\n",
    "\n",
    "    Hasta el momento creamos una clase Personajes para poder hacer dos personas que peleen, una vez terminada la pelea decidimos crear un curandero y una persona que reviva, por suerte el curandero logro curar. pero el doctor loco no hizo las cosas como corresponden y ah creado una raza zombie, Estamos en peligro de extincion!! XD\n",
    "    \n",
    "    Esto son solo unos ejemplos de lo que se puede hacer con POO, y podemos crear mas personajes y darles a cada uno sus atributos. Mas adelante veremos que podemos crear clases que hereden la clase PERSONAJES, pero por ahora vamos con ejemplos mas sencillos. \n",
    "    \n",
    "    "
   ]
  },
  {
   "cell_type": "code",
   "execution_count": null,
   "id": "9ae78fdc",
   "metadata": {},
   "outputs": [],
   "source": []
  }
 ],
 "metadata": {
  "kernelspec": {
   "display_name": "Java",
   "language": "java",
   "name": "java"
  },
  "language_info": {
   "codemirror_mode": "java",
   "file_extension": ".jshell",
   "mimetype": "text/x-java-source",
   "name": "Java",
   "pygments_lexer": "java",
   "version": "19.0.2+7-44"
  }
 },
 "nbformat": 4,
 "nbformat_minor": 5
}
