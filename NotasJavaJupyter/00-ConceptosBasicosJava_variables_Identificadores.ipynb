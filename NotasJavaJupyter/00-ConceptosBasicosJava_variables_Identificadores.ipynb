{
 "cells": [
  {
   "cell_type": "markdown",
   "id": "6c669c9c",
   "metadata": {},
   "source": [
    "## Ultima modificacion: 23-03-2023\n",
    "\n",
    "# CONCEPTOS BASICOS DE JAVA\n",
    "\n",
    "    En este notebook vamos a ver algunos de los conceptos basicos de java. Declaracion de variables, estructuras de control: tanto condicionales y las repetitivas"
   ]
  },
  {
   "cell_type": "markdown",
   "id": "30d1cdd7",
   "metadata": {},
   "source": [
    "## DECLARACION DE VARIABLES"
   ]
  },
  {
   "cell_type": "code",
   "execution_count": 1,
   "id": "45284c4f",
   "metadata": {},
   "outputs": [],
   "source": [
    "String cadenaDeTexto;\n",
    "int numeroEntero;\n",
    "double numeroReal;\n",
    "boolean variableLogica;\n"
   ]
  },
  {
   "cell_type": "markdown",
   "id": "3565461f",
   "metadata": {},
   "source": [
    "## COMO SE DARAN CUENTA LA SINTAXIS ES SIMPLE\n",
    "    Solo basta con decir el tipo de variable (String, int, double, boolean. Hay mas pero por ahora solo usaremos esos que son los mas comunes) seguido del nombre de la variable. En este caso utilizamos nombres quetienen que ver con el tipo pero podria ser cualquier identificador de variables\n",
    "   ### VAMOS POR OTROS EJEMPLOS"
   ]
  },
  {
   "cell_type": "code",
   "execution_count": 2,
   "id": "66fa9231",
   "metadata": {},
   "outputs": [],
   "source": [
    "String frase;\n",
    "String nomnbre;\n",
    "String apellido;\n",
    "\n",
    "int num1;\n",
    "int num2;\n",
    "int num3;\n",
    "\n",
    "double numR1;\n",
    "double numR2;\n",
    "double numR3;\n",
    "\n",
    "boolean esVerdadero;\n",
    "boolean esFalso;\n",
    "boolean bandera;"
   ]
  },
  {
   "cell_type": "markdown",
   "id": "5246e41d",
   "metadata": {},
   "source": [
    "# Se dieron cuenta?\n",
    "    puedo definir todas las variables que yo crea necesario para resolver el problema que nos plantean, podemos utilizarlas como que no. lo recomendable es crear solo las justas! y si necesito mas voy agregando variables.\n",
    "   ## Identificadores\n",
    "    Es muy recomendable saber usar bien los identificadores, si voy a usar una variable para almacenar un nombre, lo ideal es que utilizemos un identificador que tenga que ver con esa variable.\n",
    "    String nomnbre;\n",
    "    String nombrePersona;\n",
    "    String nombre3;\n",
    "    Esos son nombres que identifican la variable, ahora vamos a poner un ejemplo de algo que se puede hacer tranquilamente pero no esta muy bien visto.\n",
    "    vamos a almacenar un nombre en una variable y creamos\n",
    "    String numero;\n",
    "    String casa;\n",
    "    String direccion;\n",
    "    Como veras los identificadores de la variable (nombres que nosotros mismos elegimos para ellos) no tienen nada que ver con el dato que van a almacenar. Si yo voy a almacenar un nombre dentro de una variable lo ideal que esa variable se llame nombre o algun sinonimo de nombre.\n",
    "    El uso de identificadores es muy importante para que cuando tengamos que revisar nuestro codigo o cualqiuer otra persona tenga que revisarlo para corregir o para otro proposito, se le pueda hacer mucho mas facil identificar las variables.\n",
    "    \n",
    "    Este concepto tambien se aplica a los nombres de las funciones, subprocesos, metodos o como deseen llamarle ya que tiene que llamarse lo mas parecido a lo que hace. Por ejemplo si vamos a crear una funcion que sume 2 numeros, los identificadores que usariamos seria algo como : suma() , suma2Numeros(), sumaNumeros() y cualquier identificador que tenga que ver con la suma. No es recomendable ponerle nombres que no tengan nada que ver con lo que hace (ejemplos: construir(), adivinar(),aleatorio(). Como se daran cuenta no tienen nada que ver con la suma).\n",
    "    \n",
    "  ## ES MUY IMPORTANTE!!!!! \n",
    "  El correcto uso de identificadores en nuestro algoritmo para una buena lectura y busqueda de errores que se puedan estar produciendo duante el proceso de ejecucion."
   ]
  },
  {
   "cell_type": "markdown",
   "id": "f6effe54",
   "metadata": {},
   "source": [
    "# MANOS A LA OBRA\n",
    "    Ya vimos algunos conceptos basicos de declaracion de variables y sus correspondientes identificadores. Ahora vamos a encarar a la asignacion de valores para esas variables. Podemos hacerlo de distintas maneras pero por ahora solo vamos a ver 2 que son las que se van a usar mas para poder aprender java. asignacion en el algoritmo y lectura por consola (ingreso de usuario).\n",
    "   ## Primer caso: ASIGNACION DIRECTA EN EL ALGORITMO\n",
    "   Como ya sabemos podemos crear la variable y despues asignarle un valor\n",
    "  "
   ]
  },
  {
   "cell_type": "code",
   "execution_count": 3,
   "id": "7caf9642",
   "metadata": {},
   "outputs": [],
   "source": [
    "String nombreUsuario;\n",
    "nombreUsuario = \"mauricio\";\n",
    "int edad;\n",
    "edad = 32;\n",
    "int hijos;\n",
    "hijos = 2;\n",
    "double altura;\n",
    "altura = 1.90;\n",
    "boolean trabajador;\n",
    "trabajador = true;"
   ]
  },
  {
   "cell_type": "markdown",
   "id": "edf6557f",
   "metadata": {},
   "source": [
    "### Ahora consultamos\n",
    "    Y veremos que dento de las variables se encuentran guardados los datos que le asignamos anteriormente"
   ]
  },
  {
   "cell_type": "code",
   "execution_count": 4,
   "id": "8a679e8c",
   "metadata": {},
   "outputs": [
    {
     "name": "stdout",
     "output_type": "stream",
     "text": [
      "Nombre:mauricio\n",
      "Edad: 32\n",
      "Cantidad de hijos: 2\n",
      "Altura (metros): 1.9\n",
      "Trabajador? :true\n"
     ]
    }
   ],
   "source": [
    "System.out.println(\"Nombre:\" + nombreUsuario);\n",
    "System.out.println(\"Edad: \" + edad);\n",
    "System.out.println(\"Cantidad de hijos: \" + hijos);\n",
    "System.out.println(\"Altura (metros): \" + altura);\n",
    "System.out.println(\"Trabajador? :\" + trabajador);"
   ]
  },
  {
   "cell_type": "markdown",
   "id": "97f3b20b",
   "metadata": {},
   "source": [
    "# COMO NOS QUEDARIA EN NUESTRO IDE?\n",
    "\n",
    "    package nombreDelPaquete;\n",
    "\n",
    "    public class nombreDeLaClase{\n",
    "        public static void main(String[] args){\n",
    "            String nombreUsuario;\n",
    "            nombreUsuario= \"Ezequie\";\n",
    "            int edad;\n",
    "            edad = 28;\n",
    "            int hijos;\n",
    "            hijos = 0;\n",
    "            double altura;\n",
    "            altura = 1.76;\n",
    "            boolean trabajador;\n",
    "            trabajador = false;\n",
    "            \n",
    "            System.out.println(\"Nombre:\" + nombreUsuario);\n",
    "            System.out.println(\"Edad: \" + edad);\n",
    "            System.out.println(\"Cantidad de hijos: \" + hijos);\n",
    "            System.out.println(\"Altura (metros): \" + altura);\n",
    "            System.out.println(\"Trabajador? :\" + trabajador);\n",
    "        }\n",
    "    }"
   ]
  },
  {
   "cell_type": "markdown",
   "id": "38f0b3b4",
   "metadata": {},
   "source": [
    "## DATO IMPORTANTE\n",
    "    Asi como definimos la variable y despues le asigamos un valor, java nos permite realizar esos 2 paso pero en una misma linea, ENTONCES: puedo declararla y darle un valor en una sola linea? .... SII java nos permite de la siguiente manera:"
   ]
  },
  {
   "cell_type": "code",
   "execution_count": 5,
   "id": "4548ccb0",
   "metadata": {},
   "outputs": [],
   "source": [
    "String nombreUsuario= \"Ezequie\";\n",
    "int edad = 28;\n",
    "int hijos = 0;\n",
    "double altura = 1.76;\n",
    "boolean trabajador = false;"
   ]
  },
  {
   "cell_type": "code",
   "execution_count": 6,
   "id": "54e64556",
   "metadata": {},
   "outputs": [
    {
     "name": "stdout",
     "output_type": "stream",
     "text": [
      "Nombre:Ezequie\n",
      "Edad: 28\n",
      "Cantidad de hijos: 0\n",
      "Altura (metros): 1.76\n",
      "Trabajador? :false\n"
     ]
    }
   ],
   "source": [
    "System.out.println(\"Nombre:\" + nombreUsuario);\n",
    "System.out.println(\"Edad: \" + edad);\n",
    "System.out.println(\"Cantidad de hijos: \" + hijos);\n",
    "System.out.println(\"Altura (metros): \" + altura);\n",
    "System.out.println(\"Trabajador? :\" + trabajador);"
   ]
  },
  {
   "cell_type": "markdown",
   "id": "3db48d48",
   "metadata": {},
   "source": [
    "## PERFECTO!\n",
    "    Como se pudoobservar obtuvimos el mismo resultado aplicando lo recien visto, y nos ahorramos 4 lineas de codigo ♥... ES importante ahorar lineas de codigo? \n",
    "    En este momento la verdad no es muy importante, por que lo mas importante en este momento es que podamos aprender y entender bien el lenguaje. Por lo tanto No es necesario que se preocupen en este momento en achicar el codigo o resolver el problema con la menor cantidad de lineas de codgio.\n",
    "    IMPORTANTE: EN ESTE MOMENTO SOLO NOS INTERESA QUE NUESTRO CODIGO PUEDA RESOLVER EL PROBLEMA. Despues mos concentraremos en poder hacerlo \"optimo\" o reducirlo a su minima expresion.\n",
    "    \n",
    "# COMO NOS QUEDARIA EN NUESTRO IDE?\n",
    "\n",
    "    package nombreDelPaquete;\n",
    "\n",
    "    public class nombreDeLaClase{\n",
    "        public static void main(String[] args){\n",
    "            String nombreUsuario= \"Ezequie\";\n",
    "            int edad = 28;\n",
    "            int hijos = 0;\n",
    "            double altura = 1.76;\n",
    "            boolean trabajador = false;\n",
    "            \n",
    "            System.out.println(\"Nombre:\" + nombreUsuario);\n",
    "            System.out.println(\"Edad: \" + edad);\n",
    "            System.out.println(\"Cantidad de hijos: \" + hijos);\n",
    "            System.out.println(\"Altura (metros): \" + altura);\n",
    "            System.out.println(\"Trabajador? :\" + trabajador);\n",
    "        }\n",
    "    }\n"
   ]
  },
  {
   "cell_type": "markdown",
   "id": "02bf2245",
   "metadata": {},
   "source": [
    "## SEGUNDO CASO: lectura por teclado (ingresado por el usuario)\n",
    "    IMPORTANTISIMO!!!! \n",
    "        En java no tenemos una forma nativa para poder leer variables por consola como estamos acostumbreados con el PSINT que utilizabamos la parabra reservada leer. En java se hace de otra manera y quizas no logremos entender bien lo que hacemos pero mas adelante si vamos a entender exactamente que es lo que sucede. PACIENCIA que ya llegaras!\n",
    "        \n",
    "    Vamos a ver un concepto nuevo y avanzado, el \"Scanner\" pero asi no mas. Por el momento tenemos que saber que lo necesitamos si o si para leer por consola y solo acostumbrensen a utilizarlo como se va a escribir en los siguientes ejemplos; dado que tratar de explicarlo seria avanzar mucho con java y no es lo ideal. Mejor concentremosno en los aspectos basicos.\n",
    "    \n",
    "    nosotros tenemos nuestro programa de la siguiente manera\n",
    "    \n",
    "    package nombreDelPaquete;\n",
    "    \n",
    "    public class nombreDeLaClase{\n",
    "        public static void main(String[] args){\n",
    "            //aqui es donde iria nuestro codigo del programa\n",
    "        }\n",
    "    }\n",
    "    \n",
    "    Mostrare como agregar el scanner para poder utilizarlo en consola. \n",
    "    - primero se importa la libreria \n",
    "        import java.util.Scanner; \n",
    "    - segundo se crea el scanner:\n",
    "        Scanner leer = new Scanner(System.in);\n",
    "    \n",
    "    NOTA IMPORTANTISIMA!!!\n",
    "        Al Scanner lo nombre como leer, pero cada uno puede nombrarlo como quiera pero recuerden los identificadores que nombramos antes. lo ideal seria que lleve el nombre de lo que va a hacer\n",
    "        por ejemplo:\n",
    "        Scanner leerConsola = new Scanner(System.in);\n",
    "        Scanner input = new Scanner(System.in);\n",
    "        Scanner ingresoUsuario = new Scanner(System.in);\n",
    "        etc...\n",
    "    \n",
    "    y nuesto codigo nos quedaria de la siguiente manera:\n",
    "    \n",
    "    package nombreDelPaquete;\n",
    "    \n",
    "    import java.util.Scanner;\n",
    "    \n",
    "    public class nombreDeLaClase{\n",
    "        public static void main(String[] args){\n",
    "            Scanner leer = new Scanner(System.in);\n",
    "        \n",
    "            //aqui es donde iria nuestro codigo del programa\n",
    "        }\n",
    "    }\n",
    "    \n",
    "    Una vez agregada las dos lines que comentamos anteriormente ya podemos comenzar a leer por teclado lo que ingrese el usuario por consola.\n",
    "    \n",
    "## vamos a comenzar!\n",
    "    "
   ]
  },
  {
   "cell_type": "code",
   "execution_count": 7,
   "id": "da7659fe",
   "metadata": {},
   "outputs": [],
   "source": [
    "import java.util.Scanner;\n",
    "\n",
    "Scanner leer = new Scanner(System.in);"
   ]
  },
  {
   "cell_type": "markdown",
   "id": "5e1eb493",
   "metadata": {},
   "source": [
    "# ALGO MUY IMPORTANTE QUE VALE ACLARAR.... \n",
    "\n",
    "    todos veran que el codigo esta dispersado y con resultados que arroja abajo... tengan en cuenta que yo utilizo un programa para poder hacer estas notebook, el cual trabaja de una manera distinta a los IDE que estan usando en este momento (probablemente NetBeans 9.2)\n",
    "    \n",
    "## Ya tenemos nuestro escaner para poder leer datos vamos a ver como usarlo"
   ]
  },
  {
   "cell_type": "code",
   "execution_count": 8,
   "id": "65555ba9",
   "metadata": {},
   "outputs": [
    {
     "name": "stdout",
     "output_type": "stream",
     "text": [
      "ingrese su edad: 18\n",
      "Usted tiene 18 años"
     ]
    }
   ],
   "source": [
    "import java.util.Scanner;\n",
    "Scanner leer = new Scanner(System.in);\n",
    "\n",
    "System.out.print(\"ingrese su edad: \");\n",
    "int edad = leer.nextInt();\n",
    "\n",
    "System.out.print(\"Usted tiene \" + edad + \" años\");"
   ]
  },
  {
   "cell_type": "code",
   "execution_count": 9,
   "id": "4d9d7547",
   "metadata": {},
   "outputs": [
    {
     "name": "stdout",
     "output_type": "stream",
     "text": [
      "ingrese su edad: 50\n",
      "Usted tiene 50 años"
     ]
    }
   ],
   "source": [
    "import java.util.Scanner;\n",
    "Scanner leer = new Scanner(System.in);\n",
    "\n",
    "System.out.print(\"ingrese su edad: \");\n",
    "int edad = leer.nextInt();\n",
    "\n",
    "System.out.print(\"Usted tiene \" + edad + \" años\");"
   ]
  },
  {
   "cell_type": "code",
   "execution_count": 10,
   "id": "a2c0a62b",
   "metadata": {},
   "outputs": [
    {
     "name": "stdout",
     "output_type": "stream",
     "text": [
      "ingrese su nombre: mauricio\n",
      "Bienvenido sr/sra mauricio a nuestro algoritmo"
     ]
    }
   ],
   "source": [
    "import java.util.Scanner;\n",
    "Scanner leer = new Scanner(System.in);\n",
    "\n",
    "System.out.print(\"ingrese su nombre: \");\n",
    "String nombre = leer.nextLine();\n",
    "\n",
    "System.out.print(\"Bienvenido sr/sra \" + nombre + \" a nuestro algoritmo\");"
   ]
  },
  {
   "cell_type": "code",
   "execution_count": 11,
   "id": "48b408b9",
   "metadata": {},
   "outputs": [
    {
     "name": "stdout",
     "output_type": "stream",
     "text": [
      "ingrese su altura: 1.90\n",
      "Usted mide 1.9 metros"
     ]
    }
   ],
   "source": [
    "import java.util.Scanner;\n",
    "Scanner leer = new Scanner(System.in);\n",
    "\n",
    "System.out.print(\"ingrese su altura: \");\n",
    "double altura = leer.nextDouble();\n",
    "\n",
    "System.out.print(\"Usted mide \" + altura + \" metros\");"
   ]
  },
  {
   "cell_type": "markdown",
   "id": "2add0e9b",
   "metadata": {},
   "source": [
    "# COMO NOS QUEDARIA EN NUESTRO IDE?\n",
    "\n",
    "    package nombreDelPaquete;\n",
    "\n",
    "    import java.util.Scanner;\n",
    "\n",
    "    public class nombreDeLaClase{\n",
    "        public static void main(String[] args){\n",
    "            Scanner leer = new Scanner(System.in);\n",
    "            \n",
    "            System.out.print(\"ingrese su edad: \");\n",
    "            int edad = leer.nextInt();\n",
    "            System.out.print(\"Usted tiene \" + edad + \" años\");\n",
    "            \n",
    "            System.out.print(\"ingrese su nombre: \");\n",
    "            String nombre = leer.nextLine();\n",
    "            System.out.print(\"Bienvenido sr/sra \" + nombre + \" a nuestro algoritmo\");\n",
    "            \n",
    "            System.out.print(\"ingrese su altura: \");\n",
    "            double altura = leer.nextDouble();\n",
    "            System.out.print(\"Usted mide \" + altura + \" metros\");\n",
    "        }\n",
    "    }\n"
   ]
  },
  {
   "cell_type": "markdown",
   "id": "7fc65332",
   "metadata": {},
   "source": [
    "## TE DISTE CUENTA????\n",
    "    No se si te diste cuenta pero cada vez que yo cambio de variables al momento de poner leer.next algo cambianba \n",
    "    eso es por que el scanner cuando lee datos por teclado tenemos que especificar que tipo de dato estamos esperando. por eso estan los nextInt() , nextLine(), nextDouble, nextFlotat() ... quiere decir que esta leyendo un tipo de dato y tengo que especificarlo. Solo nombraremos los mas comunes y lo que mas se van a usar...\n",
    "    leer.next()      <---- lee String pero solo toma hasta el primer espacio que encuentra....    \n",
    "    leer.nextLine()  <---- lee String y toma todo lo que se ingrese\n",
    "    leer.nextInt()   <---- lee int (numeros enteros) mismo caso que los otros ... solo toma hasta el espacio o enter.\n",
    "    leer.nextDouble()<---- lee double (numeros enteros) mismo caso que los otros ... solo toma hasta el espacio o enter.\n",
    "    leer.nextFloat() <---- lee float (numeros enteros) mismo caso que los otros ... solo toma hasta el espacio o enter.\n",
    "    \n",
    "## MEJOR LO EXPLICAMOS CON EJEMPLOS, PARA QUE SE ENTIENDA MEJOR"
   ]
  },
  {
   "cell_type": "code",
   "execution_count": 12,
   "id": "ea2dd883",
   "metadata": {},
   "outputs": [
    {
     "name": "stdout",
     "output_type": "stream",
     "text": [
      "ingrese un nombre: mauricio maldonado ezequiel\n",
      "El nombre ingresado es: mauricio"
     ]
    }
   ],
   "source": [
    "import java.util.Scanner;\n",
    "Scanner leer = new Scanner(System.in);\n",
    "\n",
    "\n",
    "System.out.print(\"ingrese un nombre: \");\n",
    "String nombre = leer.next();\n",
    "System.out.print(\"El nombre ingresado es: \"+ nombre);"
   ]
  },
  {
   "cell_type": "markdown",
   "id": "9ad2acc4",
   "metadata": {},
   "source": [
    "### Como se ve en el ejemplo, solo me tomo lo que esta antes del primer espacio y lo demas lo ignora"
   ]
  },
  {
   "cell_type": "code",
   "execution_count": 13,
   "id": "0318a8d4",
   "metadata": {},
   "outputs": [
    {
     "name": "stdout",
     "output_type": "stream",
     "text": [
      "ingrese una frase: hola como estas\n",
      "La frase ingresada es: hola como estas"
     ]
    }
   ],
   "source": [
    "import java.util.Scanner;\n",
    "Scanner leer = new Scanner(System.in);\n",
    "\n",
    "\n",
    "System.out.print(\"ingrese una frase: \");\n",
    "String frase = leer.nextLine();\n",
    "System.out.print(\"La frase ingresada es: \"+ frase);"
   ]
  },
  {
   "cell_type": "markdown",
   "id": "7df8222c",
   "metadata": {},
   "source": [
    "### Como se ve, nos tomo todo lo que se escribio por consola."
   ]
  },
  {
   "cell_type": "code",
   "execution_count": 14,
   "id": "dbd9057e",
   "metadata": {},
   "outputs": [
    {
     "name": "stdout",
     "output_type": "stream",
     "text": [
      "ingrese su edad: 20\n",
      "La edad ingresada es: 20\n",
      "ingrese su edad: 134 42342 124214124124 214\n",
      "La edad ingresada es: 134"
     ]
    }
   ],
   "source": [
    "import java.util.Scanner;\n",
    "Scanner leer = new Scanner(System.in);\n",
    "\n",
    "\n",
    "System.out.print(\"ingrese su edad: \");\n",
    "int edad = leer.nextInt();\n",
    "System.out.println(\"La edad ingresada es: \"+ edad);\n",
    "System.out.print(\"ingrese su edad: \");\n",
    "int edad = leer.nextInt();\n",
    "System.out.print(\"La edad ingresada es: \"+ edad);"
   ]
  },
  {
   "cell_type": "markdown",
   "id": "24d03a80",
   "metadata": {},
   "source": [
    "### Como se ve, ingresamos 2 veces la edad y en la primer ingresamos sin espacios ni nada, pero en la segunda ingresamos con espacio, y solo nos tomo el numero hasta el primer espacio... lo demas lo ignoro"
   ]
  },
  {
   "cell_type": "markdown",
   "id": "2c644c74",
   "metadata": {},
   "source": [
    "# VAMOS A PENSAR EN ALGO MUY IMPORTANTE\n",
    "    Como vieron al momento de leer las variables que pasa si el usuario ingresa un dato que no tenga que ver con el tipo de dato que estoy esperando ????\n",
    "    Solicito su edad y me escribe su nomre.. que sucede en ese caso?\n",
    "    \n",
    "## vamos a probarlo"
   ]
  },
  {
   "cell_type": "code",
   "execution_count": 15,
   "id": "8b2dd831",
   "metadata": {},
   "outputs": [
    {
     "name": "stdout",
     "output_type": "stream",
     "text": [
      "ingrese su edad: mauricio\n"
     ]
    },
    {
     "ename": "EvalException",
     "evalue": "null",
     "output_type": "error",
     "traceback": [
      "\u001b[1m\u001b[31m---------------------------------------------------------------------------\u001b[0m",
      "\u001b[1m\u001b[31mjava.util.InputMismatchException: null\u001b[0m",
      "\u001b[1m\u001b[31m\tat java.base/java.util.Scanner.throwFor(Scanner.java:943)\u001b[0m",
      "\u001b[1m\u001b[31m\tat java.base/java.util.Scanner.next(Scanner.java:1598)\u001b[0m",
      "\u001b[1m\u001b[31m\tat java.base/java.util.Scanner.nextInt(Scanner.java:2263)\u001b[0m",
      "\u001b[1m\u001b[31m\tat java.base/java.util.Scanner.nextInt(Scanner.java:2217)\u001b[0m",
      "\u001b[1m\u001b[31m\tat .(#30:1)\u001b[0m"
     ]
    }
   ],
   "source": [
    "import java.util.Scanner;\n",
    "Scanner leer = new Scanner(System.in);\n",
    "\n",
    "\n",
    "System.out.print(\"ingrese su edad: \");\n",
    "int edad = leer.nextInt();\n",
    "System.out.println(\"La edad ingresada es: \"+ edad);\n",
    "System.out.println(\"el programa finalizo con normalidad\");"
   ]
  },
  {
   "cell_type": "markdown",
   "id": "11760527",
   "metadata": {},
   "source": [
    "# PERO QUE PASO SEÑORA!!!! QUE ALGUIEN ME LO EXPLIQUE!!!\n",
    "    Simple, nosotros esperabamos un dato de tipo entero y el usuario hizo lo que se le dio la gana y rompio nuestro programa. Ahora se preguntaran. Que pasa si el usuario siempre ingresa cosas mal? se va a vivir rompiendo el programa? \n",
    "    Pues SII, es lo mas probable pero hay metodos de evitar que eso suceda... ahora vamos a ver uno muy simple que es el try/catch ... \n",
    "    Como funciona? \n",
    "        digamos que el try ---- dice que haga todo lo que este dentro del try pero su llega a saltar un error ejecuta lo que esta en el catch y continua con el programa como si nada hubiera pasado\n",
    "        \n",
    "    Dificil de entender??? veamos con un ejemplo. \n"
   ]
  },
  {
   "cell_type": "code",
   "execution_count": 16,
   "id": "f1d77cd3",
   "metadata": {
    "scrolled": true
   },
   "outputs": [
    {
     "name": "stdout",
     "output_type": "stream",
     "text": [
      "ingrese edad: \n",
      "muy joven\n",
      "Error, ingreso un dato no valido\n",
      "el programa finalizo con normalidad\n"
     ]
    }
   ],
   "source": [
    "import java.util.Scanner;\n",
    "Scanner leer = new Scanner(System.in);\n",
    "\n",
    "\n",
    "try{\n",
    "    System.out.println(\"ingrese edad: \");\n",
    "    int edad = leer.nextInt();\n",
    "}catch(Exception e){\n",
    "    System.out.println(\"Error, ingreso un dato no valido\");\n",
    "}\n",
    "System.out.println(\"el programa finalizo con normalidad\");\n"
   ]
  },
  {
   "cell_type": "markdown",
   "id": "0a9b43f7",
   "metadata": {},
   "source": [
    "## Logramos lo que quisimos....\n",
    "    Pero ahora nos toca analizar un poco con detalle lo que sucedio. Hay un tema muy particular que no vamos a tocar que es el MANEJO DE EXCEPTION, por que es mucho mas avanzado. Pero con este metodo podemos correr el programa con normalidad, sin correr el riesgo de que salte un error\n",
    "### Bien que sucedio? \n",
    "    El try {} y todo lo que tenga dentro va a correr con normalidad, no importa las instrucciones que coloquemos dentro lo va a correr con normalidad. Ahora el catch esta por si alguien se equivoca, como ya lo vimos en un ejemplo anterior. Que solicitamos un dato de tipo int y el usuario ingresa un dato de tipo String. Entonces cuando alguien ingresa un dato que no corresponde al cual esperabamos salta el \"catch\" y dice para! te equivocaste, ejecuta lo que esta dentro y continua el programa con normalidad\n",
    "    \n",
    "### POR AHORA LO VAMOS A DEJAR ASI Y NO VAMOS A PROFUNDIZAR MAS EL USO DEL TRY/CATCH\n",
    "    Solo nos concentraremos en este uso y por ultimo vamos a dar otro ejemplo\n"
   ]
  },
  {
   "cell_type": "code",
   "execution_count": 17,
   "id": "d78196cf",
   "metadata": {},
   "outputs": [
    {
     "name": "stdout",
     "output_type": "stream",
     "text": [
      "ingrese nombre: \n",
      "mauricio\n",
      "ingrese edad: \n",
      "32\n",
      "ingrese altura: \n",
      "1.90\n",
      "Bienvenido sr/sra mauricio de edad: 32 y altura: 1.9\n",
      "El programa finalizo con normalidad\n"
     ]
    }
   ],
   "source": [
    "import java.util.Scanner;\n",
    "Scanner leer = new Scanner(System.in);\n",
    "\n",
    "\n",
    "try{\n",
    "    System.out.println(\"ingrese nombre: \");\n",
    "    String nombre = leer.nextLine();\n",
    "    System.out.println(\"ingrese edad: \");\n",
    "    int edad = leer.nextInt();\n",
    "    System.out.println(\"ingrese altura: \");\n",
    "    double altura = leer.nextDouble();\n",
    "    System.out.println(\"Bienvenido sr/sra \"+nombre+\" de edad: \"+edad+\" y altura: \"+altura);\n",
    "}catch(Exception e){\n",
    "    System.out.println(\"Error, Puede que este ingresando un dato no valido\");\n",
    "}\n",
    "System.out.println(\"El programa finalizo con normalidad\");"
   ]
  },
  {
   "cell_type": "code",
   "execution_count": 18,
   "id": "0f5a6058",
   "metadata": {
    "scrolled": true
   },
   "outputs": [
    {
     "name": "stdout",
     "output_type": "stream",
     "text": [
      "ingrese nombre: \n",
      "mauricio\n",
      "ingrese edad: \n",
      "32\n",
      "ingrese altura: \n",
      "muy alto\n",
      "Error, Puede que este ingresando un dato no valido\n",
      "El programa finalizo con normalidad\n"
     ]
    }
   ],
   "source": [
    "import java.util.Scanner;\n",
    "Scanner leer = new Scanner(System.in);\n",
    "\n",
    "\n",
    "try{\n",
    "    System.out.println(\"ingrese nombre: \");\n",
    "    String nombre = leer.nextLine();\n",
    "    System.out.println(\"ingrese edad: \");\n",
    "    int edad = leer.nextInt();\n",
    "    System.out.println(\"ingrese altura: \");\n",
    "    double altura = leer.nextDouble();\n",
    "    System.out.println(\"Bienvenido sr/sra \"+nombre+\" de edad: \"+edad+\" y altura: \"+altura);\n",
    "}catch(Exception e){\n",
    "    System.out.println(\"Error, Puede que este ingresando un dato no valido\");\n",
    "}\n",
    "System.out.println(\"El programa finalizo con normalidad\");"
   ]
  },
  {
   "cell_type": "markdown",
   "id": "bb503e2c",
   "metadata": {},
   "source": [
    "# COMO QUEDARIA EN NUESTRO IDE???\n",
    "\n",
    "    package nombreDelPaquete;\n",
    "\n",
    "    import java.util.Scanner;\n",
    "\n",
    "    public class nombreDeLaClase{\n",
    "        public static void main(String[] args){\n",
    "            Scanner leer = new Scanner(System.in);\n",
    "\n",
    "            try{\n",
    "                System.out.println(\"ingrese nombre: \");\n",
    "                String nombre = leer.nextLine();\n",
    "                System.out.println(\"ingrese edad: \");\n",
    "                int edad = leer.nextInt();\n",
    "                System.out.println(\"ingrese altura: \");\n",
    "                double altura = leer.nextDouble();\n",
    "                System.out.println(\"Bienvenido sr/sra \"+nombre+\" de edad: \"+edad+\" y altura: \"+altura);\n",
    "            }catch(Exception e){\n",
    "                System.out.println(\"Error, Puede que este ingresando un dato no valido\");\n",
    "            }\n",
    "            System.out.println(\"El programa finalizo con normalidad\");\n",
    "        }\n",
    "    }"
   ]
  },
  {
   "cell_type": "markdown",
   "id": "ab63041b",
   "metadata": {},
   "source": [
    "# PERFECTO!! \n",
    "    VIMOS QUE PUDIMOS SOLUCIONAR UN PROBLEMA CON UNA SIMPLE SENTENCIA DE JAVA QUE ES TRY/CATCH PERO LO VIMOS ASI NO MAS PARA QUE SE PUEDA ENTENDER UN POCO SU FUNCIONAMIENTO, OBVIAMENTE QUEDAN MUCHAS MAS COSAS QUE VER CON RESPECTO AL TRY/CATCH Y ALGUNAS ESTRUCTURAS DE CONTROL PARA PODER UTILIZARLO DE UNA MANERA MAS OPTIMA PERO VAMOS DE A POCO... \n",
    "    POR AHORA QUEDENSEN CON LO QUE VIMOS HASTA AHORA ESPERO QUE ESTA GUIA LES HAYA SERVIDO MUCHO Y QUE ENTIENDAN UN POCO O MUHO LOS EJEMPLOS\n",
    "    \n",
    "    GRACIAS POR LEERME! \n",
    "    \n",
    "    SI GUSTAN PUEDEN DEJAR UNA ESTRELLA AL REPO SE LOS AGRADECERIA MUCHO♥"
   ]
  },
  {
   "cell_type": "code",
   "execution_count": null,
   "id": "0c49483d",
   "metadata": {},
   "outputs": [],
   "source": []
  }
 ],
 "metadata": {
  "kernelspec": {
   "display_name": "Java",
   "language": "java",
   "name": "java"
  },
  "language_info": {
   "codemirror_mode": "java",
   "file_extension": ".jshell",
   "mimetype": "text/x-java-source",
   "name": "Java",
   "pygments_lexer": "java",
   "version": "19.0.2+7-44"
  }
 },
 "nbformat": 4,
 "nbformat_minor": 5
}
