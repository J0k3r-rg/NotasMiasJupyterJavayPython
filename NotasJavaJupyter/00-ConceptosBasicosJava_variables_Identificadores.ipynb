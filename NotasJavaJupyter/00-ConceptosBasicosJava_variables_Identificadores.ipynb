{
 "cells": [
  {
   "cell_type": "markdown",
   "id": "6c669c9c",
   "metadata": {},
   "source": [
    "## Ultima modificacion: 23-03-2023\n",
    "\n",
    "# CONCEPTOS BASICOS DE JAVA\n",
    "\n",
    "    En este notebook vamos a ver algunos de los conceptos basicos de java. Declaracion de variables, estructuras de control: tanto condicionales y las repetitivas"
   ]
  },
  {
   "cell_type": "markdown",
   "id": "30d1cdd7",
   "metadata": {},
   "source": [
    "## DECLARACION DE VARIABLES"
   ]
  },
  {
   "cell_type": "code",
   "execution_count": 2,
   "id": "45284c4f",
   "metadata": {},
   "outputs": [],
   "source": [
    "String cadenaDeTexto;\n",
    "int numeroEntero;\n",
    "double numeroReal;\n",
    "boolean variableLogica;\n"
   ]
  },
  {
   "cell_type": "markdown",
   "id": "3565461f",
   "metadata": {},
   "source": [
    "## COMO SE DARAN CUENTA LA SINTAXIS ES SIMPLE\n",
    "    Solo basta con decir el tipo de variable (String, int, double, boolean. Hay mas pero por ahora solo usaremos esos que son los mas comunes) seguido del nombre de la variable. En este caso utilizamos nombres quetienen que ver con el tipo pero podria ser cualquier identificador de variables\n",
    "   ### VAMOS POR OTROS EJEMPLOS"
   ]
  },
  {
   "cell_type": "code",
   "execution_count": 3,
   "id": "66fa9231",
   "metadata": {},
   "outputs": [],
   "source": [
    "String frase;\n",
    "String nomnbre;\n",
    "String apellido;\n",
    "\n",
    "int num1;\n",
    "int num2;\n",
    "int num3;\n",
    "\n",
    "double numR1;\n",
    "double numR2;\n",
    "double numR3;\n",
    "\n",
    "boolean esVerdadero;\n",
    "boolean esFalso;\n",
    "boolean bandera;"
   ]
  },
  {
   "cell_type": "markdown",
   "id": "5246e41d",
   "metadata": {},
   "source": [
    "# Se dieron cuenta?\n",
    "    puedo definir todas las variables que yo crea necesario para resolver el problema que nos plantean, podemos utilizarlas como que no. lo recomendable es crear solo las justas! y si necesito mas voy agregando variables.\n",
    "   ## Identificadores\n",
    "    Es muy recomendable saber usar bien los identificadores, si voy a usar una variable para almacenar un nombre, lo ideal es que utilizemos un identificador que tenga que ver con esa variable.\n",
    "    String nomnbre;\n",
    "    String nombrePersona;\n",
    "    String nombre3;\n",
    "    Esos son nombres que identifican la variable, ahora vamos a poner un ejemplo de algo que se puede hacer tranquilamente pero no esta muy bien visto.\n",
    "    vamos a almacenar un nombre en una variable y creamos\n",
    "    String numero;\n",
    "    String casa;\n",
    "    String direccion;\n",
    "    Como veras los identificadores de la variable (nombres que nosotros mismos elegimos para ellos) no tienen nada que ver con el dato que van a almacenar. Si yo voy a almacenar un nombre dentro de una variable lo ideal que esa variable se llame nombre o algun sinonimo de nombre.\n",
    "    El uso de identificadores es muy importante para que cuando tengamos que revisar nuestro codigo o cualqiuer otra persona tenga que revisarlo para corregir o para otro proposito, se le pueda hacer mucho mas facil identificar las variables.\n",
    "    \n",
    "    Este concepto tambien se aplica a los nombres de las funciones, subprocesos, metodos o como deseen llamarle ya que tiene que llamarse lo mas parecido a lo que hace. Por ejemplo si vamos a crear una funcion que sume 2 numeros, los identificadores que usariamos seria algo como : suma() , suma2Numeros(), sumaNumeros() y cualquier identificador que tenga que ver con la suma. No es recomendable ponerle nombres que no tengan nada que ver con lo que hace (ejemplos: construir(), adivinar(),aleatorio(). Como se daran cuenta no tienen nada que ver con la suma).\n",
    "    \n",
    "  ## ES MUY IMPORTANTE!!!!! \n",
    "  El correcto uso de identificadores en nuestro algoritmo para una buena lectura y busqueda de errores que se puedan estar produciendo duante el proceso de ejecucion."
   ]
  },
  {
   "cell_type": "markdown",
   "id": "f6effe54",
   "metadata": {},
   "source": [
    "# MANOS A LA OBRA\n",
    "    Ya vimos algunos conceptos basicos de declaracion de variables y sus correspondientes identificadores. Ahora vamos a encarar a la asignacion de valores para esas variables. Podemos hacerlo de distintas maneras pero por ahora solo vamos a ver 2 que son las que se van a usar mas para poder aprender java. asignacion en el algoritmo y lectura por consola (ingreso de usuario).\n",
    "   ## Primer caso: ASIGNACION DIRECTA EN EL ALGORITMO\n",
    "   Como ya sabemos podemos crear la variable y despues asignarle un valor\n",
    "  "
   ]
  },
  {
   "cell_type": "code",
   "execution_count": 11,
   "id": "7caf9642",
   "metadata": {},
   "outputs": [],
   "source": [
    "String nombreUsuario;\n",
    "nombreUsuario = \"mauricio\";\n",
    "int edad;\n",
    "edad = 32;\n",
    "int hijos;\n",
    "hijos = 2;\n",
    "double altura;\n",
    "altura = 1.90;\n",
    "boolean trabajador;\n",
    "trabajador = true;"
   ]
  },
  {
   "cell_type": "markdown",
   "id": "edf6557f",
   "metadata": {},
   "source": [
    "### Ahora consultamos\n",
    "    Y veremos que dento de la variable se encentra almacenada la palabra mauricio"
   ]
  },
  {
   "cell_type": "code",
   "execution_count": 17,
   "id": "8a679e8c",
   "metadata": {},
   "outputs": [
    {
     "name": "stdout",
     "output_type": "stream",
     "text": [
      "Nombre:Ezequie\n",
      "Edad: 28\n",
      "Cantidad de hijos: 0\n",
      "Altura (metros): 1.76\n",
      "Trabajador? :false\n"
     ]
    }
   ],
   "source": [
    "System.out.println(\"Nombre:\" + nombreUsuario);\n",
    "System.out.println(\"Edad: \" + edad);\n",
    "System.out.println(\"Cantidad de hijos: \" + hijos);\n",
    "System.out.println(\"Altura (metros): \" + altura);\n",
    "System.out.println(\"Trabajador? :\" + trabajador);"
   ]
  },
  {
   "cell_type": "markdown",
   "id": "38f0b3b4",
   "metadata": {},
   "source": [
    "## DATO IMPORTANTE\n",
    "    Asi como definimos la variable y despues le asigamos un valor, java nos permite realizar esos 2 paso pero en una misma linea, ENTONCES: puedo declararla y darle un valor en una sola line? .... SII java nos permite de la siguiente manera:"
   ]
  },
  {
   "cell_type": "code",
   "execution_count": 18,
   "id": "4548ccb0",
   "metadata": {},
   "outputs": [],
   "source": [
    "String nombreUsuario= \"Ezequie\";\n",
    "int edad = 28;\n",
    "int hijos = 0;\n",
    "double altura = 1.76;\n",
    "boolean trabajador = false;"
   ]
  },
  {
   "cell_type": "code",
   "execution_count": 19,
   "id": "54e64556",
   "metadata": {},
   "outputs": [
    {
     "name": "stdout",
     "output_type": "stream",
     "text": [
      "Nombre:Ezequie\n",
      "Edad: 28\n",
      "Cantidad de hijos: 0\n",
      "Altura (metros): 1.76\n",
      "Trabajador? :false\n"
     ]
    }
   ],
   "source": [
    "System.out.println(\"Nombre:\" + nombreUsuario);\n",
    "System.out.println(\"Edad: \" + edad);\n",
    "System.out.println(\"Cantidad de hijos: \" + hijos);\n",
    "System.out.println(\"Altura (metros): \" + altura);\n",
    "System.out.println(\"Trabajador? :\" + trabajador);"
   ]
  },
  {
   "cell_type": "markdown",
   "id": "3db48d48",
   "metadata": {},
   "source": [
    "## PERFECTO!\n",
    "    Como se pudoobservar obtuvimos el mismo resultado aplicando lo recien visto, y nos ahorramos 4 lineas de codigo ♥... ES importante ahorar lineas de codigo? \n",
    "    En este momento la verdad no es muy importante, por que lo mas importante en este momento es que podamos aprender y entender bien el lenguaje. Por lo tanto No es necesario que se preocupen en este momento en achicar el codigo o resolver el problema con la menor cantidad de lineas de codgio.\n",
    "    IMPORTANTE: EN ESTE MOMENTO SOLO NOS INTERESA QUE NUESTRO CODIGO PUEDA RESOLVER EL PROBLEMA. Despues mos concentraremos en poder hacerlo \"optimo\" o reducirlo a su minima expresion.\n",
    "    \n"
   ]
  },
  {
   "cell_type": "code",
   "execution_count": null,
   "id": "10035190",
   "metadata": {},
   "outputs": [],
   "source": []
  }
 ],
 "metadata": {
  "kernelspec": {
   "display_name": "Java",
   "language": "java",
   "name": "java"
  },
  "language_info": {
   "codemirror_mode": "java",
   "file_extension": ".jshell",
   "mimetype": "text/x-java-source",
   "name": "Java",
   "pygments_lexer": "java",
   "version": "19.0.2+7-44"
  }
 },
 "nbformat": 4,
 "nbformat_minor": 5
}
