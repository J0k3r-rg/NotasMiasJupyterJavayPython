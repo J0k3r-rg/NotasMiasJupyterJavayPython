{
 "cells": [
  {
   "cell_type": "markdown",
   "id": "d1db9571",
   "metadata": {},
   "source": [
    "# VALIDACION DE DATOS INGRESADOS POR EL USUARIO STRING\n",
    "en las siguiente funciones realizamos comprobaciones de datos, Entero,Real y caracteres\n"
   ]
  },
  {
   "cell_type": "markdown",
   "id": "71828f4b",
   "metadata": {},
   "source": [
    "## NUMEROS ENTEROS\n",
    "\n",
    "como veran al solo permitir numeros enteros recorremos la cadena ingresada en la funcion y la comparamos con cada uno de los caracteres que contiene nuestros numeros permitidos"
   ]
  },
  {
   "cell_type": "code",
   "execution_count": 1,
   "id": "87b57547",
   "metadata": {},
   "outputs": [],
   "source": [
    "private static boolean validarNumeroEntero(String num) {\n",
    "        String numeros = \"0123456789\";\n",
    "        boolean bandera = true;\n",
    "        if (num.charAt(0) == '-') num = num.substring(1,num.length()-1);\n",
    "        for (int i = 0; i < num.length(); i++) {\n",
    "            for (int j = 0; j < numeros.length(); j++) {\n",
    "                if (num.charAt(i) == numeros.charAt(j)) {\n",
    "                    bandera = true;\n",
    "                    break;\n",
    "                } else {\n",
    "                    bandera = false;\n",
    "                }\n",
    "            }\n",
    "            if (!bandera){\n",
    "                return false;\n",
    "            }\n",
    "        }\n",
    "        return true;\n",
    "    }"
   ]
  },
  {
   "cell_type": "code",
   "execution_count": 2,
   "id": "d4389719",
   "metadata": {},
   "outputs": [
    {
     "data": {
      "text/plain": [
       "false"
      ]
     },
     "execution_count": 2,
     "metadata": {},
     "output_type": "execute_result"
    }
   ],
   "source": [
    "validarNumeroEntero(\"h1\")"
   ]
  },
  {
   "cell_type": "code",
   "execution_count": 3,
   "id": "8f3259bc",
   "metadata": {},
   "outputs": [
    {
     "data": {
      "text/plain": [
       "false"
      ]
     },
     "execution_count": 3,
     "metadata": {},
     "output_type": "execute_result"
    }
   ],
   "source": [
    "validarNumeroEntero(\"1.3\")"
   ]
  },
  {
   "cell_type": "code",
   "execution_count": 4,
   "id": "68f26755",
   "metadata": {},
   "outputs": [
    {
     "data": {
      "text/plain": [
       "true"
      ]
     },
     "execution_count": 4,
     "metadata": {},
     "output_type": "execute_result"
    }
   ],
   "source": [
    "validarNumeroEntero(\"123\")"
   ]
  },
  {
   "cell_type": "markdown",
   "id": "f9116825",
   "metadata": {},
   "source": [
    "## NUMEROS REALES\n",
    "Implementamos el mismo metodo que con los enteros pero ahora agregamos que tambien tome en cuenta el punto\n",
    "CUIDADO que el usuario puede agregar mas de 1 punto y tambien hay que tener en cuenta eso\n",
    "\n",
    "NOTA: Tambien podemos realizar la validacion con un try/catch ... en otro notebook lo pondremos a prubea\n",
    "Mirar en la carpeta de GitHub"
   ]
  },
  {
   "cell_type": "code",
   "execution_count": 5,
   "id": "17f609cd",
   "metadata": {},
   "outputs": [],
   "source": [
    "private static boolean validarNumeroReal(String num) {\n",
    "        String numeros = \"0123456789.\";\n",
    "        if (num.charAt(0) == '-') num = num.substring(1,num.length()-1);\n",
    "        boolean bandera = true;\n",
    "        int punto = 0;\n",
    "        for (int i = 0; i < num.length(); i++) {\n",
    "            for (int j = 0; j < numeros.length(); j++) {\n",
    "                if (num.charAt(i) == numeros.charAt(j)) {\n",
    "                    if (num.charAt(i) == '.') punto++;\n",
    "                    if (punto == 2 ) return false;\n",
    "                    bandera = true;\n",
    "                    break;\n",
    "                } else {\n",
    "                    bandera = false;\n",
    "                }\n",
    "            }\n",
    "            if (!bandera){\n",
    "                return false;\n",
    "            }\n",
    "        }\n",
    "        return true;\n",
    "    }"
   ]
  },
  {
   "cell_type": "code",
   "execution_count": 6,
   "id": "866893f0",
   "metadata": {},
   "outputs": [
    {
     "data": {
      "text/plain": [
       "false"
      ]
     },
     "execution_count": 6,
     "metadata": {},
     "output_type": "execute_result"
    }
   ],
   "source": [
    "validarNumeroReal(\"hola1.3\")"
   ]
  },
  {
   "cell_type": "code",
   "execution_count": 7,
   "id": "36da2470",
   "metadata": {},
   "outputs": [
    {
     "data": {
      "text/plain": [
       "false"
      ]
     },
     "execution_count": 7,
     "metadata": {},
     "output_type": "execute_result"
    }
   ],
   "source": [
    "validarNumeroReal(\"1.23.0\")"
   ]
  },
  {
   "cell_type": "code",
   "execution_count": 8,
   "id": "ad63f4f3",
   "metadata": {},
   "outputs": [
    {
     "data": {
      "text/plain": [
       "true"
      ]
     },
     "execution_count": 8,
     "metadata": {},
     "output_type": "execute_result"
    }
   ],
   "source": [
    "validarNumeroReal(\"1.32\")"
   ]
  },
  {
   "cell_type": "code",
   "execution_count": 9,
   "id": "5542b626",
   "metadata": {},
   "outputs": [
    {
     "data": {
      "text/plain": [
       "true"
      ]
     },
     "execution_count": 9,
     "metadata": {},
     "output_type": "execute_result"
    }
   ],
   "source": [
    "validarNumeroReal(\"123\")"
   ]
  },
  {
   "cell_type": "markdown",
   "id": "0b423bc4",
   "metadata": {},
   "source": [
    "## CADENAS CON CARACTERES\n",
    "\n",
    "validaremos una cadena de caracteres y podemos ingresar en caracteres los que van a estar permitidos en nuestra validacion\n",
    "\n",
    "Nota: En nuestra validacion de caracteres no se encuentra el espacio, y si queremos validar frases que contengan espacios habria que agregar a la lista de caracteres permitidos que seria nuestra variable caracteres\n"
   ]
  },
  {
   "cell_type": "code",
   "execution_count": 10,
   "id": "04d75976",
   "metadata": {},
   "outputs": [],
   "source": [
    "private static boolean validarCaracteres(String cadena) {\n",
    "        final String caracteres = \"abcdefghijklmnopqrstuvwxyzABCDEFGHIJKLMNOPQRSTUVWXYZ\";\n",
    "        boolean bandera = true;\n",
    "        for (int i = 0; i < cadena.length(); i++) {\n",
    "            for (int j = 0; j < caracteres.length(); j++) {\n",
    "                if (cadena.charAt(i) == caracteres.charAt(j)) {\n",
    "                    bandera = true;\n",
    "                    break;\n",
    "                } else {\n",
    "                    bandera = false;\n",
    "                }\n",
    "            }\n",
    "            if (!bandera){\n",
    "                return false;\n",
    "            }\n",
    "        }\n",
    "        return true;\n",
    "    }"
   ]
  },
  {
   "cell_type": "code",
   "execution_count": 11,
   "id": "c0e00f1e",
   "metadata": {},
   "outputs": [
    {
     "data": {
      "text/plain": [
       "false"
      ]
     },
     "execution_count": 11,
     "metadata": {},
     "output_type": "execute_result"
    }
   ],
   "source": [
    "validarCaracteres(\"!¨*{}\")"
   ]
  },
  {
   "cell_type": "code",
   "execution_count": 12,
   "id": "501964f4",
   "metadata": {},
   "outputs": [
    {
     "data": {
      "text/plain": [
       "false"
      ]
     },
     "execution_count": 12,
     "metadata": {},
     "output_type": "execute_result"
    }
   ],
   "source": [
    "validarCaracteres(\"123hola\")"
   ]
  },
  {
   "cell_type": "code",
   "execution_count": 13,
   "id": "e63cc9ae",
   "metadata": {},
   "outputs": [
    {
     "data": {
      "text/plain": [
       "false"
      ]
     },
     "execution_count": 13,
     "metadata": {},
     "output_type": "execute_result"
    }
   ],
   "source": [
    "validarCaracteres(\"hola mundo cruel\")"
   ]
  },
  {
   "cell_type": "code",
   "execution_count": 14,
   "id": "06894798",
   "metadata": {},
   "outputs": [
    {
     "data": {
      "text/plain": [
       "true"
      ]
     },
     "execution_count": 14,
     "metadata": {},
     "output_type": "execute_result"
    }
   ],
   "source": [
    "validarCaracteres(\"holaMundoCruel\")"
   ]
  },
  {
   "cell_type": "code",
   "execution_count": 15,
   "id": "e07612ae",
   "metadata": {},
   "outputs": [
    {
     "data": {
      "text/plain": [
       "false"
      ]
     },
     "execution_count": 15,
     "metadata": {},
     "output_type": "execute_result"
    }
   ],
   "source": [
    "validarCaracteres(\"\\n\")"
   ]
  },
  {
   "cell_type": "code",
   "execution_count": 19,
   "id": "9ae5b898",
   "metadata": {},
   "outputs": [],
   "source": [
    "private static boolean validarCaracteres2(String cadena) {\n",
    "        final String caracteres = \"abcdefghijklmnopqrstuvwxyzABCDEFGHIJKLMNOPQRSTUVWXYZ\\\\\";\n",
    "        boolean bandera = true;\n",
    "        for (int i = 0; i < cadena.length(); i++) {\n",
    "            for (int j = 0; j < caracteres.length(); j++) {\n",
    "                if (cadena.charAt(i) == caracteres.charAt(j)) {\n",
    "                    bandera = true;\n",
    "                    break;\n",
    "                } else {\n",
    "                    bandera = false;\n",
    "                }\n",
    "            }\n",
    "            if (!bandera){\n",
    "                return false;\n",
    "            }\n",
    "        }\n",
    "        return true;\n",
    "    }"
   ]
  },
  {
   "cell_type": "code",
   "execution_count": 21,
   "id": "24364340",
   "metadata": {},
   "outputs": [
    {
     "ename": "CompilationException",
     "evalue": "",
     "output_type": "error",
     "traceback": [
      "\u001b[1m\u001b[30m|   \u001b[1m\u001b[30m\u001b[0m\u001b[1m\u001b[30m\u001b[41mvalidarCaracteres2\u001b[0m\u001b[1m\u001b[30m(\"\\n\")\u001b[0m",
      "\u001b[1m\u001b[31mcannot find symbol\u001b[0m",
      "\u001b[1m\u001b[31m  symbol:   method validarCaracteres2(java.lang.String)\u001b[0m",
      ""
     ]
    }
   ],
   "source": [
    "validarCaracteres2(\"\\n\")"
   ]
  },
  {
   "cell_type": "markdown",
   "id": "5c5f058b",
   "metadata": {},
   "source": [
    "## INTERESANTE NO?\n",
    "\n",
    "### QUE ES LO QUE SUCEDIO?\n",
    "\n",
    "    Como ya sabemos \\n dentro de una cadena de caracteres es un salto de linea... ahora a averiguar que es lo que sucedio XD"
   ]
  }
 ],
 "metadata": {
  "kernelspec": {
   "display_name": "Java",
   "language": "java",
   "name": "java"
  },
  "language_info": {
   "codemirror_mode": "java",
   "file_extension": ".jshell",
   "mimetype": "text/x-java-source",
   "name": "Java",
   "pygments_lexer": "java",
   "version": "19.0.2+7-44"
  }
 },
 "nbformat": 4,
 "nbformat_minor": 5
}
