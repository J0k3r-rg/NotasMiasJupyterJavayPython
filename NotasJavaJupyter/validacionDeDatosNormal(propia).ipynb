{
 "cells": [
  {
   "cell_type": "code",
   "execution_count": 1,
   "id": "17f609cd",
   "metadata": {},
   "outputs": [],
   "source": [
    "private static boolean validarNumeroReal(String num) {\n",
    "        String numeros = \"0123456789.\";\n",
    "        if (num.charAt(0) == '-') num = num.substring(1,num.length()-1);\n",
    "        boolean bandera = true;\n",
    "        int punto = 0;\n",
    "        for (int i = 0; i < num.length(); i++) {\n",
    "            for (int j = 0; j < numeros.length(); j++) {\n",
    "                if (num.charAt(i) == numeros.charAt(j)) {\n",
    "                    if (num.charAt(i) == '.') punto++;\n",
    "                    if (punto == 2 ) return false;\n",
    "                    bandera = true;\n",
    "                    break;\n",
    "                } else {\n",
    "                    bandera = false;\n",
    "                }\n",
    "            }\n",
    "            if (!bandera){\n",
    "                return false;\n",
    "            }\n",
    "        }\n",
    "        return true;\n",
    "    }"
   ]
  },
  {
   "cell_type": "code",
   "execution_count": 2,
   "id": "04d75976",
   "metadata": {},
   "outputs": [],
   "source": [
    "private static boolean validarCaracteres(String cadena) {\n",
    "        String letras = \"abcdefghijklmnopqrstuvwxyzABCDEFGHIJKLMNOPQRSTUVWXYZ\";\n",
    "        boolean bandera = true;\n",
    "        for (int i = 0; i < cadena.length(); i++) {\n",
    "            for (int j = 0; j < letras.length(); j++) {\n",
    "                if (cadena.charAt(i) == letras.charAt(j)) {\n",
    "                    bandera = true;\n",
    "                    break;\n",
    "                } else {\n",
    "                    bandera = false;\n",
    "                }\n",
    "            }\n",
    "            if (!bandera){\n",
    "                return false;\n",
    "            }\n",
    "        }\n",
    "        return true;\n",
    "    }"
   ]
  },
  {
   "cell_type": "code",
   "execution_count": 3,
   "id": "1d81fde7",
   "metadata": {},
   "outputs": [],
   "source": [
    "private static boolean validarNumeroEntero(String num) {\n",
    "        String numeros = \"0123456789\";\n",
    "        boolean bandera = true;\n",
    "        if (num.charAt(0) == '-') num = num.substring(1,num.length()-1);\n",
    "        for (int i = 0; i < num.length(); i++) {\n",
    "            for (int j = 0; j < numeros.length(); j++) {\n",
    "                if (num.charAt(i) == numeros.charAt(j)) {\n",
    "                    bandera = true;\n",
    "                    break;\n",
    "                } else {\n",
    "                    bandera = false;\n",
    "                }\n",
    "            }\n",
    "            if (!bandera){\n",
    "                return false;\n",
    "            }\n",
    "        }\n",
    "        return true;\n",
    "    }"
   ]
  },
  {
   "cell_type": "code",
   "execution_count": 4,
   "id": "c0e00f1e",
   "metadata": {},
   "outputs": [
    {
     "data": {
      "text/plain": [
       "true"
      ]
     },
     "execution_count": 4,
     "metadata": {},
     "output_type": "execute_result"
    }
   ],
   "source": [
    "validarNumeroEntero(\"123\")"
   ]
  },
  {
   "cell_type": "code",
   "execution_count": 5,
   "id": "e63cc9ae",
   "metadata": {},
   "outputs": [
    {
     "data": {
      "text/plain": [
       "false"
      ]
     },
     "execution_count": 5,
     "metadata": {},
     "output_type": "execute_result"
    }
   ],
   "source": [
    "validarNumeroEntero(\"ada\")"
   ]
  },
  {
   "cell_type": "code",
   "execution_count": null,
   "id": "06894798",
   "metadata": {},
   "outputs": [],
   "source": []
  }
 ],
 "metadata": {
  "kernelspec": {
   "display_name": "Java",
   "language": "java",
   "name": "java"
  },
  "language_info": {
   "codemirror_mode": "java",
   "file_extension": ".jshell",
   "mimetype": "text/x-java-source",
   "name": "Java",
   "pygments_lexer": "java",
   "version": "19.0.2+7-44"
  }
 },
 "nbformat": 4,
 "nbformat_minor": 5
}
