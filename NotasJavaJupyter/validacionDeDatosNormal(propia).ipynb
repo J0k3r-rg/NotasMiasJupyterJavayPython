{
 "cells": [
  {
   "cell_type": "markdown",
   "id": "d1db9571",
   "metadata": {},
   "source": [
    "# VALIDACION DE DATOS INGRESADOS POR EL USUARIO STRING\n",
    "en las siguiente funciones realizamos comprobaciones de datos, Entero,Real y caracteres\n"
   ]
  },
  {
   "cell_type": "markdown",
   "id": "71828f4b",
   "metadata": {},
   "source": [
    "## NUMEROS ENTEROS\n",
    "\n",
    "como veran al solo permitir numeros enteros recorremos la cadena ingresada en la funcion y la comparamos con cada uno de los caracteres que contiene nuestros numeros permitidos"
   ]
  },
  {
   "cell_type": "code",
   "execution_count": 1,
   "id": "87b57547",
   "metadata": {},
   "outputs": [],
   "source": [
    "private static boolean validarNumeroEntero(String num) {\n",
    "        String numeros = \"0123456789\";\n",
    "        boolean bandera = true;\n",
    "        if (num.charAt(0) == '-') num = num.substring(1,num.length()-1);\n",
    "        for (int i = 0; i < num.length(); i++) {\n",
    "            for (int j = 0; j < numeros.length(); j++) {\n",
    "                if (num.charAt(i) == numeros.charAt(j)) {\n",
    "                    bandera = true;\n",
    "                    break;\n",
    "                } else {\n",
    "                    bandera = false;\n",
    "                }\n",
    "            }\n",
    "            if (!bandera){\n",
    "                return false;\n",
    "            }\n",
    "        }\n",
    "        return true;\n",
    "    }"
   ]
  },
  {
   "cell_type": "markdown",
   "id": "f9116825",
   "metadata": {},
   "source": [
    "## NUMEROS REALES\n",
    "Implementamos el mismo metodo que con los enteros pero ahora agregamos que tambien tome en cuenta el punto\n",
    "CUIDADO que el usuario puede agregar mas de 1 punto y tambien hay que tener en cuenta eso\n",
    "\n",
    "NOTA: Tambien podemos realizar la validacion con un try/catch ... en otro notebook lo pondremos a prubea\n",
    "Mirar en la carpeta de GitHub"
   ]
  },
  {
   "cell_type": "code",
   "execution_count": 2,
   "id": "17f609cd",
   "metadata": {},
   "outputs": [],
   "source": [
    "private static boolean validarNumeroReal(String num) {\n",
    "        String numeros = \"0123456789.\";\n",
    "        if (num.charAt(0) == '-') num = num.substring(1,num.length()-1);\n",
    "        boolean bandera = true;\n",
    "        int punto = 0;\n",
    "        for (int i = 0; i < num.length(); i++) {\n",
    "            for (int j = 0; j < numeros.length(); j++) {\n",
    "                if (num.charAt(i) == numeros.charAt(j)) {\n",
    "                    if (num.charAt(i) == '.') punto++;\n",
    "                    if (punto == 2 ) return false;\n",
    "                    bandera = true;\n",
    "                    break;\n",
    "                } else {\n",
    "                    bandera = false;\n",
    "                }\n",
    "            }\n",
    "            if (!bandera){\n",
    "                return false;\n",
    "            }\n",
    "        }\n",
    "        return true;\n",
    "    }"
   ]
  },
  {
   "cell_type": "markdown",
   "id": "0b423bc4",
   "metadata": {},
   "source": [
    "## CADENAS CON CARACTERES\n",
    "\n",
    "validaremos una cadena de caracteres y podemos ingresar en caracteres los que van a estar permitidos en nuestra validacion\n"
   ]
  },
  {
   "cell_type": "code",
   "execution_count": 4,
   "id": "04d75976",
   "metadata": {},
   "outputs": [],
   "source": [
    "private static boolean validarCaracteres(String cadena) {\n",
    "        final String caracteres = \"abcdefghijklmnopqrstuvwxyzABCDEFGHIJKLMNOPQRSTUVWXYZ\";\n",
    "        boolean bandera = true;\n",
    "        for (int i = 0; i < cadena.length(); i++) {\n",
    "            for (int j = 0; j < caracteres.length(); j++) {\n",
    "                if (cadena.charAt(i) == caracteres.charAt(j)) {\n",
    "                    bandera = true;\n",
    "                    break;\n",
    "                } else {\n",
    "                    bandera = false;\n",
    "                }\n",
    "            }\n",
    "            if (!bandera){\n",
    "                return false;\n",
    "            }\n",
    "        }\n",
    "        return true;\n",
    "    }"
   ]
  },
  {
   "cell_type": "code",
   "execution_count": 4,
   "id": "c0e00f1e",
   "metadata": {},
   "outputs": [
    {
     "data": {
      "text/plain": [
       "true"
      ]
     },
     "execution_count": 4,
     "metadata": {},
     "output_type": "execute_result"
    }
   ],
   "source": [
    "validarNumeroEntero(\"123\")"
   ]
  },
  {
   "cell_type": "code",
   "execution_count": 5,
   "id": "e63cc9ae",
   "metadata": {},
   "outputs": [
    {
     "data": {
      "text/plain": [
       "false"
      ]
     },
     "execution_count": 5,
     "metadata": {},
     "output_type": "execute_result"
    }
   ],
   "source": [
    "validarNumeroEntero(\"ada\")"
   ]
  },
  {
   "cell_type": "code",
   "execution_count": null,
   "id": "06894798",
   "metadata": {},
   "outputs": [],
   "source": []
  }
 ],
 "metadata": {
  "kernelspec": {
   "display_name": "Java",
   "language": "java",
   "name": "java"
  },
  "language_info": {
   "codemirror_mode": "java",
   "file_extension": ".jshell",
   "mimetype": "text/x-java-source",
   "name": "Java",
   "pygments_lexer": "java",
   "version": "19.0.2+7-44"
  }
 },
 "nbformat": 4,
 "nbformat_minor": 5
}
