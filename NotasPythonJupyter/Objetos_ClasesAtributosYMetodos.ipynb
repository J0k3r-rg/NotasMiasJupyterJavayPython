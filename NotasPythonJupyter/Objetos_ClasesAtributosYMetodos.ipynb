{
 "cells": [
  {
   "cell_type": "code",
   "execution_count": 1,
   "id": "0517ce87",
   "metadata": {},
   "outputs": [],
   "source": [
    "class Persona:\n",
    "    kmRecorridos = 0\n",
    "    \n",
    "    def __init__ (self,nombre,apellido,edad,altura):\n",
    "        self.__nombre = nombre\n",
    "        self.apellido = apellido\n",
    "        self.edad = edad\n",
    "        self.altura = altura\n",
    "        \n",
    "    def saludar(self):\n",
    "        print(\"HOLA\")\n",
    "    \n",
    "    def setNombre(self,nombre):\n",
    "        self.__nombre = nombre\n",
    "    \n",
    "    def getNombre(self):\n",
    "        return self.__nombre\n",
    "    \n",
    "    def caminar(self,kmRecorridos):\n",
    "        self.kmRecorridos += kmRecorridos\n",
    "        \n",
    "    def __str__(self):\n",
    "        return f\"\"\"\n",
    "            Hola mi nombre es {self.__nombre}\n",
    "            mi apellido es {self.apellido}\n",
    "            en este momento tengo años: {self.edad}\n",
    "            y mido {self.altura} mts de alto.\n",
    "        \"\"\""
   ]
  },
  {
   "cell_type": "code",
   "execution_count": 2,
   "id": "d2c4efcb",
   "metadata": {},
   "outputs": [],
   "source": [
    "persona1 = Persona(\"Mauricio\",\"Maldonado\",32,1.90)"
   ]
  },
  {
   "cell_type": "code",
   "execution_count": 3,
   "id": "785b3e37",
   "metadata": {},
   "outputs": [
    {
     "ename": "AttributeError",
     "evalue": "'Persona' object has no attribute '__nombre'",
     "output_type": "error",
     "traceback": [
      "\u001b[1;31m---------------------------------------------------------------------------\u001b[0m",
      "\u001b[1;31mAttributeError\u001b[0m                            Traceback (most recent call last)",
      "\u001b[1;32m~\\AppData\\Local\\Temp\\ipykernel_6044\\1751815627.py\u001b[0m in \u001b[0;36m<module>\u001b[1;34m\u001b[0m\n\u001b[1;32m----> 1\u001b[1;33m \u001b[0mpersona1\u001b[0m\u001b[1;33m.\u001b[0m\u001b[0m__nombre\u001b[0m\u001b[1;33m\u001b[0m\u001b[1;33m\u001b[0m\u001b[0m\n\u001b[0m",
      "\u001b[1;31mAttributeError\u001b[0m: 'Persona' object has no attribute '__nombre'"
     ]
    }
   ],
   "source": [
    "persona1.__nombre"
   ]
  },
  {
   "cell_type": "code",
   "execution_count": 4,
   "id": "0615fd2d",
   "metadata": {},
   "outputs": [
    {
     "data": {
      "text/plain": [
       "'Maldonado'"
      ]
     },
     "execution_count": 4,
     "metadata": {},
     "output_type": "execute_result"
    }
   ],
   "source": [
    "persona1.apellido"
   ]
  },
  {
   "cell_type": "code",
   "execution_count": 5,
   "id": "a7f593af",
   "metadata": {},
   "outputs": [
    {
     "data": {
      "text/plain": [
       "0"
      ]
     },
     "execution_count": 5,
     "metadata": {},
     "output_type": "execute_result"
    }
   ],
   "source": [
    "persona1.kmRecorridos"
   ]
  },
  {
   "cell_type": "code",
   "execution_count": 6,
   "id": "d597aa50",
   "metadata": {},
   "outputs": [],
   "source": [
    "persona1.caminar(20)"
   ]
  },
  {
   "cell_type": "code",
   "execution_count": 7,
   "id": "bc117c14",
   "metadata": {},
   "outputs": [
    {
     "data": {
      "text/plain": [
       "20"
      ]
     },
     "execution_count": 7,
     "metadata": {},
     "output_type": "execute_result"
    }
   ],
   "source": [
    "persona1.kmRecorridos"
   ]
  },
  {
   "cell_type": "code",
   "execution_count": 8,
   "id": "0c518a6a",
   "metadata": {},
   "outputs": [
    {
     "name": "stdout",
     "output_type": "stream",
     "text": [
      "HOLA\n"
     ]
    }
   ],
   "source": [
    "persona1.saludar()"
   ]
  },
  {
   "cell_type": "code",
   "execution_count": 9,
   "id": "fcdad448",
   "metadata": {},
   "outputs": [
    {
     "data": {
      "text/plain": [
       "'Mauricio'"
      ]
     },
     "execution_count": 9,
     "metadata": {},
     "output_type": "execute_result"
    }
   ],
   "source": [
    "persona1.getNombre()"
   ]
  },
  {
   "cell_type": "code",
   "execution_count": 10,
   "id": "a3572616",
   "metadata": {},
   "outputs": [],
   "source": [
    "persona1.setNombre(\"lautaro\")"
   ]
  },
  {
   "cell_type": "code",
   "execution_count": 11,
   "id": "8753151a",
   "metadata": {},
   "outputs": [
    {
     "data": {
      "text/plain": [
       "'lautaro'"
      ]
     },
     "execution_count": 11,
     "metadata": {},
     "output_type": "execute_result"
    }
   ],
   "source": [
    "persona1.getNombre()"
   ]
  },
  {
   "cell_type": "code",
   "execution_count": 12,
   "id": "ee930588",
   "metadata": {},
   "outputs": [
    {
     "data": {
      "text/plain": [
       "'Maldonado'"
      ]
     },
     "execution_count": 12,
     "metadata": {},
     "output_type": "execute_result"
    }
   ],
   "source": [
    "persona1.apellido"
   ]
  },
  {
   "cell_type": "code",
   "execution_count": 13,
   "id": "db3749e4",
   "metadata": {},
   "outputs": [
    {
     "name": "stdout",
     "output_type": "stream",
     "text": [
      "\n",
      "            Hola mi nombre es lautaro\n",
      "            mi apellido es Maldonado\n",
      "            en este momento tengo años: 32\n",
      "            y mido 1.9 mts de alto.\n",
      "        \n"
     ]
    }
   ],
   "source": [
    "print(persona1)"
   ]
  },
  {
   "cell_type": "code",
   "execution_count": null,
   "id": "83e23d28",
   "metadata": {},
   "outputs": [],
   "source": []
  }
 ],
 "metadata": {
  "kernelspec": {
   "display_name": "Python 3 (ipykernel)",
   "language": "python",
   "name": "python3"
  },
  "language_info": {
   "codemirror_mode": {
    "name": "ipython",
    "version": 3
   },
   "file_extension": ".py",
   "mimetype": "text/x-python",
   "name": "python",
   "nbconvert_exporter": "python",
   "pygments_lexer": "ipython3",
   "version": "3.9.13"
  }
 },
 "nbformat": 4,
 "nbformat_minor": 5
}
